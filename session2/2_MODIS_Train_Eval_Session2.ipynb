{
  "cells": [
    {
      "cell_type": "markdown",
      "metadata": {
        "id": "okPSWKH_ZyZA"
      },
      "source": [
        "# Session 2 - Random Forest Training\n",
        "\n",
        "This is an introductory notebook to familiarize yourself with training and evaluation techniques for Machine Learning (ML). For this work, we will use data from the Moderate Resolution Imaging Spectroradiometer (MODIS) instrument  and a Random Forest algorithm to perform water classification. This same workflow can be adapted to other applications and by using other algorithms.\n",
        "\n",
        "The intent of this notebook is three-fold. First we will walk through the fundamentals of a Random Forest algorithm. Next,we will perform some training using the Random Forest algorithm. Finally, we will perform inference using the Random Forest algorith, and will include some metrics to analyze its performance. The entire work is done using the Python programming language and based on a dataset uploaded to Hugging Face.\n",
        "\n",
        "Author: Caleb S. Spradlin, Jordan A. Caraballo-Vega\n",
        "Release Date: 2023.04.08\n",
        "Last Modified: 2023.04.08\n",
        "\n",
        "## 1. Import Libraries\n",
        "\n",
        "In this section we import the Python libraries to use during the development of this notebook. The default Python kernel from Google Colab does not include all fo the packages we need, thus we proceed to install them via pip.\n"
      ]
    },
    {
      "cell_type": "code",
      "source": [
        "!pip install datasets"
      ],
      "metadata": {
        "colab": {
          "base_uri": "https://localhost:8080/"
        },
        "id": "NlROnMlHfRXn",
        "outputId": "48fe507d-553a-42d5-8da2-93a55303e041"
      },
      "execution_count": 1,
      "outputs": [
        {
          "output_type": "stream",
          "name": "stdout",
          "text": [
            "Looking in indexes: https://pypi.org/simple, https://us-python.pkg.dev/colab-wheels/public/simple/\n",
            "Collecting datasets\n",
            "  Downloading datasets-2.11.0-py3-none-any.whl (468 kB)\n",
            "\u001b[2K     \u001b[90m━━━━━━━━━━━━━━━━━━━━━━━━━━━━━━━━━━━━━━━\u001b[0m \u001b[32m468.7/468.7 kB\u001b[0m \u001b[31m6.0 MB/s\u001b[0m eta \u001b[36m0:00:00\u001b[0m\n",
            "\u001b[?25hRequirement already satisfied: pyyaml>=5.1 in /usr/local/lib/python3.9/dist-packages (from datasets) (6.0)\n",
            "Requirement already satisfied: requests>=2.19.0 in /usr/local/lib/python3.9/dist-packages (from datasets) (2.27.1)\n",
            "Collecting huggingface-hub<1.0.0,>=0.11.0\n",
            "  Downloading huggingface_hub-0.13.4-py3-none-any.whl (200 kB)\n",
            "\u001b[2K     \u001b[90m━━━━━━━━━━━━━━━━━━━━━━━━━━━━━━━━━━━━━━━\u001b[0m \u001b[32m200.1/200.1 kB\u001b[0m \u001b[31m8.8 MB/s\u001b[0m eta \u001b[36m0:00:00\u001b[0m\n",
            "\u001b[?25hCollecting responses<0.19\n",
            "  Downloading responses-0.18.0-py3-none-any.whl (38 kB)\n",
            "Collecting multiprocess\n",
            "  Downloading multiprocess-0.70.14-py39-none-any.whl (132 kB)\n",
            "\u001b[2K     \u001b[90m━━━━━━━━━━━━━━━━━━━━━━━━━━━━━━━━━━━━━━━\u001b[0m \u001b[32m132.9/132.9 kB\u001b[0m \u001b[31m4.3 MB/s\u001b[0m eta \u001b[36m0:00:00\u001b[0m\n",
            "\u001b[?25hCollecting dill<0.3.7,>=0.3.0\n",
            "  Downloading dill-0.3.6-py3-none-any.whl (110 kB)\n",
            "\u001b[2K     \u001b[90m━━━━━━━━━━━━━━━━━━━━━━━━━━━━━━━━━━━━━━━\u001b[0m \u001b[32m110.5/110.5 kB\u001b[0m \u001b[31m6.7 MB/s\u001b[0m eta \u001b[36m0:00:00\u001b[0m\n",
            "\u001b[?25hRequirement already satisfied: packaging in /usr/local/lib/python3.9/dist-packages (from datasets) (23.0)\n",
            "Requirement already satisfied: tqdm>=4.62.1 in /usr/local/lib/python3.9/dist-packages (from datasets) (4.65.0)\n",
            "Collecting xxhash\n",
            "  Downloading xxhash-3.2.0-cp39-cp39-manylinux_2_17_x86_64.manylinux2014_x86_64.whl (212 kB)\n",
            "\u001b[2K     \u001b[90m━━━━━━━━━━━━━━━━━━━━━━━━━━━━━━━━━━━━━━\u001b[0m \u001b[32m212.2/212.2 kB\u001b[0m \u001b[31m10.2 MB/s\u001b[0m eta \u001b[36m0:00:00\u001b[0m\n",
            "\u001b[?25hRequirement already satisfied: pandas in /usr/local/lib/python3.9/dist-packages (from datasets) (1.4.4)\n",
            "Requirement already satisfied: numpy>=1.17 in /usr/local/lib/python3.9/dist-packages (from datasets) (1.22.4)\n",
            "Requirement already satisfied: pyarrow>=8.0.0 in /usr/local/lib/python3.9/dist-packages (from datasets) (9.0.0)\n",
            "Requirement already satisfied: fsspec[http]>=2021.11.1 in /usr/local/lib/python3.9/dist-packages (from datasets) (2023.3.0)\n",
            "Collecting aiohttp\n",
            "  Downloading aiohttp-3.8.4-cp39-cp39-manylinux_2_17_x86_64.manylinux2014_x86_64.whl (1.0 MB)\n",
            "\u001b[2K     \u001b[90m━━━━━━━━━━━━━━━━━━━━━━━━━━━━━━━━━━━━━━━━\u001b[0m \u001b[32m1.0/1.0 MB\u001b[0m \u001b[31m13.7 MB/s\u001b[0m eta \u001b[36m0:00:00\u001b[0m\n",
            "\u001b[?25hRequirement already satisfied: attrs>=17.3.0 in /usr/local/lib/python3.9/dist-packages (from aiohttp->datasets) (22.2.0)\n",
            "Requirement already satisfied: charset-normalizer<4.0,>=2.0 in /usr/local/lib/python3.9/dist-packages (from aiohttp->datasets) (2.0.12)\n",
            "Collecting multidict<7.0,>=4.5\n",
            "  Downloading multidict-6.0.4-cp39-cp39-manylinux_2_17_x86_64.manylinux2014_x86_64.whl (114 kB)\n",
            "\u001b[2K     \u001b[90m━━━━━━━━━━━━━━━━━━━━━━━━━━━━━━━━━━━━━━━\u001b[0m \u001b[32m114.2/114.2 kB\u001b[0m \u001b[31m2.8 MB/s\u001b[0m eta \u001b[36m0:00:00\u001b[0m\n",
            "\u001b[?25hCollecting frozenlist>=1.1.1\n",
            "  Downloading frozenlist-1.3.3-cp39-cp39-manylinux_2_5_x86_64.manylinux1_x86_64.manylinux_2_17_x86_64.manylinux2014_x86_64.whl (158 kB)\n",
            "\u001b[2K     \u001b[90m━━━━━━━━━━━━━━━━━━━━━━━━━━━━━━━━━━━━━━━\u001b[0m \u001b[32m158.8/158.8 kB\u001b[0m \u001b[31m4.2 MB/s\u001b[0m eta \u001b[36m0:00:00\u001b[0m\n",
            "\u001b[?25hCollecting aiosignal>=1.1.2\n",
            "  Downloading aiosignal-1.3.1-py3-none-any.whl (7.6 kB)\n",
            "Collecting async-timeout<5.0,>=4.0.0a3\n",
            "  Downloading async_timeout-4.0.2-py3-none-any.whl (5.8 kB)\n",
            "Collecting yarl<2.0,>=1.0\n",
            "  Downloading yarl-1.8.2-cp39-cp39-manylinux_2_17_x86_64.manylinux2014_x86_64.whl (264 kB)\n",
            "\u001b[2K     \u001b[90m━━━━━━━━━━━━━━━━━━━━━━━━━━━━━━━━━━━━━━━\u001b[0m \u001b[32m264.6/264.6 kB\u001b[0m \u001b[31m8.6 MB/s\u001b[0m eta \u001b[36m0:00:00\u001b[0m\n",
            "\u001b[?25hRequirement already satisfied: typing-extensions>=3.7.4.3 in /usr/local/lib/python3.9/dist-packages (from huggingface-hub<1.0.0,>=0.11.0->datasets) (4.5.0)\n",
            "Requirement already satisfied: filelock in /usr/local/lib/python3.9/dist-packages (from huggingface-hub<1.0.0,>=0.11.0->datasets) (3.10.7)\n",
            "Requirement already satisfied: idna<4,>=2.5 in /usr/local/lib/python3.9/dist-packages (from requests>=2.19.0->datasets) (3.4)\n",
            "Requirement already satisfied: urllib3<1.27,>=1.21.1 in /usr/local/lib/python3.9/dist-packages (from requests>=2.19.0->datasets) (1.26.15)\n",
            "Requirement already satisfied: certifi>=2017.4.17 in /usr/local/lib/python3.9/dist-packages (from requests>=2.19.0->datasets) (2022.12.7)\n",
            "Requirement already satisfied: python-dateutil>=2.8.1 in /usr/local/lib/python3.9/dist-packages (from pandas->datasets) (2.8.2)\n",
            "Requirement already satisfied: pytz>=2020.1 in /usr/local/lib/python3.9/dist-packages (from pandas->datasets) (2022.7.1)\n",
            "Requirement already satisfied: six>=1.5 in /usr/local/lib/python3.9/dist-packages (from python-dateutil>=2.8.1->pandas->datasets) (1.16.0)\n",
            "Installing collected packages: xxhash, multidict, frozenlist, dill, async-timeout, yarl, responses, multiprocess, huggingface-hub, aiosignal, aiohttp, datasets\n",
            "Successfully installed aiohttp-3.8.4 aiosignal-1.3.1 async-timeout-4.0.2 datasets-2.11.0 dill-0.3.6 frozenlist-1.3.3 huggingface-hub-0.13.4 multidict-6.0.4 multiprocess-0.70.14 responses-0.18.0 xxhash-3.2.0 yarl-1.8.2\n"
          ]
        }
      ]
    },
    {
      "cell_type": "code",
      "execution_count": 2,
      "metadata": {
        "id": "IqWY6c4FZyZC"
      },
      "outputs": [],
      "source": [
        "import os\n",
        "import sys\n",
        "import csv\n",
        "import time\n",
        "import glob\n",
        "import joblib\n",
        "import datasets\n",
        "import datetime\n",
        "import numpy as np\n",
        "import pandas as pd\n",
        "from pathlib import Path\n",
        "from pprint import pprint\n",
        "\n",
        "from sklearn.ensemble import RandomForestClassifier as skRF\n",
        "from sklearn.metrics import confusion_matrix, accuracy_score, roc_auc_score\n",
        "from sklearn.metrics import classification_report, roc_curve, auc\n",
        "from sklearn.model_selection import train_test_split \n",
        "from sklearn.model_selection import RandomizedSearchCV, KFold\n",
        "from sklearn.inspection import permutation_importance\n",
        "\n",
        "# Visualization\n",
        "import seaborn as sns\n",
        "import matplotlib.pyplot as plt\n",
        "import warnings\n",
        "\n",
        "# Geospatial related imports\n",
        "from osgeo import gdalconst\n",
        "from osgeo import gdal\n",
        "\n",
        "plt.style.use('fivethirtyeight')\n",
        "warnings.filterwarnings('ignore')\n",
        "%matplotlib inline"
      ]
    },
    {
      "cell_type": "markdown",
      "source": [
        "## 2. Define General Variables\n",
        "In this section we define general variables to work with through this notebook. A description of each variable is listed below as a comment next to the variable definition."
      ],
      "metadata": {
        "id": "kKL3wMeWi88j"
      }
    },
    {
      "cell_type": "code",
      "execution_count": 3,
      "metadata": {
        "id": "YJ0DBUX5ZyZD"
      },
      "outputs": [],
      "source": [
        "# directory where we will output figures\n",
        "FIGURE_OUTPUT_DIR = 'output'\n",
        "\n",
        "# directory where we will output raster\n",
        "RASTER_OUTPUT_DIR = 'output'\n",
        "\n",
        "# directory where we will output our models\n",
        "MODEL_OUTPUT_DIR = 'models'\n",
        "\n",
        "# url of the dataset we will be using, this is a link to the Hugging Face repository\n",
        "# of this tutorial\n",
        "DATASET_URL = 'nasa-cisto-data-science-group/modis-lake-powell-toy-dataset'\n",
        "\n",
        "#qaMaskPath = 'qa'\n",
        "#waterMaskPath = 'v5_outputs'\n",
        "#test_data_basepath = 'test_data'\n",
        "#GPU = True\n",
        "#TILE = 'Golden'\n",
        "#MODEL = 'rf'\n",
        "\n",
        "# ratio of the dataset split for testing\n",
        "TEST_RATIO = 0.2\n",
        "\n",
        "# controls random seed for reproducibility\n",
        "RANDOM_STATE = 42\n",
        "\n",
        "# column name for label, in our case this will be a categorical value\n",
        "LABEL_NAME = 'water'\n",
        "\n",
        "# data type of the label, you would change this to something else if your\n",
        "# problem was for example a regression problem of type np.float32\n",
        "DATA_TYPE = np.int16\n",
        "\n",
        "# Columns that are offset, years, julian days, etc (always need to be dropped).\n",
        "offsets_indexes = ['x_offset', 'y_offset', 'year', 'julian_day', 'tileID']\n",
        "\n",
        "# columns not needed for training\n",
        "colsToDrop = ['x_offset', 'y_offset', 'year', 'julian_day']\n",
        "colsToDropTraining = colsToDrop.copy()\n",
        "colsToDropTraining.extend(offsets_indexes)\n",
        "\n",
        "# columns used as features during training\n",
        "v_names = ['sur_refl_b01_1','sur_refl_b02_1','sur_refl_b03_1',\n",
        "           'sur_refl_b04_1','sur_refl_b05_1','sur_refl_b06_1',\n",
        "           'sur_refl_b07_1','ndvi','ndwi1','ndwi2']"
      ]
    },
    {
      "cell_type": "markdown",
      "source": [
        "Here we create an output directory to store any artifacts out of our models and visualizations."
      ],
      "metadata": {
        "id": "9jtKmyg5j078"
      }
    },
    {
      "cell_type": "code",
      "source": [
        "os.makedirs(MODEL_OUTPUT_DIR, exist_ok=True)\n",
        "os.makedirs(FIGURE_OUTPUT_DIR, exist_ok=True)"
      ],
      "metadata": {
        "id": "kWXb-K5ugW8e"
      },
      "execution_count": 4,
      "outputs": []
    },
    {
      "cell_type": "markdown",
      "source": [
        "Output any columns we will need to drop for training\n",
        "\n"
      ],
      "metadata": {
        "id": "6zqgTYvckFAM"
      }
    },
    {
      "cell_type": "code",
      "execution_count": null,
      "metadata": {
        "colab": {
          "base_uri": "https://localhost:8080/"
        },
        "id": "G_V4UwJiZyZD",
        "outputId": "2ca7e0c0-1e8b-4927-b4f4-d9a3c7cfe640"
      },
      "outputs": [
        {
          "output_type": "execute_result",
          "data": {
            "text/plain": [
              "[]"
            ]
          },
          "metadata": {},
          "execution_count": 50
        }
      ],
      "source": [
        "colsToDrop"
      ]
    },
    {
      "cell_type": "code",
      "execution_count": null,
      "metadata": {
        "colab": {
          "base_uri": "https://localhost:8080/"
        },
        "id": "WAV1tPqsZyZE",
        "outputId": "95beafbc-b5cd-422f-f5f2-9d83380e3954"
      },
      "outputs": [
        {
          "output_type": "execute_result",
          "data": {
            "text/plain": [
              "['x_offset', 'y_offset', 'year', 'julian_day', 'tileID']"
            ]
          },
          "metadata": {},
          "execution_count": 51
        }
      ],
      "source": [
        "colsToDropTraining"
      ]
    },
    {
      "cell_type": "markdown",
      "metadata": {
        "id": "15X8TCdSZyZE"
      },
      "source": [
        "## 3. Data Loading\n",
        "\n",
        "In this section we will go ahead and load our data to analyze. We have extracted a tabular dataset from MODIS GeoTIFF files for the purpose of performing EDA. Here we will:\n",
        "\n",
        "- Read in data to a Dataframe\n",
        "- Drop unnecessary columns\n",
        "- Split into Xs and Ys"
      ]
    },
    {
      "cell_type": "code",
      "execution_count": 6,
      "metadata": {
        "colab": {
          "base_uri": "https://localhost:8080/",
          "height": 284,
          "referenced_widgets": [
            "21b5f7675aa54029bdc1f90f568f3c6d",
            "e250d3f8cdee4d4b898bc930314ab834",
            "83a351871b1e4d268b1d85a015d30728",
            "927c960546474d199c48019df1e47b4f",
            "ec9587e89258402989f855cd0351732d",
            "0082906f6b5543b081cb20552a9f01b1",
            "b131c9d5d8d540b09433b4c2125f239d",
            "235f875ccb44411ebb7448d8fc7fa796",
            "321fdc9ffa17406c80b04684ad89feb0",
            "b3e17cf099b74b9696231015e91db695",
            "862c488514e448eb8cba6e0110a97ccb",
            "357ec8c117cf47b5975f40c94d1932b9",
            "e713c8be20d541bbb9dbb3c17452436a",
            "cf17c5b73a734af2b20b4b24bb63f416",
            "b98ea88a0bfc4c40b5cbb9f3495de9a5",
            "249d63fea8754cf69b4919350dd77a90",
            "7b74b4dc0bc043e8bb8ac132967555be",
            "25373719c196494f9549a885c091d8e1",
            "9dd091f4301f4cd293ca866dfdfed523",
            "1b663205716148c98ef72e3afc3dd60f",
            "7b607a4eb75645f6bc9a4e5765166e5d",
            "ab2fa6570f93465993e71a4b417c479e",
            "f9d3121ab9f244eab625ca92ea0be961",
            "b0e315e2ada84777bfd978d3832eaab6",
            "b26fa67f5e4c4120993387b8b6643a85",
            "a4385b5b745a47a9aaacdb742c784353",
            "45a914dce6b54bf2800495b07b1a5a4c",
            "75053d7f5a194d468325797fb2f3bc03",
            "37d82139f07a4a03950a5d28516ee1e4",
            "8e3b91b182fa43fa9297f476f060d8e4",
            "0a628645f92f420982a1a3d89818ce5d",
            "c64421549f7040fabbb6ac961cc9dd4b",
            "f8fdb493fd2745ba8b70aad097536186",
            "01448a96b08d4c9b8fe92064f89bcf95",
            "9bb340a7a2024d52aa1f89d66a67c2b6",
            "86cecaf87f2141dcb3a921ce1858f1a3",
            "4c228b66059b4d008e2c6663ecb456ac",
            "345a939e492f4353bd852bc9848e5939",
            "b9de44086adc447a931dfbb45b72d7b9",
            "0a65924913d840f0ad390132e3f2bda2",
            "832779e1db78489a9400a1a0013f3401",
            "0dd6c12f70aa441da7772f18111872a2",
            "d8b3a8a6baee4a27a373dd59e890a56c",
            "0452abb59f864a26886fa3ccdc3bfd05",
            "8b69bd47a8d04e308c78592d2365eb54",
            "e7993aadc3d645b5a5813715d810a93e",
            "3c222b7116944bd1b17b67b48d0442a2",
            "b68f1fa666e0489bbd1ffc220b2c97af",
            "974be3ea4ded4240b755de90ece3d77f",
            "8bf5cb9d1b2148b9a3be5b1df92275a4",
            "15c9705d2e9f447abb2622c9e6340b7c",
            "eb29a2d0785744da8cf0773245dabbdf",
            "511ffd30db1845ecb40c8a088c26eef1",
            "9f71f0abb8b24cb5a796397714de4433",
            "359afce5643244568493a8e7a4493a1b",
            "18e1f5e6882b478aa3661d0eceafc29e",
            "d947910bcf28485989691e2a77e5581f",
            "fed20f35354d4c5e9a8dfd241cc0a369",
            "b192ff2343d646c8bcfc1a7389ae32ab",
            "406151413afd4e0b955e8f88a720137f",
            "76077652a88849e3a75667a5e8a4d180",
            "30b38e612aeb46c1a370f907d2e2b26e",
            "8f93b6cc7bc6489bb3925342ccb30d3e",
            "e78d67b239224c32aad10805abb924e7",
            "8b120b57936f4f09a0a75d3a1245bd26",
            "67083a037e6940eab6e88322f82e6294",
            "7accafd3c0ff4e8c97d848b99fe9f249",
            "e337d5757018457e82c67cfb107a4f8d",
            "9343fad97aa44664a9ceed49dfd07f8c",
            "56f455f567cf4b9db144a00c907968a7",
            "06c73dc78810467a8ddcc69a563be485",
            "25598ec84915440f99c5a1f9f81111f4",
            "69cf2d1b119646a3b0e95c993ab578bf",
            "215b6a181f7348e79ca1afb42b5f143e",
            "8813506c728b4b1b8ef2081e0c18a74b",
            "6623ee59bbbe4c64bb4d9201561d7e81",
            "806ec1421d1145a38160b2856e5a1923"
          ]
        },
        "id": "3QK6H5B9ZyZF",
        "outputId": "4dfde3d9-5db3-488e-c3d5-e37f36f8052b"
      },
      "outputs": [
        {
          "output_type": "display_data",
          "data": {
            "text/plain": [
              "Downloading readme:   0%|          | 0.00/1.43k [00:00<?, ?B/s]"
            ],
            "application/vnd.jupyter.widget-view+json": {
              "version_major": 2,
              "version_minor": 0,
              "model_id": "21b5f7675aa54029bdc1f90f568f3c6d"
            }
          },
          "metadata": {}
        },
        {
          "output_type": "stream",
          "name": "stdout",
          "text": [
            "Downloading and preparing dataset csv/nasa-cisto-data-science-group--modis-lake-powell-toy-dataset to /root/.cache/huggingface/datasets/nasa-cisto-data-science-group___csv/nasa-cisto-data-science-group--modis-lake-powell-toy-dataset-f7d76bc70ba9ef34/0.0.0/6954658bab30a358235fa864b05cf819af0e179325c740e4bc853bcc7ec513e1...\n"
          ]
        },
        {
          "output_type": "display_data",
          "data": {
            "text/plain": [
              "Downloading data files:   0%|          | 0/2 [00:00<?, ?it/s]"
            ],
            "application/vnd.jupyter.widget-view+json": {
              "version_major": 2,
              "version_minor": 0,
              "model_id": "357ec8c117cf47b5975f40c94d1932b9"
            }
          },
          "metadata": {}
        },
        {
          "output_type": "display_data",
          "data": {
            "text/plain": [
              "Downloading data:   0%|          | 0.00/39.4k [00:00<?, ?B/s]"
            ],
            "application/vnd.jupyter.widget-view+json": {
              "version_major": 2,
              "version_minor": 0,
              "model_id": "f9d3121ab9f244eab625ca92ea0be961"
            }
          },
          "metadata": {}
        },
        {
          "output_type": "display_data",
          "data": {
            "text/plain": [
              "Downloading data:   0%|          | 0.00/9.94k [00:00<?, ?B/s]"
            ],
            "application/vnd.jupyter.widget-view+json": {
              "version_major": 2,
              "version_minor": 0,
              "model_id": "01448a96b08d4c9b8fe92064f89bcf95"
            }
          },
          "metadata": {}
        },
        {
          "output_type": "display_data",
          "data": {
            "text/plain": [
              "Extracting data files:   0%|          | 0/2 [00:00<?, ?it/s]"
            ],
            "application/vnd.jupyter.widget-view+json": {
              "version_major": 2,
              "version_minor": 0,
              "model_id": "8b69bd47a8d04e308c78592d2365eb54"
            }
          },
          "metadata": {}
        },
        {
          "output_type": "display_data",
          "data": {
            "text/plain": [
              "Generating train split: 0 examples [00:00, ? examples/s]"
            ],
            "application/vnd.jupyter.widget-view+json": {
              "version_major": 2,
              "version_minor": 0,
              "model_id": "18e1f5e6882b478aa3661d0eceafc29e"
            }
          },
          "metadata": {}
        },
        {
          "output_type": "display_data",
          "data": {
            "text/plain": [
              "Generating test split: 0 examples [00:00, ? examples/s]"
            ],
            "application/vnd.jupyter.widget-view+json": {
              "version_major": 2,
              "version_minor": 0,
              "model_id": "7accafd3c0ff4e8c97d848b99fe9f249"
            }
          },
          "metadata": {}
        },
        {
          "output_type": "stream",
          "name": "stdout",
          "text": [
            "Dataset csv downloaded and prepared to /root/.cache/huggingface/datasets/nasa-cisto-data-science-group___csv/nasa-cisto-data-science-group--modis-lake-powell-toy-dataset-f7d76bc70ba9ef34/0.0.0/6954658bab30a358235fa864b05cf819af0e179325c740e4bc853bcc7ec513e1. Subsequent calls will reuse this data.\n"
          ]
        },
        {
          "output_type": "stream",
          "name": "stderr",
          "text": [
            "WARNING:datasets.builder:Found cached dataset csv (/root/.cache/huggingface/datasets/nasa-cisto-data-science-group___csv/nasa-cisto-data-science-group--modis-lake-powell-toy-dataset-f7d76bc70ba9ef34/0.0.0/6954658bab30a358235fa864b05cf819af0e179325c740e4bc853bcc7ec513e1)\n"
          ]
        },
        {
          "output_type": "stream",
          "name": "stdout",
          "text": [
            "CPU times: user 740 ms, sys: 49.7 ms, total: 789 ms\n",
            "Wall time: 2.79 s\n"
          ]
        }
      ],
      "source": [
        "%%time\n",
        "train_dataset = pd.DataFrame(datasets.load_dataset(DATASET_URL, split='train'))\n",
        "test_dataset = pd.DataFrame(datasets.load_dataset(DATASET_URL, split='test'))"
      ]
    },
    {
      "cell_type": "markdown",
      "source": [
        "After we download our dataset, we proceed to split it into training and test set. Note how the water column is set as the y feature and is dropped from the X features."
      ],
      "metadata": {
        "id": "RrneXHDVkcPv"
      }
    },
    {
      "cell_type": "code",
      "source": [
        "X_train, y_train = train_dataset.drop(['water'], axis=1), train_dataset['water']\n",
        "X_test, y_test = test_dataset.drop(['water'], axis=1), test_dataset['water']\n",
        "X_train.shape, X_test.shape"
      ],
      "metadata": {
        "id": "kULPzAP7kbiQ",
        "outputId": "56bc2c42-35e3-4c04-93fc-8a233973dcd3",
        "colab": {
          "base_uri": "https://localhost:8080/"
        }
      },
      "execution_count": 7,
      "outputs": [
        {
          "output_type": "execute_result",
          "data": {
            "text/plain": [
              "((800, 10), (200, 10))"
            ]
          },
          "metadata": {},
          "execution_count": 7
        }
      ]
    },
    {
      "cell_type": "markdown",
      "source": [
        "For this exercise we have downloaded our data directly from Hugging Face where we already had made the split between training and test. However, how would you do it if your dataset was not splitted already?\n",
        "\n",
        "One way to achieve this is by using the train_test_split function from sckit-learn to directly split these features into train and test set. Here we take an example 800 rows dataset and split it into training and test sets:"
      ],
      "metadata": {
        "id": "t7-VYZ3akp6Y"
      }
    },
    {
      "cell_type": "code",
      "source": [
        "X_train, X_test, y_train, y_test = train_test_split(\n",
        "    train_dataset.drop(['water'], axis='columns'),\n",
        "    train_dataset['water'],\n",
        "    random_state=RANDOM_STATE,\n",
        "    train_size=0.80,\n",
        ")"
      ],
      "metadata": {
        "id": "VJhrxVsekWeQ"
      },
      "execution_count": 8,
      "outputs": []
    },
    {
      "cell_type": "markdown",
      "source": [
        "Lets look at the distribution of our classes after the split:"
      ],
      "metadata": {
        "id": "H0IFtXxblodl"
      }
    },
    {
      "cell_type": "code",
      "source": [
        "y_train.value_counts(), y_test.value_counts()"
      ],
      "metadata": {
        "id": "9CooH97DlxSZ",
        "outputId": "512ee817-c728-406f-b5a9-29c9e52899e9",
        "colab": {
          "base_uri": "https://localhost:8080/"
        }
      },
      "execution_count": 9,
      "outputs": [
        {
          "output_type": "execute_result",
          "data": {
            "text/plain": [
              "(1    322\n",
              " 0    318\n",
              " Name: water, dtype: int64,\n",
              " 1    83\n",
              " 0    77\n",
              " Name: water, dtype: int64)"
            ]
          },
          "metadata": {},
          "execution_count": 9
        }
      ]
    },
    {
      "cell_type": "markdown",
      "source": [
        "The distribution of the training and test features are close to 50% water and 50% not-water on each. scikit-learn train_test_split() provides another parameter where the stratification of the test dataset is forced to match the one of the training dataset."
      ],
      "metadata": {
        "id": "_j5WIAJelvOy"
      }
    },
    {
      "cell_type": "code",
      "source": [
        "X_train, X_test, y_train, y_test = train_test_split(\n",
        "    train_dataset.drop(['water'], axis='columns'),\n",
        "    train_dataset['water'],\n",
        "    random_state=RANDOM_STATE,\n",
        "    train_size=0.70,\n",
        "    stratify=train_dataset['water']  # TODO: double check what this means\n",
        ")"
      ],
      "metadata": {
        "id": "kRgqb83clWXW"
      },
      "execution_count": 11,
      "outputs": []
    },
    {
      "cell_type": "code",
      "source": [
        "y_train.value_counts(), y_test.value_counts()"
      ],
      "metadata": {
        "id": "M9IV5hC1mZC9",
        "outputId": "cd65a442-c834-414a-c4df-a3560627a96b",
        "colab": {
          "base_uri": "https://localhost:8080/"
        }
      },
      "execution_count": 12,
      "outputs": [
        {
          "output_type": "execute_result",
          "data": {
            "text/plain": [
              "(1    284\n",
              " 0    276\n",
              " Name: water, dtype: int64,\n",
              " 1    121\n",
              " 0    119\n",
              " Name: water, dtype: int64)"
            ]
          },
          "metadata": {},
          "execution_count": 12
        }
      ]
    },
    {
      "cell_type": "markdown",
      "source": [
        "Note how we now have a larger number of test samples, and smaller number of training samples. Which one to choose will depend on the problem you have in hand.\n",
        "\n",
        "## 4. Training Preparation\n",
        "\n",
        "Once we have our training and test data ready, we proceed to prepare for training our model. One technique often used to better validate the robustness of a machine learning model is K-fold cross validation.\n",
        "\n",
        "Cross-validation is a statistical method used to estimate the skill of machine learning models. When using k-fold, the dataset is split into ‘k’ number of subsets, k-1 subsets then are used to train the model and the last subset is kept as a validation set to test the model. Then the score of the model on each fold is averaged to evaluate the performance of the model.\n",
        "\n",
        "sckit-learn provides a useful feature to quickly setup these experiments. A K of 10 has been described by literature as the most effective value to decrease variance and nominally test performance. In this example, we will use a value of K = 5 for time purposes."
      ],
      "metadata": {
        "id": "ob_eY2l5nFsT"
      }
    },
    {
      "cell_type": "code",
      "source": [
        "kf = KFold(n_splits=5)\n",
        "kf.get_n_splits(X_train)"
      ],
      "metadata": {
        "colab": {
          "base_uri": "https://localhost:8080/"
        },
        "id": "kgKalXdCersM",
        "outputId": "7d58126d-9ecf-41ac-acea-7701fba83bd5"
      },
      "execution_count": 13,
      "outputs": [
        {
          "output_type": "execute_result",
          "data": {
            "text/plain": [
              "5"
            ]
          },
          "metadata": {},
          "execution_count": 13
        }
      ]
    },
    {
      "cell_type": "code",
      "execution_count": 14,
      "metadata": {
        "colab": {
          "base_uri": "https://localhost:8080/"
        },
        "id": "7sr0ED3jZyZF",
        "outputId": "78385162-9efa-4e5c-f722-224760b7dfc7"
      },
      "outputs": [
        {
          "output_type": "stream",
          "name": "stdout",
          "text": [
            "sur_refl_b01_1\n",
            "sur_refl_b02_1\n",
            "sur_refl_b03_1\n",
            "sur_refl_b04_1\n",
            "sur_refl_b05_1\n",
            "sur_refl_b06_1\n",
            "sur_refl_b07_1\n",
            "ndvi\n",
            "ndwi1\n",
            "ndwi2\n"
          ]
        }
      ],
      "source": [
        "_ = [print(column) for column in X_train.columns]"
      ]
    },
    {
      "cell_type": "markdown",
      "source": [
        "Like we did in the first exercise of this Session, we can look at some of the features of the data before proceeding to train."
      ],
      "metadata": {
        "id": "jEcerzamopqX"
      }
    },
    {
      "cell_type": "code",
      "execution_count": 15,
      "metadata": {
        "colab": {
          "base_uri": "https://localhost:8080/",
          "height": 363
        },
        "id": "DB_kwYEVZyZF",
        "outputId": "c9f7abce-0a9e-4021-fc8a-a339a88441a9"
      },
      "outputs": [
        {
          "output_type": "execute_result",
          "data": {
            "text/plain": [
              "                count         mean          std     min      25%     50%  \\\n",
              "sur_refl_b01_1  560.0  1204.898214  1258.518881    15.0   234.50   899.5   \n",
              "sur_refl_b02_1  560.0  1568.241071  1526.138500     1.0   165.25  1429.0   \n",
              "sur_refl_b03_1  560.0   747.867857   982.646604  -100.0   288.00   555.0   \n",
              "sur_refl_b04_1  560.0  1028.750000  1042.995031     6.0   404.75   813.0   \n",
              "sur_refl_b05_1  560.0  1947.705357  1440.492111   -92.0   557.75  1802.5   \n",
              "sur_refl_b06_1  560.0  1912.583929  1519.511426    51.0   514.25  1459.5   \n",
              "sur_refl_b07_1  560.0  1570.451786  1373.370210     5.0   320.75  1192.5   \n",
              "ndvi            560.0    65.605357  2546.290592 -9493.0 -1630.50   712.5   \n",
              "ndwi1           560.0 -2338.526786  3451.658914 -9862.0 -4629.25 -1547.5   \n",
              "ndwi2           560.0 -1005.717857  3793.531161 -9692.0 -2856.00  -695.0   \n",
              "\n",
              "                    75%     max  \n",
              "sur_refl_b01_1  1882.00  9045.0  \n",
              "sur_refl_b02_1  2662.25  8795.0  \n",
              "sur_refl_b03_1   860.00  8844.0  \n",
              "sur_refl_b04_1  1320.00  9056.0  \n",
              "sur_refl_b05_1  3178.50  6382.0  \n",
              "sur_refl_b06_1  3196.00  6610.0  \n",
              "sur_refl_b07_1  2657.75  6128.0  \n",
              "ndvi            1721.75  8587.0  \n",
              "ndwi1           -715.75  8823.0  \n",
              "ndwi2            798.75  9453.0  "
            ],
            "text/html": [
              "\n",
              "  <div id=\"df-931ba8bc-d7af-4073-a7cc-63acba2f5dd3\">\n",
              "    <div class=\"colab-df-container\">\n",
              "      <div>\n",
              "<style scoped>\n",
              "    .dataframe tbody tr th:only-of-type {\n",
              "        vertical-align: middle;\n",
              "    }\n",
              "\n",
              "    .dataframe tbody tr th {\n",
              "        vertical-align: top;\n",
              "    }\n",
              "\n",
              "    .dataframe thead th {\n",
              "        text-align: right;\n",
              "    }\n",
              "</style>\n",
              "<table border=\"1\" class=\"dataframe\">\n",
              "  <thead>\n",
              "    <tr style=\"text-align: right;\">\n",
              "      <th></th>\n",
              "      <th>count</th>\n",
              "      <th>mean</th>\n",
              "      <th>std</th>\n",
              "      <th>min</th>\n",
              "      <th>25%</th>\n",
              "      <th>50%</th>\n",
              "      <th>75%</th>\n",
              "      <th>max</th>\n",
              "    </tr>\n",
              "  </thead>\n",
              "  <tbody>\n",
              "    <tr>\n",
              "      <th>sur_refl_b01_1</th>\n",
              "      <td>560.0</td>\n",
              "      <td>1204.898214</td>\n",
              "      <td>1258.518881</td>\n",
              "      <td>15.0</td>\n",
              "      <td>234.50</td>\n",
              "      <td>899.5</td>\n",
              "      <td>1882.00</td>\n",
              "      <td>9045.0</td>\n",
              "    </tr>\n",
              "    <tr>\n",
              "      <th>sur_refl_b02_1</th>\n",
              "      <td>560.0</td>\n",
              "      <td>1568.241071</td>\n",
              "      <td>1526.138500</td>\n",
              "      <td>1.0</td>\n",
              "      <td>165.25</td>\n",
              "      <td>1429.0</td>\n",
              "      <td>2662.25</td>\n",
              "      <td>8795.0</td>\n",
              "    </tr>\n",
              "    <tr>\n",
              "      <th>sur_refl_b03_1</th>\n",
              "      <td>560.0</td>\n",
              "      <td>747.867857</td>\n",
              "      <td>982.646604</td>\n",
              "      <td>-100.0</td>\n",
              "      <td>288.00</td>\n",
              "      <td>555.0</td>\n",
              "      <td>860.00</td>\n",
              "      <td>8844.0</td>\n",
              "    </tr>\n",
              "    <tr>\n",
              "      <th>sur_refl_b04_1</th>\n",
              "      <td>560.0</td>\n",
              "      <td>1028.750000</td>\n",
              "      <td>1042.995031</td>\n",
              "      <td>6.0</td>\n",
              "      <td>404.75</td>\n",
              "      <td>813.0</td>\n",
              "      <td>1320.00</td>\n",
              "      <td>9056.0</td>\n",
              "    </tr>\n",
              "    <tr>\n",
              "      <th>sur_refl_b05_1</th>\n",
              "      <td>560.0</td>\n",
              "      <td>1947.705357</td>\n",
              "      <td>1440.492111</td>\n",
              "      <td>-92.0</td>\n",
              "      <td>557.75</td>\n",
              "      <td>1802.5</td>\n",
              "      <td>3178.50</td>\n",
              "      <td>6382.0</td>\n",
              "    </tr>\n",
              "    <tr>\n",
              "      <th>sur_refl_b06_1</th>\n",
              "      <td>560.0</td>\n",
              "      <td>1912.583929</td>\n",
              "      <td>1519.511426</td>\n",
              "      <td>51.0</td>\n",
              "      <td>514.25</td>\n",
              "      <td>1459.5</td>\n",
              "      <td>3196.00</td>\n",
              "      <td>6610.0</td>\n",
              "    </tr>\n",
              "    <tr>\n",
              "      <th>sur_refl_b07_1</th>\n",
              "      <td>560.0</td>\n",
              "      <td>1570.451786</td>\n",
              "      <td>1373.370210</td>\n",
              "      <td>5.0</td>\n",
              "      <td>320.75</td>\n",
              "      <td>1192.5</td>\n",
              "      <td>2657.75</td>\n",
              "      <td>6128.0</td>\n",
              "    </tr>\n",
              "    <tr>\n",
              "      <th>ndvi</th>\n",
              "      <td>560.0</td>\n",
              "      <td>65.605357</td>\n",
              "      <td>2546.290592</td>\n",
              "      <td>-9493.0</td>\n",
              "      <td>-1630.50</td>\n",
              "      <td>712.5</td>\n",
              "      <td>1721.75</td>\n",
              "      <td>8587.0</td>\n",
              "    </tr>\n",
              "    <tr>\n",
              "      <th>ndwi1</th>\n",
              "      <td>560.0</td>\n",
              "      <td>-2338.526786</td>\n",
              "      <td>3451.658914</td>\n",
              "      <td>-9862.0</td>\n",
              "      <td>-4629.25</td>\n",
              "      <td>-1547.5</td>\n",
              "      <td>-715.75</td>\n",
              "      <td>8823.0</td>\n",
              "    </tr>\n",
              "    <tr>\n",
              "      <th>ndwi2</th>\n",
              "      <td>560.0</td>\n",
              "      <td>-1005.717857</td>\n",
              "      <td>3793.531161</td>\n",
              "      <td>-9692.0</td>\n",
              "      <td>-2856.00</td>\n",
              "      <td>-695.0</td>\n",
              "      <td>798.75</td>\n",
              "      <td>9453.0</td>\n",
              "    </tr>\n",
              "  </tbody>\n",
              "</table>\n",
              "</div>\n",
              "      <button class=\"colab-df-convert\" onclick=\"convertToInteractive('df-931ba8bc-d7af-4073-a7cc-63acba2f5dd3')\"\n",
              "              title=\"Convert this dataframe to an interactive table.\"\n",
              "              style=\"display:none;\">\n",
              "        \n",
              "  <svg xmlns=\"http://www.w3.org/2000/svg\" height=\"24px\"viewBox=\"0 0 24 24\"\n",
              "       width=\"24px\">\n",
              "    <path d=\"M0 0h24v24H0V0z\" fill=\"none\"/>\n",
              "    <path d=\"M18.56 5.44l.94 2.06.94-2.06 2.06-.94-2.06-.94-.94-2.06-.94 2.06-2.06.94zm-11 1L8.5 8.5l.94-2.06 2.06-.94-2.06-.94L8.5 2.5l-.94 2.06-2.06.94zm10 10l.94 2.06.94-2.06 2.06-.94-2.06-.94-.94-2.06-.94 2.06-2.06.94z\"/><path d=\"M17.41 7.96l-1.37-1.37c-.4-.4-.92-.59-1.43-.59-.52 0-1.04.2-1.43.59L10.3 9.45l-7.72 7.72c-.78.78-.78 2.05 0 2.83L4 21.41c.39.39.9.59 1.41.59.51 0 1.02-.2 1.41-.59l7.78-7.78 2.81-2.81c.8-.78.8-2.07 0-2.86zM5.41 20L4 18.59l7.72-7.72 1.47 1.35L5.41 20z\"/>\n",
              "  </svg>\n",
              "      </button>\n",
              "      \n",
              "  <style>\n",
              "    .colab-df-container {\n",
              "      display:flex;\n",
              "      flex-wrap:wrap;\n",
              "      gap: 12px;\n",
              "    }\n",
              "\n",
              "    .colab-df-convert {\n",
              "      background-color: #E8F0FE;\n",
              "      border: none;\n",
              "      border-radius: 50%;\n",
              "      cursor: pointer;\n",
              "      display: none;\n",
              "      fill: #1967D2;\n",
              "      height: 32px;\n",
              "      padding: 0 0 0 0;\n",
              "      width: 32px;\n",
              "    }\n",
              "\n",
              "    .colab-df-convert:hover {\n",
              "      background-color: #E2EBFA;\n",
              "      box-shadow: 0px 1px 2px rgba(60, 64, 67, 0.3), 0px 1px 3px 1px rgba(60, 64, 67, 0.15);\n",
              "      fill: #174EA6;\n",
              "    }\n",
              "\n",
              "    [theme=dark] .colab-df-convert {\n",
              "      background-color: #3B4455;\n",
              "      fill: #D2E3FC;\n",
              "    }\n",
              "\n",
              "    [theme=dark] .colab-df-convert:hover {\n",
              "      background-color: #434B5C;\n",
              "      box-shadow: 0px 1px 3px 1px rgba(0, 0, 0, 0.15);\n",
              "      filter: drop-shadow(0px 1px 2px rgba(0, 0, 0, 0.3));\n",
              "      fill: #FFFFFF;\n",
              "    }\n",
              "  </style>\n",
              "\n",
              "      <script>\n",
              "        const buttonEl =\n",
              "          document.querySelector('#df-931ba8bc-d7af-4073-a7cc-63acba2f5dd3 button.colab-df-convert');\n",
              "        buttonEl.style.display =\n",
              "          google.colab.kernel.accessAllowed ? 'block' : 'none';\n",
              "\n",
              "        async function convertToInteractive(key) {\n",
              "          const element = document.querySelector('#df-931ba8bc-d7af-4073-a7cc-63acba2f5dd3');\n",
              "          const dataTable =\n",
              "            await google.colab.kernel.invokeFunction('convertToInteractive',\n",
              "                                                     [key], {});\n",
              "          if (!dataTable) return;\n",
              "\n",
              "          const docLinkHtml = 'Like what you see? Visit the ' +\n",
              "            '<a target=\"_blank\" href=https://colab.research.google.com/notebooks/data_table.ipynb>data table notebook</a>'\n",
              "            + ' to learn more about interactive tables.';\n",
              "          element.innerHTML = '';\n",
              "          dataTable['output_type'] = 'display_data';\n",
              "          await google.colab.output.renderOutput(dataTable, element);\n",
              "          const docLink = document.createElement('div');\n",
              "          docLink.innerHTML = docLinkHtml;\n",
              "          element.appendChild(docLink);\n",
              "        }\n",
              "      </script>\n",
              "    </div>\n",
              "  </div>\n",
              "  "
            ]
          },
          "metadata": {},
          "execution_count": 15
        }
      ],
      "source": [
        "X_train.describe().T"
      ]
    },
    {
      "cell_type": "markdown",
      "source": [
        "We can also use thresholding methods based on our physical knowledge to extract interesting features of outliers that we might want to visualize later when evaluating the model."
      ],
      "metadata": {
        "id": "FxITjdO9ox6Q"
      }
    },
    {
      "cell_type": "code",
      "execution_count": 16,
      "metadata": {
        "id": "KGz4mYurZyZF"
      },
      "outputs": [],
      "source": [
        "def output_interesting_idx(df, column, threshold, greaterThan=True):\n",
        "    dfToReturn = df[df[column] > threshold] if \\\n",
        "        greaterThan else df[df[column] < threshold]\n",
        "    return dfToReturn"
      ]
    },
    {
      "cell_type": "code",
      "execution_count": 17,
      "metadata": {
        "colab": {
          "base_uri": "https://localhost:8080/",
          "height": 424
        },
        "id": "UllNw7ZjZyZF",
        "outputId": "50ce4ab0-aacd-4155-a416-7dedc72ff401"
      },
      "outputs": [
        {
          "output_type": "execute_result",
          "data": {
            "text/plain": [
              "     sur_refl_b01_1  sur_refl_b02_1  sur_refl_b03_1  sur_refl_b04_1  \\\n",
              "770            1798            2465             755            1229   \n",
              "167            1895            2769             850            1372   \n",
              "371            1737            2362             558             911   \n",
              "357            1828            2525             972            1412   \n",
              "173            1987            2906            1063            1638   \n",
              "..              ...             ...             ...             ...   \n",
              "187            2511            3490             857            1419   \n",
              "449             940            2034             405             669   \n",
              "794            2214            3229             877            1384   \n",
              "76             2099            3118             552            1313   \n",
              "189            2650            3409            1215            2123   \n",
              "\n",
              "     sur_refl_b05_1  sur_refl_b06_1  sur_refl_b07_1  ndvi  ndwi1  ndwi2  \n",
              "770            3201            3397            2891  1564  -1589   -795  \n",
              "167            3679            3569            2852  1873  -1262   -147  \n",
              "371            3049            3448            3067  1524  -1869  -1298  \n",
              "357            3092            3299            2829  1601  -1328   -567  \n",
              "173            3462            3842            3351  1878  -1387   -711  \n",
              "..              ...             ...             ...   ...    ...    ...  \n",
              "187            4525            4825            4148  1631  -1605   -861  \n",
              "449            2291            2114            1533  3678   -192   1404  \n",
              "794            3575            3278            2754  1864    -75    793  \n",
              "76             3676            3994            3080  1953  -1231     61  \n",
              "189            4102            4495            3979  1252  -1373   -771  \n",
              "\n",
              "[257 rows x 10 columns]"
            ],
            "text/html": [
              "\n",
              "  <div id=\"df-ae66a873-e19b-4127-982d-e804eaeff35f\">\n",
              "    <div class=\"colab-df-container\">\n",
              "      <div>\n",
              "<style scoped>\n",
              "    .dataframe tbody tr th:only-of-type {\n",
              "        vertical-align: middle;\n",
              "    }\n",
              "\n",
              "    .dataframe tbody tr th {\n",
              "        vertical-align: top;\n",
              "    }\n",
              "\n",
              "    .dataframe thead th {\n",
              "        text-align: right;\n",
              "    }\n",
              "</style>\n",
              "<table border=\"1\" class=\"dataframe\">\n",
              "  <thead>\n",
              "    <tr style=\"text-align: right;\">\n",
              "      <th></th>\n",
              "      <th>sur_refl_b01_1</th>\n",
              "      <th>sur_refl_b02_1</th>\n",
              "      <th>sur_refl_b03_1</th>\n",
              "      <th>sur_refl_b04_1</th>\n",
              "      <th>sur_refl_b05_1</th>\n",
              "      <th>sur_refl_b06_1</th>\n",
              "      <th>sur_refl_b07_1</th>\n",
              "      <th>ndvi</th>\n",
              "      <th>ndwi1</th>\n",
              "      <th>ndwi2</th>\n",
              "    </tr>\n",
              "  </thead>\n",
              "  <tbody>\n",
              "    <tr>\n",
              "      <th>770</th>\n",
              "      <td>1798</td>\n",
              "      <td>2465</td>\n",
              "      <td>755</td>\n",
              "      <td>1229</td>\n",
              "      <td>3201</td>\n",
              "      <td>3397</td>\n",
              "      <td>2891</td>\n",
              "      <td>1564</td>\n",
              "      <td>-1589</td>\n",
              "      <td>-795</td>\n",
              "    </tr>\n",
              "    <tr>\n",
              "      <th>167</th>\n",
              "      <td>1895</td>\n",
              "      <td>2769</td>\n",
              "      <td>850</td>\n",
              "      <td>1372</td>\n",
              "      <td>3679</td>\n",
              "      <td>3569</td>\n",
              "      <td>2852</td>\n",
              "      <td>1873</td>\n",
              "      <td>-1262</td>\n",
              "      <td>-147</td>\n",
              "    </tr>\n",
              "    <tr>\n",
              "      <th>371</th>\n",
              "      <td>1737</td>\n",
              "      <td>2362</td>\n",
              "      <td>558</td>\n",
              "      <td>911</td>\n",
              "      <td>3049</td>\n",
              "      <td>3448</td>\n",
              "      <td>3067</td>\n",
              "      <td>1524</td>\n",
              "      <td>-1869</td>\n",
              "      <td>-1298</td>\n",
              "    </tr>\n",
              "    <tr>\n",
              "      <th>357</th>\n",
              "      <td>1828</td>\n",
              "      <td>2525</td>\n",
              "      <td>972</td>\n",
              "      <td>1412</td>\n",
              "      <td>3092</td>\n",
              "      <td>3299</td>\n",
              "      <td>2829</td>\n",
              "      <td>1601</td>\n",
              "      <td>-1328</td>\n",
              "      <td>-567</td>\n",
              "    </tr>\n",
              "    <tr>\n",
              "      <th>173</th>\n",
              "      <td>1987</td>\n",
              "      <td>2906</td>\n",
              "      <td>1063</td>\n",
              "      <td>1638</td>\n",
              "      <td>3462</td>\n",
              "      <td>3842</td>\n",
              "      <td>3351</td>\n",
              "      <td>1878</td>\n",
              "      <td>-1387</td>\n",
              "      <td>-711</td>\n",
              "    </tr>\n",
              "    <tr>\n",
              "      <th>...</th>\n",
              "      <td>...</td>\n",
              "      <td>...</td>\n",
              "      <td>...</td>\n",
              "      <td>...</td>\n",
              "      <td>...</td>\n",
              "      <td>...</td>\n",
              "      <td>...</td>\n",
              "      <td>...</td>\n",
              "      <td>...</td>\n",
              "      <td>...</td>\n",
              "    </tr>\n",
              "    <tr>\n",
              "      <th>187</th>\n",
              "      <td>2511</td>\n",
              "      <td>3490</td>\n",
              "      <td>857</td>\n",
              "      <td>1419</td>\n",
              "      <td>4525</td>\n",
              "      <td>4825</td>\n",
              "      <td>4148</td>\n",
              "      <td>1631</td>\n",
              "      <td>-1605</td>\n",
              "      <td>-861</td>\n",
              "    </tr>\n",
              "    <tr>\n",
              "      <th>449</th>\n",
              "      <td>940</td>\n",
              "      <td>2034</td>\n",
              "      <td>405</td>\n",
              "      <td>669</td>\n",
              "      <td>2291</td>\n",
              "      <td>2114</td>\n",
              "      <td>1533</td>\n",
              "      <td>3678</td>\n",
              "      <td>-192</td>\n",
              "      <td>1404</td>\n",
              "    </tr>\n",
              "    <tr>\n",
              "      <th>794</th>\n",
              "      <td>2214</td>\n",
              "      <td>3229</td>\n",
              "      <td>877</td>\n",
              "      <td>1384</td>\n",
              "      <td>3575</td>\n",
              "      <td>3278</td>\n",
              "      <td>2754</td>\n",
              "      <td>1864</td>\n",
              "      <td>-75</td>\n",
              "      <td>793</td>\n",
              "    </tr>\n",
              "    <tr>\n",
              "      <th>76</th>\n",
              "      <td>2099</td>\n",
              "      <td>3118</td>\n",
              "      <td>552</td>\n",
              "      <td>1313</td>\n",
              "      <td>3676</td>\n",
              "      <td>3994</td>\n",
              "      <td>3080</td>\n",
              "      <td>1953</td>\n",
              "      <td>-1231</td>\n",
              "      <td>61</td>\n",
              "    </tr>\n",
              "    <tr>\n",
              "      <th>189</th>\n",
              "      <td>2650</td>\n",
              "      <td>3409</td>\n",
              "      <td>1215</td>\n",
              "      <td>2123</td>\n",
              "      <td>4102</td>\n",
              "      <td>4495</td>\n",
              "      <td>3979</td>\n",
              "      <td>1252</td>\n",
              "      <td>-1373</td>\n",
              "      <td>-771</td>\n",
              "    </tr>\n",
              "  </tbody>\n",
              "</table>\n",
              "<p>257 rows × 10 columns</p>\n",
              "</div>\n",
              "      <button class=\"colab-df-convert\" onclick=\"convertToInteractive('df-ae66a873-e19b-4127-982d-e804eaeff35f')\"\n",
              "              title=\"Convert this dataframe to an interactive table.\"\n",
              "              style=\"display:none;\">\n",
              "        \n",
              "  <svg xmlns=\"http://www.w3.org/2000/svg\" height=\"24px\"viewBox=\"0 0 24 24\"\n",
              "       width=\"24px\">\n",
              "    <path d=\"M0 0h24v24H0V0z\" fill=\"none\"/>\n",
              "    <path d=\"M18.56 5.44l.94 2.06.94-2.06 2.06-.94-2.06-.94-.94-2.06-.94 2.06-2.06.94zm-11 1L8.5 8.5l.94-2.06 2.06-.94-2.06-.94L8.5 2.5l-.94 2.06-2.06.94zm10 10l.94 2.06.94-2.06 2.06-.94-2.06-.94-.94-2.06-.94 2.06-2.06.94z\"/><path d=\"M17.41 7.96l-1.37-1.37c-.4-.4-.92-.59-1.43-.59-.52 0-1.04.2-1.43.59L10.3 9.45l-7.72 7.72c-.78.78-.78 2.05 0 2.83L4 21.41c.39.39.9.59 1.41.59.51 0 1.02-.2 1.41-.59l7.78-7.78 2.81-2.81c.8-.78.8-2.07 0-2.86zM5.41 20L4 18.59l7.72-7.72 1.47 1.35L5.41 20z\"/>\n",
              "  </svg>\n",
              "      </button>\n",
              "      \n",
              "  <style>\n",
              "    .colab-df-container {\n",
              "      display:flex;\n",
              "      flex-wrap:wrap;\n",
              "      gap: 12px;\n",
              "    }\n",
              "\n",
              "    .colab-df-convert {\n",
              "      background-color: #E8F0FE;\n",
              "      border: none;\n",
              "      border-radius: 50%;\n",
              "      cursor: pointer;\n",
              "      display: none;\n",
              "      fill: #1967D2;\n",
              "      height: 32px;\n",
              "      padding: 0 0 0 0;\n",
              "      width: 32px;\n",
              "    }\n",
              "\n",
              "    .colab-df-convert:hover {\n",
              "      background-color: #E2EBFA;\n",
              "      box-shadow: 0px 1px 2px rgba(60, 64, 67, 0.3), 0px 1px 3px 1px rgba(60, 64, 67, 0.15);\n",
              "      fill: #174EA6;\n",
              "    }\n",
              "\n",
              "    [theme=dark] .colab-df-convert {\n",
              "      background-color: #3B4455;\n",
              "      fill: #D2E3FC;\n",
              "    }\n",
              "\n",
              "    [theme=dark] .colab-df-convert:hover {\n",
              "      background-color: #434B5C;\n",
              "      box-shadow: 0px 1px 3px 1px rgba(0, 0, 0, 0.15);\n",
              "      filter: drop-shadow(0px 1px 2px rgba(0, 0, 0, 0.3));\n",
              "      fill: #FFFFFF;\n",
              "    }\n",
              "  </style>\n",
              "\n",
              "      <script>\n",
              "        const buttonEl =\n",
              "          document.querySelector('#df-ae66a873-e19b-4127-982d-e804eaeff35f button.colab-df-convert');\n",
              "        buttonEl.style.display =\n",
              "          google.colab.kernel.accessAllowed ? 'block' : 'none';\n",
              "\n",
              "        async function convertToInteractive(key) {\n",
              "          const element = document.querySelector('#df-ae66a873-e19b-4127-982d-e804eaeff35f');\n",
              "          const dataTable =\n",
              "            await google.colab.kernel.invokeFunction('convertToInteractive',\n",
              "                                                     [key], {});\n",
              "          if (!dataTable) return;\n",
              "\n",
              "          const docLinkHtml = 'Like what you see? Visit the ' +\n",
              "            '<a target=\"_blank\" href=https://colab.research.google.com/notebooks/data_table.ipynb>data table notebook</a>'\n",
              "            + ' to learn more about interactive tables.';\n",
              "          element.innerHTML = '';\n",
              "          dataTable['output_type'] = 'display_data';\n",
              "          await google.colab.output.renderOutput(dataTable, element);\n",
              "          const docLink = document.createElement('div');\n",
              "          docLink.innerHTML = docLinkHtml;\n",
              "          element.appendChild(docLink);\n",
              "        }\n",
              "      </script>\n",
              "    </div>\n",
              "  </div>\n",
              "  "
            ]
          },
          "metadata": {},
          "execution_count": 17
        }
      ],
      "source": [
        "output_interesting_idx(X_train, 'ndvi', 1000)"
      ]
    },
    {
      "cell_type": "markdown",
      "metadata": {
        "id": "sGJblGC6ZyZF"
      },
      "source": [
        "## 5. Model definition and training\n",
        "\n",
        "In this section we will define our model and train it using our dataset. The hyperparameters listed below are the default from the scikit-learn library, but these are usually very similar across other programming languages."
      ]
    },
    {
      "cell_type": "code",
      "execution_count": 18,
      "metadata": {
        "id": "LJtegLSkZyZF"
      },
      "outputs": [],
      "source": [
        "hyperparameters = {'n_estimators': 400, \n",
        "                   'criterion':'gini', \n",
        "                   'max_depth':None, \n",
        "                   'min_samples_split':2, \n",
        "                   'min_samples_leaf':1, \n",
        "                   'min_weight_fraction_leaf':0.0, \n",
        "                   'max_features':'auto', \n",
        "                   'max_leaf_nodes':None, \n",
        "                   'min_impurity_decrease':0.0, \n",
        "                   'bootstrap':True, \n",
        "                   'oob_score':False, \n",
        "                   'n_jobs':-1, \n",
        "                   'random_state':42, \n",
        "                   'verbose':0, \n",
        "                   'warm_start':True, \n",
        "                   'class_weight':None, \n",
        "                   'ccp_alpha':0.0, \n",
        "                   'max_samples':None\n",
        "                  }"
      ]
    },
    {
      "cell_type": "markdown",
      "source": [
        "Here we define the classifier:"
      ],
      "metadata": {
        "id": "2abwWm8ur1O9"
      }
    },
    {
      "cell_type": "code",
      "execution_count": 20,
      "metadata": {
        "id": "apFQQjJRZyZF"
      },
      "outputs": [],
      "source": [
        "classifier = skRF(**hyperparameters)"
      ]
    },
    {
      "cell_type": "markdown",
      "source": [
        "## 5.1 k-Fold fitting\n",
        "\n",
        "Then we can proceed to train our model using the k-Fold approach."
      ],
      "metadata": {
        "id": "8QjprcSWr6W2"
      }
    },
    {
      "cell_type": "code",
      "execution_count": 21,
      "metadata": {
        "colab": {
          "base_uri": "https://localhost:8080/"
        },
        "id": "rxHbZ0nLZyZF",
        "outputId": "1bddc7aa-4a89-4649-e6c0-fb5d5d91cd2f"
      },
      "outputs": [
        {
          "output_type": "stream",
          "name": "stdout",
          "text": [
            "Train [112 113 114 115 116 117 118 119 120 121 122 123 124 125 126 127 128 129\n",
            " 130 131 132 133 134 135 136 137 138 139 140 141 142 143 144 145 146 147\n",
            " 148 149 150 151 152 153 154 155 156 157 158 159 160 161 162 163 164 165\n",
            " 166 167 168 169 170 171 172 173 174 175 176 177 178 179 180 181 182 183\n",
            " 184 185 186 187 188 189 190 191 192 193 194 195 196 197 198 199 200 201\n",
            " 202 203 204 205 206 207 208 209 210 211 212 213 214 215 216 217 218 219\n",
            " 220 221 222 223 224 225 226 227 228 229 230 231 232 233 234 235 236 237\n",
            " 238 239 240 241 242 243 244 245 246 247 248 249 250 251 252 253 254 255\n",
            " 256 257 258 259 260 261 262 263 264 265 266 267 268 269 270 271 272 273\n",
            " 274 275 276 277 278 279 280 281 282 283 284 285 286 287 288 289 290 291\n",
            " 292 293 294 295 296 297 298 299 300 301 302 303 304 305 306 307 308 309\n",
            " 310 311 312 313 314 315 316 317 318 319 320 321 322 323 324 325 326 327\n",
            " 328 329 330 331 332 333 334 335 336 337 338 339 340 341 342 343 344 345\n",
            " 346 347 348 349 350 351 352 353 354 355 356 357 358 359 360 361 362 363\n",
            " 364 365 366 367 368 369 370 371 372 373 374 375 376 377 378 379 380 381\n",
            " 382 383 384 385 386 387 388 389 390 391 392 393 394 395 396 397 398 399\n",
            " 400 401 402 403 404 405 406 407 408 409 410 411 412 413 414 415 416 417\n",
            " 418 419 420 421 422 423 424 425 426 427 428 429 430 431 432 433 434 435\n",
            " 436 437 438 439 440 441 442 443 444 445 446 447 448 449 450 451 452 453\n",
            " 454 455 456 457 458 459 460 461 462 463 464 465 466 467 468 469 470 471\n",
            " 472 473 474 475 476 477 478 479 480 481 482 483 484 485 486 487 488 489\n",
            " 490 491 492 493 494 495 496 497 498 499 500 501 502 503 504 505 506 507\n",
            " 508 509 510 511 512 513 514 515 516 517 518 519 520 521 522 523 524 525\n",
            " 526 527 528 529 530 531 532 533 534 535 536 537 538 539 540 541 542 543\n",
            " 544 545 546 547 548 549 550 551 552 553 554 555 556 557 558 559], Test [  0   1   2   3   4   5   6   7   8   9  10  11  12  13  14  15  16  17\n",
            "  18  19  20  21  22  23  24  25  26  27  28  29  30  31  32  33  34  35\n",
            "  36  37  38  39  40  41  42  43  44  45  46  47  48  49  50  51  52  53\n",
            "  54  55  56  57  58  59  60  61  62  63  64  65  66  67  68  69  70  71\n",
            "  72  73  74  75  76  77  78  79  80  81  82  83  84  85  86  87  88  89\n",
            "  90  91  92  93  94  95  96  97  98  99 100 101 102 103 104 105 106 107\n",
            " 108 109 110 111]\n",
            "Fitting model\n",
            "Time to fit model: 1.061241865158081s\n",
            "Getting score\n",
            "Training accuracy score: 0.9642857142857143\n",
            "Predicting for test set\n",
            "              precision    recall  f1-score   support\n",
            "\n",
            "           0       0.95      0.98      0.96        55\n",
            "           1       0.98      0.95      0.96        57\n",
            "\n",
            "    accuracy                           0.96       112\n",
            "   macro avg       0.96      0.96      0.96       112\n",
            "weighted avg       0.96      0.96      0.96       112\n",
            "\n",
            "Score: 0.9642857142857143\n",
            "Train [  0   1   2   3   4   5   6   7   8   9  10  11  12  13  14  15  16  17\n",
            "  18  19  20  21  22  23  24  25  26  27  28  29  30  31  32  33  34  35\n",
            "  36  37  38  39  40  41  42  43  44  45  46  47  48  49  50  51  52  53\n",
            "  54  55  56  57  58  59  60  61  62  63  64  65  66  67  68  69  70  71\n",
            "  72  73  74  75  76  77  78  79  80  81  82  83  84  85  86  87  88  89\n",
            "  90  91  92  93  94  95  96  97  98  99 100 101 102 103 104 105 106 107\n",
            " 108 109 110 111 224 225 226 227 228 229 230 231 232 233 234 235 236 237\n",
            " 238 239 240 241 242 243 244 245 246 247 248 249 250 251 252 253 254 255\n",
            " 256 257 258 259 260 261 262 263 264 265 266 267 268 269 270 271 272 273\n",
            " 274 275 276 277 278 279 280 281 282 283 284 285 286 287 288 289 290 291\n",
            " 292 293 294 295 296 297 298 299 300 301 302 303 304 305 306 307 308 309\n",
            " 310 311 312 313 314 315 316 317 318 319 320 321 322 323 324 325 326 327\n",
            " 328 329 330 331 332 333 334 335 336 337 338 339 340 341 342 343 344 345\n",
            " 346 347 348 349 350 351 352 353 354 355 356 357 358 359 360 361 362 363\n",
            " 364 365 366 367 368 369 370 371 372 373 374 375 376 377 378 379 380 381\n",
            " 382 383 384 385 386 387 388 389 390 391 392 393 394 395 396 397 398 399\n",
            " 400 401 402 403 404 405 406 407 408 409 410 411 412 413 414 415 416 417\n",
            " 418 419 420 421 422 423 424 425 426 427 428 429 430 431 432 433 434 435\n",
            " 436 437 438 439 440 441 442 443 444 445 446 447 448 449 450 451 452 453\n",
            " 454 455 456 457 458 459 460 461 462 463 464 465 466 467 468 469 470 471\n",
            " 472 473 474 475 476 477 478 479 480 481 482 483 484 485 486 487 488 489\n",
            " 490 491 492 493 494 495 496 497 498 499 500 501 502 503 504 505 506 507\n",
            " 508 509 510 511 512 513 514 515 516 517 518 519 520 521 522 523 524 525\n",
            " 526 527 528 529 530 531 532 533 534 535 536 537 538 539 540 541 542 543\n",
            " 544 545 546 547 548 549 550 551 552 553 554 555 556 557 558 559], Test [112 113 114 115 116 117 118 119 120 121 122 123 124 125 126 127 128 129\n",
            " 130 131 132 133 134 135 136 137 138 139 140 141 142 143 144 145 146 147\n",
            " 148 149 150 151 152 153 154 155 156 157 158 159 160 161 162 163 164 165\n",
            " 166 167 168 169 170 171 172 173 174 175 176 177 178 179 180 181 182 183\n",
            " 184 185 186 187 188 189 190 191 192 193 194 195 196 197 198 199 200 201\n",
            " 202 203 204 205 206 207 208 209 210 211 212 213 214 215 216 217 218 219\n",
            " 220 221 222 223]\n",
            "Fitting model\n",
            "Time to fit model: 0.002215862274169922s\n",
            "Getting score\n",
            "Training accuracy score: 1.0\n",
            "Predicting for test set\n",
            "              precision    recall  f1-score   support\n",
            "\n",
            "           0       1.00      1.00      1.00        61\n",
            "           1       1.00      1.00      1.00        51\n",
            "\n",
            "    accuracy                           1.00       112\n",
            "   macro avg       1.00      1.00      1.00       112\n",
            "weighted avg       1.00      1.00      1.00       112\n",
            "\n",
            "Score: 1.0\n",
            "Train [  0   1   2   3   4   5   6   7   8   9  10  11  12  13  14  15  16  17\n",
            "  18  19  20  21  22  23  24  25  26  27  28  29  30  31  32  33  34  35\n",
            "  36  37  38  39  40  41  42  43  44  45  46  47  48  49  50  51  52  53\n",
            "  54  55  56  57  58  59  60  61  62  63  64  65  66  67  68  69  70  71\n",
            "  72  73  74  75  76  77  78  79  80  81  82  83  84  85  86  87  88  89\n",
            "  90  91  92  93  94  95  96  97  98  99 100 101 102 103 104 105 106 107\n",
            " 108 109 110 111 112 113 114 115 116 117 118 119 120 121 122 123 124 125\n",
            " 126 127 128 129 130 131 132 133 134 135 136 137 138 139 140 141 142 143\n",
            " 144 145 146 147 148 149 150 151 152 153 154 155 156 157 158 159 160 161\n",
            " 162 163 164 165 166 167 168 169 170 171 172 173 174 175 176 177 178 179\n",
            " 180 181 182 183 184 185 186 187 188 189 190 191 192 193 194 195 196 197\n",
            " 198 199 200 201 202 203 204 205 206 207 208 209 210 211 212 213 214 215\n",
            " 216 217 218 219 220 221 222 223 336 337 338 339 340 341 342 343 344 345\n",
            " 346 347 348 349 350 351 352 353 354 355 356 357 358 359 360 361 362 363\n",
            " 364 365 366 367 368 369 370 371 372 373 374 375 376 377 378 379 380 381\n",
            " 382 383 384 385 386 387 388 389 390 391 392 393 394 395 396 397 398 399\n",
            " 400 401 402 403 404 405 406 407 408 409 410 411 412 413 414 415 416 417\n",
            " 418 419 420 421 422 423 424 425 426 427 428 429 430 431 432 433 434 435\n",
            " 436 437 438 439 440 441 442 443 444 445 446 447 448 449 450 451 452 453\n",
            " 454 455 456 457 458 459 460 461 462 463 464 465 466 467 468 469 470 471\n",
            " 472 473 474 475 476 477 478 479 480 481 482 483 484 485 486 487 488 489\n",
            " 490 491 492 493 494 495 496 497 498 499 500 501 502 503 504 505 506 507\n",
            " 508 509 510 511 512 513 514 515 516 517 518 519 520 521 522 523 524 525\n",
            " 526 527 528 529 530 531 532 533 534 535 536 537 538 539 540 541 542 543\n",
            " 544 545 546 547 548 549 550 551 552 553 554 555 556 557 558 559], Test [224 225 226 227 228 229 230 231 232 233 234 235 236 237 238 239 240 241\n",
            " 242 243 244 245 246 247 248 249 250 251 252 253 254 255 256 257 258 259\n",
            " 260 261 262 263 264 265 266 267 268 269 270 271 272 273 274 275 276 277\n",
            " 278 279 280 281 282 283 284 285 286 287 288 289 290 291 292 293 294 295\n",
            " 296 297 298 299 300 301 302 303 304 305 306 307 308 309 310 311 312 313\n",
            " 314 315 316 317 318 319 320 321 322 323 324 325 326 327 328 329 330 331\n",
            " 332 333 334 335]\n",
            "Fitting model\n",
            "Time to fit model: 0.002026796340942383s\n",
            "Getting score\n",
            "Training accuracy score: 1.0\n",
            "Predicting for test set\n",
            "              precision    recall  f1-score   support\n",
            "\n",
            "           0       1.00      1.00      1.00        48\n",
            "           1       1.00      1.00      1.00        64\n",
            "\n",
            "    accuracy                           1.00       112\n",
            "   macro avg       1.00      1.00      1.00       112\n",
            "weighted avg       1.00      1.00      1.00       112\n",
            "\n",
            "Score: 1.0\n",
            "Train [  0   1   2   3   4   5   6   7   8   9  10  11  12  13  14  15  16  17\n",
            "  18  19  20  21  22  23  24  25  26  27  28  29  30  31  32  33  34  35\n",
            "  36  37  38  39  40  41  42  43  44  45  46  47  48  49  50  51  52  53\n",
            "  54  55  56  57  58  59  60  61  62  63  64  65  66  67  68  69  70  71\n",
            "  72  73  74  75  76  77  78  79  80  81  82  83  84  85  86  87  88  89\n",
            "  90  91  92  93  94  95  96  97  98  99 100 101 102 103 104 105 106 107\n",
            " 108 109 110 111 112 113 114 115 116 117 118 119 120 121 122 123 124 125\n",
            " 126 127 128 129 130 131 132 133 134 135 136 137 138 139 140 141 142 143\n",
            " 144 145 146 147 148 149 150 151 152 153 154 155 156 157 158 159 160 161\n",
            " 162 163 164 165 166 167 168 169 170 171 172 173 174 175 176 177 178 179\n",
            " 180 181 182 183 184 185 186 187 188 189 190 191 192 193 194 195 196 197\n",
            " 198 199 200 201 202 203 204 205 206 207 208 209 210 211 212 213 214 215\n",
            " 216 217 218 219 220 221 222 223 224 225 226 227 228 229 230 231 232 233\n",
            " 234 235 236 237 238 239 240 241 242 243 244 245 246 247 248 249 250 251\n",
            " 252 253 254 255 256 257 258 259 260 261 262 263 264 265 266 267 268 269\n",
            " 270 271 272 273 274 275 276 277 278 279 280 281 282 283 284 285 286 287\n",
            " 288 289 290 291 292 293 294 295 296 297 298 299 300 301 302 303 304 305\n",
            " 306 307 308 309 310 311 312 313 314 315 316 317 318 319 320 321 322 323\n",
            " 324 325 326 327 328 329 330 331 332 333 334 335 448 449 450 451 452 453\n",
            " 454 455 456 457 458 459 460 461 462 463 464 465 466 467 468 469 470 471\n",
            " 472 473 474 475 476 477 478 479 480 481 482 483 484 485 486 487 488 489\n",
            " 490 491 492 493 494 495 496 497 498 499 500 501 502 503 504 505 506 507\n",
            " 508 509 510 511 512 513 514 515 516 517 518 519 520 521 522 523 524 525\n",
            " 526 527 528 529 530 531 532 533 534 535 536 537 538 539 540 541 542 543\n",
            " 544 545 546 547 548 549 550 551 552 553 554 555 556 557 558 559], Test [336 337 338 339 340 341 342 343 344 345 346 347 348 349 350 351 352 353\n",
            " 354 355 356 357 358 359 360 361 362 363 364 365 366 367 368 369 370 371\n",
            " 372 373 374 375 376 377 378 379 380 381 382 383 384 385 386 387 388 389\n",
            " 390 391 392 393 394 395 396 397 398 399 400 401 402 403 404 405 406 407\n",
            " 408 409 410 411 412 413 414 415 416 417 418 419 420 421 422 423 424 425\n",
            " 426 427 428 429 430 431 432 433 434 435 436 437 438 439 440 441 442 443\n",
            " 444 445 446 447]\n",
            "Fitting model\n",
            "Time to fit model: 0.0028486251831054688s\n",
            "Getting score\n",
            "Training accuracy score: 1.0\n",
            "Predicting for test set\n",
            "              precision    recall  f1-score   support\n",
            "\n",
            "           0       1.00      1.00      1.00        52\n",
            "           1       1.00      1.00      1.00        60\n",
            "\n",
            "    accuracy                           1.00       112\n",
            "   macro avg       1.00      1.00      1.00       112\n",
            "weighted avg       1.00      1.00      1.00       112\n",
            "\n",
            "Score: 1.0\n",
            "Train [  0   1   2   3   4   5   6   7   8   9  10  11  12  13  14  15  16  17\n",
            "  18  19  20  21  22  23  24  25  26  27  28  29  30  31  32  33  34  35\n",
            "  36  37  38  39  40  41  42  43  44  45  46  47  48  49  50  51  52  53\n",
            "  54  55  56  57  58  59  60  61  62  63  64  65  66  67  68  69  70  71\n",
            "  72  73  74  75  76  77  78  79  80  81  82  83  84  85  86  87  88  89\n",
            "  90  91  92  93  94  95  96  97  98  99 100 101 102 103 104 105 106 107\n",
            " 108 109 110 111 112 113 114 115 116 117 118 119 120 121 122 123 124 125\n",
            " 126 127 128 129 130 131 132 133 134 135 136 137 138 139 140 141 142 143\n",
            " 144 145 146 147 148 149 150 151 152 153 154 155 156 157 158 159 160 161\n",
            " 162 163 164 165 166 167 168 169 170 171 172 173 174 175 176 177 178 179\n",
            " 180 181 182 183 184 185 186 187 188 189 190 191 192 193 194 195 196 197\n",
            " 198 199 200 201 202 203 204 205 206 207 208 209 210 211 212 213 214 215\n",
            " 216 217 218 219 220 221 222 223 224 225 226 227 228 229 230 231 232 233\n",
            " 234 235 236 237 238 239 240 241 242 243 244 245 246 247 248 249 250 251\n",
            " 252 253 254 255 256 257 258 259 260 261 262 263 264 265 266 267 268 269\n",
            " 270 271 272 273 274 275 276 277 278 279 280 281 282 283 284 285 286 287\n",
            " 288 289 290 291 292 293 294 295 296 297 298 299 300 301 302 303 304 305\n",
            " 306 307 308 309 310 311 312 313 314 315 316 317 318 319 320 321 322 323\n",
            " 324 325 326 327 328 329 330 331 332 333 334 335 336 337 338 339 340 341\n",
            " 342 343 344 345 346 347 348 349 350 351 352 353 354 355 356 357 358 359\n",
            " 360 361 362 363 364 365 366 367 368 369 370 371 372 373 374 375 376 377\n",
            " 378 379 380 381 382 383 384 385 386 387 388 389 390 391 392 393 394 395\n",
            " 396 397 398 399 400 401 402 403 404 405 406 407 408 409 410 411 412 413\n",
            " 414 415 416 417 418 419 420 421 422 423 424 425 426 427 428 429 430 431\n",
            " 432 433 434 435 436 437 438 439 440 441 442 443 444 445 446 447], Test [448 449 450 451 452 453 454 455 456 457 458 459 460 461 462 463 464 465\n",
            " 466 467 468 469 470 471 472 473 474 475 476 477 478 479 480 481 482 483\n",
            " 484 485 486 487 488 489 490 491 492 493 494 495 496 497 498 499 500 501\n",
            " 502 503 504 505 506 507 508 509 510 511 512 513 514 515 516 517 518 519\n",
            " 520 521 522 523 524 525 526 527 528 529 530 531 532 533 534 535 536 537\n",
            " 538 539 540 541 542 543 544 545 546 547 548 549 550 551 552 553 554 555\n",
            " 556 557 558 559]\n",
            "Fitting model\n",
            "Time to fit model: 0.002070903778076172s\n",
            "Getting score\n",
            "Training accuracy score: 1.0\n",
            "Predicting for test set\n",
            "              precision    recall  f1-score   support\n",
            "\n",
            "           0       1.00      1.00      1.00        60\n",
            "           1       1.00      1.00      1.00        52\n",
            "\n",
            "    accuracy                           1.00       112\n",
            "   macro avg       1.00      1.00      1.00       112\n",
            "weighted avg       1.00      1.00      1.00       112\n",
            "\n",
            "Score: 1.0\n",
            "CPU times: user 2.03 s, sys: 241 ms, total: 2.27 s\n",
            "Wall time: 2.05 s\n"
          ]
        }
      ],
      "source": [
        "%%time\n",
        "bestModel = None\n",
        "bestModelScore = 0\n",
        "scores = []\n",
        "for trainIdx, testIdx in kf.split(X_train):\n",
        "    print(\"Train {}, Test {}\".format(trainIdx, testIdx))\n",
        "    X_train_valid, X_test_valid = X_train.iloc[trainIdx], X_train.iloc[testIdx]\n",
        "    y_train_valid, y_test_valid = y_train.iloc[trainIdx], y_train.iloc[testIdx]\n",
        "    print('Fitting model')\n",
        "    st = time.time()\n",
        "    classifier.fit(X_train_valid, y_train_valid)\n",
        "    et = time.time()\n",
        "    print('Time to fit model: {}s'.format(et-st))\n",
        "    print('Getting score')\n",
        "    score = classifier.score(X_test_valid, y_test_valid)\n",
        "    if score>=bestModelScore:\n",
        "        bestModelScore = score\n",
        "        print('Training accuracy score: {}'.format(score))\n",
        "        bestModel = classifier\n",
        "    print('Predicting for test set')\n",
        "    test_predictions = classifier.predict(X_test_valid)\n",
        "    print(classification_report(y_test_valid, test_predictions))\n",
        "    print('Score: {}'.format(score))\n",
        "    scores.append(score)\n",
        "    del test_predictions, score"
      ]
    },
    {
      "cell_type": "code",
      "execution_count": 22,
      "metadata": {
        "colab": {
          "base_uri": "https://localhost:8080/"
        },
        "id": "88BkVOnoZyZF",
        "outputId": "71e8eae0-1201-4c97-8b65-f2524d1ae6cd"
      },
      "outputs": [
        {
          "output_type": "stream",
          "name": "stdout",
          "text": [
            "Average accuracy score: 0.9928571428571429\n",
            "Best accuracy score: 1.0\n"
          ]
        }
      ],
      "source": [
        "scoreAvg = np.asarray(scores).mean()\n",
        "print('Average accuracy score: {}'.format(scoreAvg))\n",
        "print('Best accuracy score: {}'.format(bestModelScore))"
      ]
    },
    {
      "cell_type": "markdown",
      "metadata": {
        "id": "ZBtSJVgNZyZG"
      },
      "source": [
        "## 5.2 Regular fitting\n",
        "\n",
        "We can also train our model without doing any k-Fold cross-validation."
      ]
    },
    {
      "cell_type": "code",
      "execution_count": 23,
      "metadata": {
        "id": "bGuVRTzeZyZG"
      },
      "outputs": [],
      "source": [
        "classifier = skRF(**hyperparameters)"
      ]
    },
    {
      "cell_type": "code",
      "execution_count": 24,
      "metadata": {
        "colab": {
          "base_uri": "https://localhost:8080/",
          "height": 127
        },
        "id": "Fwi1Zox8ZyZG",
        "outputId": "28c231d2-b6dc-4e2e-a628-4f483cfff0b0"
      },
      "outputs": [
        {
          "output_type": "stream",
          "name": "stdout",
          "text": [
            "CPU times: user 1.14 s, sys: 130 ms, total: 1.27 s\n",
            "Wall time: 1.03 s\n"
          ]
        },
        {
          "output_type": "execute_result",
          "data": {
            "text/plain": [
              "RandomForestClassifier(max_features='auto', n_estimators=400, n_jobs=-1,\n",
              "                       random_state=42, warm_start=True)"
            ],
            "text/html": [
              "<style>#sk-container-id-1 {color: black;background-color: white;}#sk-container-id-1 pre{padding: 0;}#sk-container-id-1 div.sk-toggleable {background-color: white;}#sk-container-id-1 label.sk-toggleable__label {cursor: pointer;display: block;width: 100%;margin-bottom: 0;padding: 0.3em;box-sizing: border-box;text-align: center;}#sk-container-id-1 label.sk-toggleable__label-arrow:before {content: \"▸\";float: left;margin-right: 0.25em;color: #696969;}#sk-container-id-1 label.sk-toggleable__label-arrow:hover:before {color: black;}#sk-container-id-1 div.sk-estimator:hover label.sk-toggleable__label-arrow:before {color: black;}#sk-container-id-1 div.sk-toggleable__content {max-height: 0;max-width: 0;overflow: hidden;text-align: left;background-color: #f0f8ff;}#sk-container-id-1 div.sk-toggleable__content pre {margin: 0.2em;color: black;border-radius: 0.25em;background-color: #f0f8ff;}#sk-container-id-1 input.sk-toggleable__control:checked~div.sk-toggleable__content {max-height: 200px;max-width: 100%;overflow: auto;}#sk-container-id-1 input.sk-toggleable__control:checked~label.sk-toggleable__label-arrow:before {content: \"▾\";}#sk-container-id-1 div.sk-estimator input.sk-toggleable__control:checked~label.sk-toggleable__label {background-color: #d4ebff;}#sk-container-id-1 div.sk-label input.sk-toggleable__control:checked~label.sk-toggleable__label {background-color: #d4ebff;}#sk-container-id-1 input.sk-hidden--visually {border: 0;clip: rect(1px 1px 1px 1px);clip: rect(1px, 1px, 1px, 1px);height: 1px;margin: -1px;overflow: hidden;padding: 0;position: absolute;width: 1px;}#sk-container-id-1 div.sk-estimator {font-family: monospace;background-color: #f0f8ff;border: 1px dotted black;border-radius: 0.25em;box-sizing: border-box;margin-bottom: 0.5em;}#sk-container-id-1 div.sk-estimator:hover {background-color: #d4ebff;}#sk-container-id-1 div.sk-parallel-item::after {content: \"\";width: 100%;border-bottom: 1px solid gray;flex-grow: 1;}#sk-container-id-1 div.sk-label:hover label.sk-toggleable__label {background-color: #d4ebff;}#sk-container-id-1 div.sk-serial::before {content: \"\";position: absolute;border-left: 1px solid gray;box-sizing: border-box;top: 0;bottom: 0;left: 50%;z-index: 0;}#sk-container-id-1 div.sk-serial {display: flex;flex-direction: column;align-items: center;background-color: white;padding-right: 0.2em;padding-left: 0.2em;position: relative;}#sk-container-id-1 div.sk-item {position: relative;z-index: 1;}#sk-container-id-1 div.sk-parallel {display: flex;align-items: stretch;justify-content: center;background-color: white;position: relative;}#sk-container-id-1 div.sk-item::before, #sk-container-id-1 div.sk-parallel-item::before {content: \"\";position: absolute;border-left: 1px solid gray;box-sizing: border-box;top: 0;bottom: 0;left: 50%;z-index: -1;}#sk-container-id-1 div.sk-parallel-item {display: flex;flex-direction: column;z-index: 1;position: relative;background-color: white;}#sk-container-id-1 div.sk-parallel-item:first-child::after {align-self: flex-end;width: 50%;}#sk-container-id-1 div.sk-parallel-item:last-child::after {align-self: flex-start;width: 50%;}#sk-container-id-1 div.sk-parallel-item:only-child::after {width: 0;}#sk-container-id-1 div.sk-dashed-wrapped {border: 1px dashed gray;margin: 0 0.4em 0.5em 0.4em;box-sizing: border-box;padding-bottom: 0.4em;background-color: white;}#sk-container-id-1 div.sk-label label {font-family: monospace;font-weight: bold;display: inline-block;line-height: 1.2em;}#sk-container-id-1 div.sk-label-container {text-align: center;}#sk-container-id-1 div.sk-container {/* jupyter's `normalize.less` sets `[hidden] { display: none; }` but bootstrap.min.css set `[hidden] { display: none !important; }` so we also need the `!important` here to be able to override the default hidden behavior on the sphinx rendered scikit-learn.org. See: https://github.com/scikit-learn/scikit-learn/issues/21755 */display: inline-block !important;position: relative;}#sk-container-id-1 div.sk-text-repr-fallback {display: none;}</style><div id=\"sk-container-id-1\" class=\"sk-top-container\"><div class=\"sk-text-repr-fallback\"><pre>RandomForestClassifier(max_features=&#x27;auto&#x27;, n_estimators=400, n_jobs=-1,\n",
              "                       random_state=42, warm_start=True)</pre><b>In a Jupyter environment, please rerun this cell to show the HTML representation or trust the notebook. <br />On GitHub, the HTML representation is unable to render, please try loading this page with nbviewer.org.</b></div><div class=\"sk-container\" hidden><div class=\"sk-item\"><div class=\"sk-estimator sk-toggleable\"><input class=\"sk-toggleable__control sk-hidden--visually\" id=\"sk-estimator-id-1\" type=\"checkbox\" checked><label for=\"sk-estimator-id-1\" class=\"sk-toggleable__label sk-toggleable__label-arrow\">RandomForestClassifier</label><div class=\"sk-toggleable__content\"><pre>RandomForestClassifier(max_features=&#x27;auto&#x27;, n_estimators=400, n_jobs=-1,\n",
              "                       random_state=42, warm_start=True)</pre></div></div></div></div></div>"
            ]
          },
          "metadata": {},
          "execution_count": 24
        }
      ],
      "source": [
        "%%time\n",
        "\n",
        "classifier.fit(X_train, y_train)"
      ]
    },
    {
      "cell_type": "code",
      "source": [
        "score = classifier.score(X_test, y_test)\n",
        "print('Average accuracy score: {}'.format(score))"
      ],
      "metadata": {
        "id": "jdX36MwesVKF",
        "outputId": "8373a41d-541c-4ebe-ae80-502da4e22487",
        "colab": {
          "base_uri": "https://localhost:8080/"
        }
      },
      "execution_count": 26,
      "outputs": [
        {
          "output_type": "stream",
          "name": "stdout",
          "text": [
            "Average accuracy score: 0.9875\n"
          ]
        }
      ]
    },
    {
      "cell_type": "markdown",
      "metadata": {
        "id": "tme4Xx6dZyZG"
      },
      "source": [
        "## 6. Model testing and training/testing data validation\n",
        "\n",
        "Once we have trained our model we can proceed to use the best model and perform testing and validation using our dataset."
      ]
    },
    {
      "cell_type": "markdown",
      "metadata": {
        "id": "WDgz_nKOZyZG"
      },
      "source": [
        "### 6.1 Get model metrics\n",
        "\n",
        "We can calculate accuracy metrics from our model using the test dataset, but we can also output prediction probabilities to understand the drivers behind the model performance."
      ]
    },
    {
      "cell_type": "code",
      "execution_count": 27,
      "metadata": {
        "id": "f_ny3WDVZyZG"
      },
      "outputs": [],
      "source": [
        "classifier = bestModel"
      ]
    },
    {
      "cell_type": "code",
      "execution_count": 28,
      "metadata": {
        "colab": {
          "base_uri": "https://localhost:8080/"
        },
        "id": "iq9GFYSkZyZG",
        "outputId": "a660fe53-af68-4918-e208-db4953269203"
      },
      "outputs": [
        {
          "output_type": "execute_result",
          "data": {
            "text/plain": [
              "0.992"
            ]
          },
          "metadata": {},
          "execution_count": 28
        }
      ],
      "source": [
        "score = classifier.score(X_test, y_test)\n",
        "score = round(score, 3)\n",
        "score"
      ]
    },
    {
      "cell_type": "code",
      "execution_count": 29,
      "metadata": {
        "id": "iM6eWZwxZyZG"
      },
      "outputs": [],
      "source": [
        "train_predictions = classifier.predict(X_train)\n",
        "test_predictions = classifier.predict(X_test)\n",
        "prediction_probs = classifier.predict_proba(X_test)"
      ]
    },
    {
      "cell_type": "markdown",
      "source": [
        "Here we can take the prediction probabilities straight out of the model so we can visualize them."
      ],
      "metadata": {
        "id": "CVFeuEnKtGOy"
      }
    },
    {
      "cell_type": "code",
      "execution_count": 30,
      "metadata": {
        "id": "DqHrnLjIZyZG"
      },
      "outputs": [],
      "source": [
        "predictionProbabilityList = list()\n",
        "for i, subarr in enumerate(prediction_probs):\n",
        "    predictionProbabilityList.append(subarr[1])\n",
        "predictionProbabilityArray = np.asarray(predictionProbabilityList)"
      ]
    },
    {
      "cell_type": "markdown",
      "metadata": {
        "id": "PFJUYgpUZyZG"
      },
      "source": [
        "### 6.1.1 Show the distribution of the probability of the predicted values.\n",
        "\n",
        "These are the probability that each test data point is water p=1 vs land p=0. Usually a relatively flatter distribution on one of the sides shows us that the model is not as confident on predicting that side."
      ]
    },
    {
      "cell_type": "code",
      "execution_count": 31,
      "metadata": {
        "colab": {
          "base_uri": "https://localhost:8080/",
          "height": 542
        },
        "id": "HVbiSWiCZyZG",
        "outputId": "64668d5a-7e25-4139-b07d-0c5f2a34b90f"
      },
      "outputs": [
        {
          "output_type": "execute_result",
          "data": {
            "text/plain": [
              "Text(0.5, 1.0, 'Distribution of the probability of predicted values')"
            ]
          },
          "metadata": {},
          "execution_count": 31
        },
        {
          "output_type": "display_data",
          "data": {
            "text/plain": [
              "<Figure size 500x500 with 1 Axes>"
            ],
            "image/png": "[encoded data removed]"
          },
          "metadata": {}
        }
      ],
      "source": [
        "sns.displot(predictionProbabilityArray, bins=30)\n",
        "plt.title('Distribution of the probability of predicted values')"
      ]
    },
    {
      "cell_type": "code",
      "execution_count": 32,
      "metadata": {
        "id": "zTUHsxR2ZyZG"
      },
      "outputs": [],
      "source": [
        "test_predictions = test_predictions.astype(np.int32)\n",
        "y_test_int = y_test.astype(np.int32)"
      ]
    },
    {
      "cell_type": "markdown",
      "source": [
        "## 6.2 Additional Metrics \n",
        "\n",
        "We can compute additional metrics to understand model performance related to producer and user accuracy."
      ],
      "metadata": {
        "id": "S07Ucjo2tUtL"
      }
    },
    {
      "cell_type": "code",
      "execution_count": 33,
      "metadata": {
        "colab": {
          "base_uri": "https://localhost:8080/"
        },
        "id": "CugjJEEoZyZG",
        "outputId": "ad2904a9-021b-4d75-9993-366e30c222ba"
      },
      "outputs": [
        {
          "output_type": "stream",
          "name": "stdout",
          "text": [
            "Test Performance\n",
            "-------------------------------------------------------\n",
            "              precision    recall  f1-score   support\n",
            "\n",
            "           0       0.98      1.00      0.99       119\n",
            "           1       1.00      0.98      0.99       121\n",
            "\n",
            "    accuracy                           0.99       240\n",
            "   macro avg       0.99      0.99      0.99       240\n",
            "weighted avg       0.99      0.99      0.99       240\n",
            "\n",
            "Test Recall\n",
            "-------------------------------------------------------\n",
            "1.0\n",
            "Confusion Matrix\n",
            "-------------------------------------------------------\n",
            "[[119   0]\n",
            " [  2 119]]\n"
          ]
        }
      ],
      "source": [
        "print('Test Performance')\n",
        "print('-------------------------------------------------------')\n",
        "print(classification_report(y_test, test_predictions))\n",
        "cm = confusion_matrix(y_test_int, test_predictions)\n",
        "recall = (cm[0][0] / (cm[0][0] + cm[0][1]))\n",
        "print('Test Recall')\n",
        "print('-------------------------------------------------------')\n",
        "print(recall)\n",
        "print('Confusion Matrix')\n",
        "print('-------------------------------------------------------')\n",
        "print(cm)"
      ]
    },
    {
      "cell_type": "markdown",
      "source": [
        "We can also look at Receiver Operating Characteristic (ROC) plots to understand the performance of the model across all samples between True Positive and False Positive rates."
      ],
      "metadata": {
        "id": "g-gGWZ9Mte8j"
      }
    },
    {
      "cell_type": "code",
      "execution_count": null,
      "metadata": {
        "colab": {
          "base_uri": "https://localhost:8080/",
          "height": 508
        },
        "id": "0Gb2SaNkZyZG",
        "outputId": "462585c5-8e4a-4bb2-8bca-89453202bf5d"
      },
      "outputs": [
        {
          "output_type": "display_data",
          "data": {
            "text/plain": [
              "<Figure size 640x480 with 1 Axes>"
            ],
            "image/png": "[encoded data removed]"
          },
          "metadata": {}
        }
      ],
      "source": [
        "clf = classifier\n",
        "\n",
        "probs = clf.predict_proba(X_test)\n",
        "preds = probs[:, 1]\n",
        "fpr, tpr, threshold = roc_curve(y_test, preds)\n",
        "roc_auc = auc(fpr, tpr)\n",
        "\n",
        "plt.title('Receiver Operating Characteristic')\n",
        "plt.plot(fpr, tpr, 'red', label = 'ROC AUC score = %0.2f' % roc_auc)\n",
        "plt.legend(loc = 'lower right')\n",
        "plt.plot([0, 1], [0, 1],'b--')\n",
        "plt.xlim([0, 1])\n",
        "plt.ylim([0, 1])\n",
        "plt.ylabel('True Positive Rate')\n",
        "plt.xlabel('False Positive Rate')\n",
        "plt.show()"
      ]
    },
    {
      "cell_type": "markdown",
      "metadata": {
        "id": "GnhTiNhfZyZH"
      },
      "source": [
        "### 6.3 Permutation Importance\n",
        "\n",
        "Another important metric to understand model performance is to evaluate permutation importance, particularly focuse on the importance of each feature in the training and inference of the model."
      ]
    },
    {
      "cell_type": "code",
      "execution_count": 34,
      "metadata": {
        "colab": {
          "base_uri": "https://localhost:8080/"
        },
        "id": "_gZvoZ12ZyZH",
        "outputId": "337e0657-bd8a-46c3-e3c4-d2a57b32aea4"
      },
      "outputs": [
        {
          "output_type": "stream",
          "name": "stdout",
          "text": [
            "CPU times: user 9.81 s, sys: 1.11 s, total: 10.9 s\n",
            "Wall time: 12.3 s\n"
          ]
        }
      ],
      "source": [
        "%%time\n",
        "permutation_importance_results = permutation_importance(classifier,\n",
        "                                                        X=X_test,\n",
        "                                                        y=y_test,\n",
        "                                                        n_repeats=10,\n",
        "                                                        random_state=42)"
      ]
    },
    {
      "cell_type": "code",
      "execution_count": 35,
      "metadata": {
        "colab": {
          "base_uri": "https://localhost:8080/",
          "height": 737
        },
        "id": "Uz5F9XMAZyZH",
        "outputId": "40e3d24e-b21b-4aee-c4d2-dc345280995b"
      },
      "outputs": [
        {
          "output_type": "display_data",
          "data": {
            "text/plain": [
              "<Figure size 800x800 with 1 Axes>"
            ],
            "image/png": "[encoded data removed]"
          },
          "metadata": {}
        }
      ],
      "source": [
        "png_save_path = 'mw_{}_{}_rf_{}_permutation_importance.png'.format(\n",
        "    score,\n",
        "    hyperparameters['n_estimators'],\n",
        "    datetime.datetime.now().strftime('%Y_%m_%d_%H_%M'))\n",
        "\n",
        "png_save_path = os.path.join(FIGURE_OUTPUT_DIR, png_save_path)\n",
        "\n",
        "sorted_idx = permutation_importance_results.importances_mean.argsort()\n",
        "plt.figure(figsize=(8, 8))\n",
        "plt.barh(X_test.columns[sorted_idx], permutation_importance_results.importances_mean[sorted_idx])\n",
        "plt.xlabel(\"Permutation Importance\")\n",
        "plt.savefig(png_save_path)"
      ]
    },
    {
      "cell_type": "markdown",
      "metadata": {
        "id": "WX1xjlAsZyZH"
      },
      "source": [
        "Garbage collection"
      ]
    },
    {
      "cell_type": "code",
      "execution_count": 36,
      "metadata": {
        "id": "OiKE9T-mZyZH"
      },
      "outputs": [],
      "source": [
        "del X_train, X_test, y_train, y_test, test_predictions, train_predictions, y_test_int"
      ]
    },
    {
      "cell_type": "markdown",
      "metadata": {
        "id": "OcshNYp7ZyZH"
      },
      "source": [
        "## 7. Save the model for future use\n",
        "\n",
        "We can then save our model for future use."
      ]
    },
    {
      "cell_type": "code",
      "execution_count": 37,
      "metadata": {
        "colab": {
          "base_uri": "https://localhost:8080/"
        },
        "id": "-lRJ9A7jZyZH",
        "outputId": "9036964a-b24b-4743-fd43-945b52da8864"
      },
      "outputs": [
        {
          "output_type": "stream",
          "name": "stdout",
          "text": [
            "Saving model to: models/mw_0.992_400_cpu_2.0.0_tuned_2023_04_11_14_30.sav\n",
            "RandomForestClassifier(max_features='auto', n_estimators=400, n_jobs=-1,\n",
            "                       random_state=42, warm_start=True)\n"
          ]
        },
        {
          "output_type": "execute_result",
          "data": {
            "text/plain": [
              "['models/mw_0.992_400_cpu_2.0.0_tuned_2023_04_11_14_30.sav']"
            ]
          },
          "metadata": {},
          "execution_count": 37
        }
      ],
      "source": [
        "model_save_path = 'mw_{}_{}_{}_2.0.0_tuned_{}.sav'.format(score,\n",
        "                                                             hyperparameters['n_estimators'],\n",
        "                                                             'cpu',\n",
        "                                                             datetime.datetime.now().strftime('%Y_%m_%d_%H_%M'))\n",
        "model_save_path = os.path.join(MODEL_OUTPUT_DIR, model_save_path)\n",
        "print('Saving model to: {}'.format(model_save_path))\n",
        "print(classifier)\n",
        "joblib.dump(classifier, model_save_path, compress=3)"
      ]
    },
    {
      "cell_type": "markdown",
      "source": [
        "NEED TO FIX FROM HERE\n",
        "\n",
        "Load raster, put into dataframe, predict, visualize in folium"
      ],
      "metadata": {
        "id": "Cyx2JzASwOtR"
      }
    },
    {
      "cell_type": "markdown",
      "metadata": {
        "id": "C2iuu5AOZyZH"
      },
      "source": [
        "## 8. Testing: Raster Inference"
      ]
    },
    {
      "cell_type": "code",
      "source": [
        "import rioxarray as rxr\n",
        "\n",
        "raster = "
      ],
      "metadata": {
        "id": "uydSQmb6vdVU"
      },
      "execution_count": null,
      "outputs": []
    },
    {
      "cell_type": "code",
      "execution_count": null,
      "metadata": {
        "colab": {
          "base_uri": "https://localhost:8080/",
          "height": 347
        },
        "id": "a-ev0s_RZyZH",
        "outputId": "9d500363-c690-411f-9462-bfb169e3fe02"
      },
      "outputs": [
        {
          "output_type": "error",
          "ename": "ModuleNotFoundError",
          "evalue": "ignored",
          "traceback": [
            "\u001b[0;31m---------------------------------------------------------------------------\u001b[0m",
            "\u001b[0;31mModuleNotFoundError\u001b[0m                       Traceback (most recent call last)",
            "\u001b[0;32m<ipython-input-77-c6268bbd140e>\u001b[0m in \u001b[0;36m<cell line: 3>\u001b[0;34m()\u001b[0m\n\u001b[1;32m      1\u001b[0m \u001b[0;32mimport\u001b[0m \u001b[0msys\u001b[0m\u001b[0;34m\u001b[0m\u001b[0;34m\u001b[0m\u001b[0m\n\u001b[1;32m      2\u001b[0m \u001b[0msys\u001b[0m\u001b[0;34m.\u001b[0m\u001b[0mpath\u001b[0m\u001b[0;34m.\u001b[0m\u001b[0mappend\u001b[0m\u001b[0;34m(\u001b[0m\u001b[0;34m'../../..'\u001b[0m\u001b[0;34m)\u001b[0m\u001b[0;34m\u001b[0m\u001b[0;34m\u001b[0m\u001b[0m\n\u001b[0;32m----> 3\u001b[0;31m \u001b[0;32mfrom\u001b[0m \u001b[0mmodis_water_training\u001b[0m\u001b[0;34m.\u001b[0m\u001b[0mmodel\u001b[0m\u001b[0;34m.\u001b[0m\u001b[0mTabularModisDataGenerator\u001b[0m \u001b[0;32mimport\u001b[0m \u001b[0mTabularModisDataGenerator\u001b[0m\u001b[0;34m\u001b[0m\u001b[0;34m\u001b[0m\u001b[0m\n\u001b[0m",
            "\u001b[0;31mModuleNotFoundError\u001b[0m: No module named 'modis_water_training'",
            "",
            "\u001b[0;31m---------------------------------------------------------------------------\u001b[0;32m\nNOTE: If your import is failing due to a missing package, you can\nmanually install dependencies using either !pip or !apt.\n\nTo view examples of installing some common dependencies, click the\n\"Open Examples\" button below.\n\u001b[0;31m---------------------------------------------------------------------------\u001b[0m\n"
          ],
          "errorDetails": {
            "actions": [
              {
                "action": "open_url",
                "actionText": "Open Examples",
                "url": "/notebooks/snippets/importing_libraries.ipynb"
              }
            ]
          }
        }
      ],
      "source": [
        "import sys\n",
        "sys.path.append('../../..')\n",
        "from modis_water_training.model.TabularModisDataGenerator import TabularModisDataGenerator"
      ]
    },
    {
      "cell_type": "code",
      "execution_count": null,
      "metadata": {
        "id": "KyFQINCnZyZH"
      },
      "outputs": [],
      "source": [
        "TILE = 'h11v10'\n",
        "DAY = 201\n",
        "YEAR = 2006\n",
        "PATH = os.path.join(test_data_basepath, '{}/'.format(TILE))"
      ]
    },
    {
      "cell_type": "code",
      "execution_count": null,
      "metadata": {
        "id": "Yfz07DYIZyZH"
      },
      "outputs": [],
      "source": [
        "tabularGen = TabularModisDataGenerator(tile=TILE, year=YEAR, julianDays=[DAY])\n",
        "sensorDir = f'/css/modis/Collection6.1/L2G/MOD09GA/{YEAR}'\n",
        "modisFilesDict = tabularGen._readFiles(julianDay=DAY, sensorDir=sensorDir)\n",
        "modisFilesList = list(modisFilesDict.values())\n",
        "qa_mask, qa_mask_path = tabularGen._generateBadDataMask(day=DAY, files=modisFilesDict)"
      ]
    },
    {
      "cell_type": "code",
      "execution_count": null,
      "metadata": {
        "id": "2g1DjtrBZyZH"
      },
      "outputs": [],
      "source": [
        "vars_list_gq = [fn for fn in modisFilesList\n",
        "            if 'sur_refl' in fn and 'GQ' in fn]\n",
        "vars_list_gq.sort()\n",
        "\n",
        "vars_list_ga = [fn for fn in modisFilesList\n",
        "            if 'sur_refl' in fn and 'GQ' not in fn]\n",
        "vars_list_ga.sort()\n",
        "\n",
        "vars_list = vars_list_gq\n",
        "vars_list.extend(vars_list_ga)\n",
        "\n",
        "vars_list"
      ]
    },
    {
      "cell_type": "markdown",
      "metadata": {
        "id": "uoH8z0MmZyZH"
      },
      "source": [
        "### Read in data \n",
        "We don't need to slice because we have more than enough GPU memory."
      ]
    },
    {
      "cell_type": "code",
      "execution_count": null,
      "metadata": {
        "id": "g59DgY9eZyZH"
      },
      "outputs": [],
      "source": [
        "def readRasterToArray(vars_list):\n",
        "    vrt_options = gdal.BuildVRTOptions(xRes=231.656358, yRes=231.656358, separate=True)\n",
        "    dd = gdal.BuildVRT('tmp.vrt', vars_list, options=vrt_options)\n",
        "    nrows, ncols = dd.RasterYSize, dd.RasterXSize\n",
        "    newshp = (ncols*nrows, dd.RasterCount+3)\n",
        "    img = np.empty(newshp, dtype=np.int16)\n",
        "    for b in range(len(vars_list)):\n",
        "        img[:, b] = dd.GetRasterBand(b+1).ReadAsArray().astype(np.int16).ravel()\n",
        "    dd = None\n",
        "    img[:, len(vars_list)] = ((img[:, 1] - img[:, 0]) / (img[:, 1] + img[:, 0])) * 10000\n",
        "    img[:, len(vars_list)+1] = ((img[:, 1] - img[:, 5]) / (img[:, 1] + img[:, 5])) * 10000\n",
        "    img[:, len(vars_list)+2] = ((img[:, 1] - img[:, 6]) / (img[:, 1] + img[:, 6])) * 10000\n",
        "    if os.path.exists('tmp.vrt'):\n",
        "        os.remove('tmp.vrt')\n",
        "    return img"
      ]
    },
    {
      "cell_type": "code",
      "execution_count": null,
      "metadata": {
        "id": "mkHdQAl1ZyZI"
      },
      "outputs": [],
      "source": [
        "%%time\n",
        "im = readRasterToArray(vars_list)\n",
        "print('Raster as ndarray')\n",
        "print(im)\n",
        "print('{} MB size'.format((im.size * im.itemsize) / 1000000))"
      ]
    },
    {
      "cell_type": "code",
      "execution_count": null,
      "metadata": {
        "id": "5NsZEbITZyZI"
      },
      "outputs": [],
      "source": [
        "def predictRaster(img_chunk, colsToDrop=None):\n",
        "    \"\"\"\n",
        "    Function given a raster in the form of a nxn matrix, will\n",
        "    convert the matrix to a GPU/CPU-bound data frame then perform \n",
        "    predictions given the loaded model.\n",
        "    \n",
        "    Return the prediction matrix, the prediction probabilities\n",
        "    for each and the dataframe converted to host.\n",
        "    \"\"\"\n",
        "    df = pd.DataFrame(img_chunk, columns=v_names, dtype=np.int16)\n",
        "    df = df.drop(columns=colsToDrop) if colsToDrop else df\n",
        "    print('Making predictions from raster')\n",
        "    predictions = classifier.predict(df).astype(np.int16)\n",
        "    predictionsProbs = classifier.predict_proba(df).astype(np.float32)\n",
        "    return predictions, predictionsProbs, df"
      ]
    },
    {
      "cell_type": "code",
      "execution_count": null,
      "metadata": {
        "id": "LKmTnJsBZyZI"
      },
      "outputs": [],
      "source": [
        "%%time\n",
        "predictedRaster, predictedProbaRaster, df = predictRaster(im, colsToDrop=colsToDrop)"
      ]
    },
    {
      "cell_type": "markdown",
      "metadata": {
        "id": "w0Zumtt3ZyZI"
      },
      "source": [
        "## Inputreshapet raster: description and histogram"
      ]
    },
    {
      "cell_type": "code",
      "execution_count": null,
      "metadata": {
        "id": "HQgxULTaZyZI"
      },
      "outputs": [],
      "source": [
        "df.describe().T"
      ]
    },
    {
      "cell_type": "markdown",
      "metadata": {
        "id": "IMmRLUfDZyZI"
      },
      "source": [
        "#### Reshape the unravelled matrix back to the 4800x4800 raster shape"
      ]
    },
    {
      "cell_type": "code",
      "execution_count": null,
      "metadata": {
        "id": "02Zgy3caZyZI"
      },
      "outputs": [],
      "source": [
        "shp = (4800, 4800)\n",
        "matrix = np.asarray(predictedRaster)\n",
        "reshp = matrix.reshape(shp)\n",
        "reshp.shape"
      ]
    },
    {
      "cell_type": "markdown",
      "metadata": {
        "id": "Gx-SzHmrZyZI"
      },
      "source": [
        "### Import the QA Mask and the Water Mask for the h09v05 TILE"
      ]
    },
    {
      "cell_type": "code",
      "execution_count": null,
      "metadata": {
        "id": "i4sXRzMxZyZI"
      },
      "outputs": [],
      "source": [
        "water_list = [fn for fn in glob.glob(os.path.join(waterMaskPath, '{}'.format(YEAR), '*{}*{}_v5.tif'.format(TILE, YEAR)))]\n",
        "print(os.path.join(waterMaskPath, '{}'.format(YEAR), '*{}*.tif'.format(TILE)))\n",
        "water_mask_path = water_list[0]\n",
        "print(water_mask_path)\n",
        "water_mask = gdal.Open(water_mask_path, gdal.GA_ReadOnly)\n",
        "waterMaskMatrix = water_mask.GetRasterBand(1).ReadAsArray().astype(np.int16)\n",
        "waterMask = None"
      ]
    },
    {
      "cell_type": "markdown",
      "metadata": {
        "id": "26_Zo97LZyZI"
      },
      "source": [
        "### Mask out results if QA Mask says pixel is \"bad\"\n",
        "Mask out water mask if QA Mask says pixel is \"bad\""
      ]
    },
    {
      "cell_type": "code",
      "execution_count": null,
      "metadata": {
        "id": "gXGxSCpsZyZI"
      },
      "outputs": [],
      "source": [
        "maskedResult = np.where(qa_mask == 0, reshp, 255)\n",
        "waterMasked = np.where(qa_mask == 0, waterMaskMatrix, 255)\n",
        "waterMaskRavel = waterMasked.ravel()\n",
        "imWater = (waterMaskRavel == 1)"
      ]
    },
    {
      "cell_type": "code",
      "execution_count": null,
      "metadata": {
        "id": "QTjdOrD6ZyZI"
      },
      "outputs": [],
      "source": [
        "plt.matshow(waterMasked)"
      ]
    },
    {
      "cell_type": "markdown",
      "metadata": {
        "id": "ihRUitgCZyZI"
      },
      "source": [
        "# Generating stats for predicted and truth"
      ]
    },
    {
      "cell_type": "markdown",
      "metadata": {
        "id": "qWqPu-arZyZI"
      },
      "source": [
        "## Predicted Raster"
      ]
    },
    {
      "cell_type": "code",
      "execution_count": null,
      "metadata": {
        "id": "J0lHMrC3ZyZI"
      },
      "outputs": [],
      "source": [
        "import math"
      ]
    },
    {
      "cell_type": "code",
      "execution_count": null,
      "metadata": {
        "id": "O3D7Pz2pZyZI"
      },
      "outputs": [],
      "source": [
        "tp = np.where((waterMasked == 1) & (maskedResult == 1), 1, 0)\n",
        "tn = np.where((waterMasked == 0) & (maskedResult == 0), 1, 0)\n",
        "fp = np.where((waterMasked == 0) & (maskedResult == 1), 1, 0)\n",
        "fn = np.where((waterMasked == 1) & (maskedResult == 0), 1, 0)\n",
        "total = np.count_nonzero(waterMasked == 1) + np.count_nonzero(waterMasked == 0)\n",
        "truePositives = np.count_nonzero(tp == 1)\n",
        "trueNegatives = np.count_nonzero(tn == 1)\n",
        "falsePositives = np.count_nonzero(fp == 1)\n",
        "falseNegatives = np.count_nonzero(fn == 1)\n",
        "accuracy = (truePositives + trueNegatives) / (truePositives + trueNegatives + falsePositives + falseNegatives)\n",
        "jians = truePositives / (truePositives + trueNegatives)\n",
        "pc = truePositives / (truePositives + falsePositives)\n",
        "rc = truePositives / (truePositives + falseNegatives)\n",
        "f1 = truePositives / (truePositives + (0.5*(falsePositives + falseNegatives)))\n",
        "mcc_denom_nosqrt = (truePositives+falsePositives)*(truePositives+falseNegatives)*(trueNegatives+falsePositives)*(trueNegatives+falseNegatives)\n",
        "mcc_numerator = (truePositives*trueNegatives) - (falsePositives*falseNegatives)\n",
        "mcc = mcc_numerator/math.sqrt(mcc_denom_nosqrt)"
      ]
    },
    {
      "cell_type": "code",
      "execution_count": null,
      "metadata": {
        "id": "5v3zs-vgZyZI"
      },
      "outputs": [],
      "source": [
        "countNoData = np.count_nonzero(maskedResult == 255)\n",
        "countLand = np.count_nonzero(maskedResult == 0)\n",
        "countWater = np.count_nonzero(maskedResult == 1)\n",
        "print('Predicted\\n Nodata occurences: {}\\n Land occurance: {}\\n Water occurances: {}'.format(countNoData, countLand, countWater))"
      ]
    },
    {
      "cell_type": "code",
      "execution_count": null,
      "metadata": {
        "id": "QRwcI3fVZyZJ"
      },
      "outputs": [],
      "source": [
        "countNoDataT = np.count_nonzero(waterMasked == 255)\n",
        "countLandT = np.count_nonzero(waterMasked == 0)\n",
        "countWaterT = np.count_nonzero(waterMasked == 1)\n",
        "print('Truth Vals\\n Nodata occurences: {}\\n Land occurance: {}\\n Water occurances: {}'.format(countNoDataT, countLandT, countWaterT))"
      ]
    },
    {
      "cell_type": "markdown",
      "metadata": {
        "id": "51hX0Vy6ZyZJ"
      },
      "source": [
        "### Model metrics on raster data"
      ]
    },
    {
      "cell_type": "code",
      "execution_count": null,
      "metadata": {
        "id": "_T-LOwmoZyZJ"
      },
      "outputs": [],
      "source": [
        "print('Metrics of Accuracy for Raster Test Data')\n",
        "print('True Positives:  {}'.format(truePositives))\n",
        "print('True Negatives:  {}'.format(trueNegatives))\n",
        "print('False Positives: {}'.format(falsePositives))\n",
        "print('False Negatives: {}'.format(falseNegatives))\n",
        "print('Total \"good\" data: {}'.format(total))\n",
        "print('Accuracy*: {}'.format(accuracy))\n",
        "print('Precision: {}'.format(pc))\n",
        "print('Recall: {}'.format(rc))\n",
        "print('f1: {}'.format(f1))\n",
        "print('MCC: {}'.format(mcc))"
      ]
    },
    {
      "cell_type": "markdown",
      "metadata": {
        "id": "THFwnHYsZyZJ"
      },
      "source": [
        "## Output predicted raster to GeoTiff"
      ]
    },
    {
      "cell_type": "code",
      "execution_count": null,
      "metadata": {
        "id": "EzVrkBZTZyZJ"
      },
      "outputs": [],
      "source": [
        "outPath = os.path.join(RASTER_OUTPUT_DIR, '{}_{}_{}_predicted_{}.tif'.format(YEAR, DAY, TILE, MODEL))\n",
        "waterMaskForDay = os.path.join(RASTER_OUTPUT_DIR, 'waterMask_{}_qa_{}.tif'.format(YEAR, DAY, TILE, MODEL))\n",
        "outPathProba = os.path.join(RASTER_OUTPUT_DIR, '{}_{}_{}_predicted_probabilities_{}.tif'.format(YEAR, DAY, TILE, MODEL))\n",
        "print(outPath)\n",
        "print(waterMaskForDay)\n",
        "print(outPathProba)\n",
        "\n",
        "ds = gdal.Open(vars_list[0], gdal.GA_ReadOnly)\n",
        "geo = ds.GetGeoTransform()\n",
        "proj = ds.GetProjection()\n",
        "ncols = ds.RasterXSize\n",
        "nrows = ds.RasterYSize\n",
        "print('Transform')\n",
        "print(geo)\n",
        "print('Projection')\n",
        "print(proj)\n",
        "print('Width')\n",
        "print(ncols)\n",
        "print('Height')\n",
        "print(nrows)\n",
        "ds = None\n",
        "\n",
        "# Output predicted binary raster masked with good-bad mask.\n",
        "driver = gdal.GetDriverByName('GTiff')\n",
        "outDs = driver.Create(outPath, ncols, nrows, 1, gdal.GDT_Float32, options=['COMPRESS=LZW'])\n",
        "outDs.SetGeoTransform(geo)\n",
        "outDs.SetProjection(proj)\n",
        "outBand = outDs.GetRasterBand(1)\n",
        "outBand.WriteArray(maskedResult)\n",
        "outBand.SetNoDataValue(255)\n",
        "outDs.FlushCache()\n",
        "outDs = None\n",
        "outBand = None\n",
        "driver = None\n",
        "\n",
        "# Output water mask with good-bad masked.\n",
        "driver = gdal.GetDriverByName('GTiff')\n",
        "outDs = driver.Create(waterMaskForDay, ncols, nrows, 1, gdal.GDT_Int16, options=['COMPRESS=LZW'])\n",
        "outDs.SetGeoTransform(geo)\n",
        "outDs.SetProjection(proj)\n",
        "outBand = outDs.GetRasterBand(1)\n",
        "outBand.WriteArray(waterMasked)\n",
        "outBand.SetNoDataValue(255)\n",
        "outDs.FlushCache()\n",
        "outDs = None\n",
        "outBand = None\n",
        "driver = None"
      ]
    },
    {
      "cell_type": "code",
      "execution_count": null,
      "metadata": {
        "id": "W78e-0HMZyZJ"
      },
      "outputs": [],
      "source": [
        "import folium\n",
        "from folium import plugins\n",
        "import glob\n",
        "import numpy as np\n",
        "import os\n",
        "import rasterio as rio\n",
        "import tempfile\n",
        "\n",
        "from rasterio.warp import calculate_default_transform, reproject, Resampling\n",
        "from pyproj import Transformer "
      ]
    },
    {
      "cell_type": "code",
      "execution_count": null,
      "metadata": {
        "id": "x6GP26U1ZyZJ"
      },
      "outputs": [],
      "source": [
        "# -----------------------------------------------------------------------------\n",
        "# Uses rasterio to open a raster, get the metadata and crs\n",
        "# associated with it and get all the subdatasets in the file.\n",
        "# This is very useful for hdf files such as MODIS hdfs.\n",
        "# -----------------------------------------------------------------------------\n",
        "def print_subdatasets(filename):\n",
        "    bands_to_return = []\n",
        "    with rio.open(filename) as dataset:\n",
        "        meta_data = dataset.meta\n",
        "        crs = dataset.read_crs()\n",
        "        \n",
        "        print([name for name in dataset.subdatasets if search_term in name])\n",
        "\n",
        "# -----------------------------------------------------------------------------\n",
        "# Gets a tiff that has the correct metadata for that tile, gets the metadata\n",
        "# from the source tif and copies to a destination tiff. \n",
        "# -----------------------------------------------------------------------------     \n",
        "def add_metadata_to_annual_product(filepath, model_type, year, tile):\n",
        "    metadata_pull_src = [fv for fv in glob.glob(os.path.join(filepath, \"{}-1*-{}-MOD-*.tif\".format(year, tile)))][0]\n",
        "    with rio.open(metadata_pull_src) as src:\n",
        "        src_meta = src.meta\n",
        "    dst_tiffs = [os.path.join(filepath, fn) for fn in os.listdir(filepath) if \"{0}-{1}\".format(year, tile) in os.path.basename(fn)]\n",
        "    [copy_meta(dst_tiff, src_meta, metadata_pull_src) for dst_tiff in dst_tiffs]\n",
        "\n",
        "# -----------------------------------------------------------------------------\n",
        "# Given a path to a tiff with no metadata, assign the metadata given to that\n",
        "# tiff.\n",
        "# -----------------------------------------------------------------------------     \n",
        "def copy_meta(dst_path, src_meta, src_name):\n",
        "    print('Copying metadata from {} to {}'.format(src_name, dst_path))\n",
        "    with rio.open(dst_path, 'r+') as dst:\n",
        "        dst.crs = src_meta['crs']\n",
        "        dst.transform = src_meta['transform']        \n",
        "\n",
        "# -----------------------------------------------------------------------------\n",
        "# Given a tiff file as input, open the tiff and get the transform needed to\n",
        "# reproject from the tiff's source crs to the one we want (EPSG:3857).\n",
        "# For each band in the tiff, open then reproject it into the desired crs\n",
        "# then write to a temporary file. Return the path to the temp file.\n",
        "# -----------------------------------------------------------------------------\n",
        "def reproject_to_3857(input_tiff):\n",
        "    # Set desitnation CRS\n",
        "    dst_crs = f\"EPSG:3857\"\n",
        "\n",
        "    # set out path\n",
        "    out_path_rproj = os.path.join(tempfile.gettempdir(), input_tiff.split('/')[-1].replace('.tif','-3857.tif'))\n",
        "\n",
        "    with rio.open(input_tiff) as src:\n",
        "        # get src bounds and transform\n",
        "        transform, width, height = calculate_default_transform(src.crs, dst_crs, src.width, src.height, *src.bounds)\n",
        "        print('Transform: {}'.format(transform))\n",
        "        print('Width: {} Height: {}'.format(width, height))\n",
        "        kwargs = src.meta.copy()\n",
        "        kwargs.update({'crs': dst_crs,\n",
        "                   'transform': transform,\n",
        "                   'width': width,\n",
        "                   'height': height})\n",
        "    \n",
        "        # reproject and write to file\n",
        "        with rio.open(out_path_rproj, 'w', **kwargs) as dst:\n",
        "            for i in range(1, src.count + 1):\n",
        "                reproject(source=rio.band(src, i),\n",
        "                      destination=rio.band(dst, i),\n",
        "                      src_transform=src.transform,\n",
        "                      src_crs=src.crs,\n",
        "                      dst_transform=transform,\n",
        "                      dst_crs=dst_crs,\n",
        "                      resampling=Resampling.nearest)\n",
        "    return out_path_rproj\n",
        "\n",
        "# -----------------------------------------------------------------------------\n",
        "# In order for folium to work properly we need to pass it the bounding box\n",
        "# of the tiff in the form of lat and lon. This is done by using rasterio.\n",
        "# -----------------------------------------------------------------------------\n",
        "def get_bounds(tiff_3857):\n",
        "    with rio.open(tiff_3857) as src:\n",
        "        src_crs = src.crs['init'].upper()\n",
        "        min_lon, min_lat, max_lon, max_lat = src.bounds\n",
        "    bounds_orig = [[min_lat, min_lon], [max_lat, max_lon]]\n",
        "    bounds = []\n",
        "    dst_crs = 'EPSG:4326'\n",
        "    for item in bounds_orig:   \n",
        "        #converting to lat/lon\n",
        "        lat = item[0]\n",
        "        lon = item[1]\n",
        "        proj = Transformer.from_crs(int(src_crs.split(\":\")[1]), int(dst_crs.split(\":\")[1]), always_xy=True)\n",
        "        lon_n, lat_n = proj.transform(lon, lat)\n",
        "        bounds.append([lat_n, lon_n])\n",
        "    center_lon = bounds[0][1] + (bounds[1][1] - bounds[0][1])/2\n",
        "    center_lat = bounds[0][0] + (bounds[1][0] - bounds[0][0])/2\n",
        "    return {'bounds': bounds, 'center': (center_lon, center_lat)}\n",
        "\n",
        "# -----------------------------------------------------------------------------\n",
        "# Use rasterio to open and read in the desired band name as a nd-array.\n",
        "# -----------------------------------------------------------------------------\n",
        "def open_and_get_band(file_name, band_num=1):\n",
        "    with rio.open(file_name) as data:\n",
        "        b = data.read(band_num)\n",
        "    return b\n",
        "\n",
        "# -----------------------------------------------------------------------------\n",
        "# Given an nd-array (band) and the bounds in lat lon of the nd-array, return\n",
        "# a folium layer. To add on the map.\n",
        "# -----------------------------------------------------------------------------\n",
        "def get_overlay(band, meta_dict, name, opacity=1.0, show=True):\n",
        "    return folium.raster_layers.ImageOverlay(band, \n",
        "                                             bounds=meta_dict['bounds'], \n",
        "                                             name=name, \n",
        "                                             opacity=opacity, \n",
        "                                             show=show)\n",
        "\n",
        "# -----------------------------------------------------------------------------\n",
        "# We don't need to keep those temp files we made for the reprojections around.\n",
        "# -----------------------------------------------------------------------------\n",
        "def cleanup(filename):\n",
        "    if os.path.exists(filename):\n",
        "        os.remove(filename)\n",
        "    else:\n",
        "        print('No file: {} exists.'.format(filename))"
      ]
    },
    {
      "cell_type": "code",
      "execution_count": null,
      "metadata": {
        "id": "IOc6bv12ZyZJ"
      },
      "outputs": [],
      "source": [
        "outPath"
      ]
    },
    {
      "cell_type": "code",
      "execution_count": null,
      "metadata": {
        "id": "KTxeRr_jZyZJ"
      },
      "outputs": [],
      "source": [
        "mask_3857 = reproject_to_3857(outPath)\n",
        "mod44_3857 = reproject_to_3857(water_mask_path)\n",
        "qa_3857 = reproject_to_3857(qa_mask_path)\n",
        "\n",
        "mask_d = get_bounds(mask_3857)\n",
        "mod44_d = get_bounds(mod44_3857)\n",
        "qa_d = get_bounds(qa_3857)\n",
        "\n",
        "mask_b1 = open_and_get_band(mask_3857, 1)\n",
        "mask_b1 = np.where(mask_b1 == 255, 0, mask_b1)\n",
        "mod44_b1 = open_and_get_band(mod44_3857, 1)\n",
        "mod44_b1 = np.where(mod44_b1 == 255, 0, mod44_b1)\n",
        "qa_b1 = open_and_get_band(qa_3857, 1)\n",
        "\n",
        "cleanup(mask_3857)\n",
        "cleanup(mod44_3857)\n",
        "cleanup(qa_3857)\n",
        "\n",
        "zeros = np.zeros_like(mask_b1)\n",
        "mask_rgba = np.dstack((mask_b1, zeros, zeros, mask_b1))\n",
        "mod44_rgba = np.dstack((zeros, mod44_b1, zeros, mod44_b1))\n",
        "qa_rgba = np.dstack((qa_b1, qa_b1, qa_b1, qa_b1))"
      ]
    },
    {
      "cell_type": "code",
      "execution_count": null,
      "metadata": {
        "id": "j4dtOF7vZyZJ"
      },
      "outputs": [],
      "source": [
        "m = folium.Map(location=[mask_d['center'][1], mask_d['center'][0]],\n",
        "                   tiles='https://mt1.google.com/vt/lyrs=s&x={x}&y={y}&z={z}', zoom_start = 6, attr='Google', control_scale=True)"
      ]
    },
    {
      "cell_type": "code",
      "execution_count": null,
      "metadata": {
        "id": "LGBPR2LTZyZJ"
      },
      "outputs": [],
      "source": [
        "m.add_child(get_overlay(mask_rgba, mask_d, '{}-{}-{} model water mask'.format(YEAR, DAY, TILE), opacity=0.8))\n",
        "m.add_child(get_overlay(mod44_rgba, mod44_d, '{} {} MOD44W mask'.format(TILE, YEAR), opacity=0.8, show=False))\n",
        "m.add_child(get_overlay(qa_rgba, qa_d, '{}-{}-{} MW QA mask'.format(YEAR, DAY, TILE), opacity=0.8, show=False))\n",
        "m.add_child(plugins.MousePosition())\n",
        "m.add_child(plugins.MeasureControl())\n",
        "m.add_child(folium.LayerControl())"
      ]
    },
    {
      "cell_type": "code",
      "execution_count": null,
      "metadata": {
        "id": "bV27w3bqZyZJ"
      },
      "outputs": [],
      "source": []
    }
  ],
  "metadata": {
    "kernelspec": {
      "display_name": "ILAB Kernel",
      "language": "python",
      "name": "ilab-kernel"
    },
    "language_info": {
      "codemirror_mode": {
        "name": "ipython",
        "version": 3
      },
      "file_extension": ".py",
      "mimetype": "text/x-python",
      "name": "python",
      "nbconvert_exporter": "python",
      "pygments_lexer": "ipython3",
      "version": "3.9.13"
    },
    "colab": {
      "provenance": []
    },
    "widgets": {
      "application/vnd.jupyter.widget-state+json": {
        "21b5f7675aa54029bdc1f90f568f3c6d": {
          "model_module": "@jupyter-widgets/controls",
          "model_name": "HBoxModel",
          "model_module_version": "1.5.0",
          "state": {
            "_dom_classes": [],
            "_model_module": "@jupyter-widgets/controls",
            "_model_module_version": "1.5.0",
            "_model_name": "HBoxModel",
            "_view_count": null,
            "_view_module": "@jupyter-widgets/controls",
            "_view_module_version": "1.5.0",
            "_view_name": "HBoxView",
            "box_style": "",
            "children": [
              "IPY_MODEL_e250d3f8cdee4d4b898bc930314ab834",
              "IPY_MODEL_83a351871b1e4d268b1d85a015d30728",
              "IPY_MODEL_927c960546474d199c48019df1e47b4f"
            ],
            "layout": "IPY_MODEL_ec9587e89258402989f855cd0351732d"
          }
        },
        "e250d3f8cdee4d4b898bc930314ab834": {
          "model_module": "@jupyter-widgets/controls",
          "model_name": "HTMLModel",
          "model_module_version": "1.5.0",
          "state": {
            "_dom_classes": [],
            "_model_module": "@jupyter-widgets/controls",
            "_model_module_version": "1.5.0",
            "_model_name": "HTMLModel",
            "_view_count": null,
            "_view_module": "@jupyter-widgets/controls",
            "_view_module_version": "1.5.0",
            "_view_name": "HTMLView",
            "description": "",
            "description_tooltip": null,
            "layout": "IPY_MODEL_0082906f6b5543b081cb20552a9f01b1",
            "placeholder": "​",
            "style": "IPY_MODEL_b131c9d5d8d540b09433b4c2125f239d",
            "value": "Downloading readme: 100%"
          }
        },
        "83a351871b1e4d268b1d85a015d30728": {
          "model_module": "@jupyter-widgets/controls",
          "model_name": "FloatProgressModel",
          "model_module_version": "1.5.0",
          "state": {
            "_dom_classes": [],
            "_model_module": "@jupyter-widgets/controls",
            "_model_module_version": "1.5.0",
            "_model_name": "FloatProgressModel",
            "_view_count": null,
            "_view_module": "@jupyter-widgets/controls",
            "_view_module_version": "1.5.0",
            "_view_name": "ProgressView",
            "bar_style": "success",
            "description": "",
            "description_tooltip": null,
            "layout": "IPY_MODEL_235f875ccb44411ebb7448d8fc7fa796",
            "max": 1429,
            "min": 0,
            "orientation": "horizontal",
            "style": "IPY_MODEL_321fdc9ffa17406c80b04684ad89feb0",
            "value": 1429
          }
        },
        "927c960546474d199c48019df1e47b4f": {
          "model_module": "@jupyter-widgets/controls",
          "model_name": "HTMLModel",
          "model_module_version": "1.5.0",
          "state": {
            "_dom_classes": [],
            "_model_module": "@jupyter-widgets/controls",
            "_model_module_version": "1.5.0",
            "_model_name": "HTMLModel",
            "_view_count": null,
            "_view_module": "@jupyter-widgets/controls",
            "_view_module_version": "1.5.0",
            "_view_name": "HTMLView",
            "description": "",
            "description_tooltip": null,
            "layout": "IPY_MODEL_b3e17cf099b74b9696231015e91db695",
            "placeholder": "​",
            "style": "IPY_MODEL_862c488514e448eb8cba6e0110a97ccb",
            "value": " 1.43k/1.43k [00:00&lt;00:00, 48.0kB/s]"
          }
        },
        "ec9587e89258402989f855cd0351732d": {
          "model_module": "@jupyter-widgets/base",
          "model_name": "LayoutModel",
          "model_module_version": "1.2.0",
          "state": {
            "_model_module": "@jupyter-widgets/base",
            "_model_module_version": "1.2.0",
            "_model_name": "LayoutModel",
            "_view_count": null,
            "_view_module": "@jupyter-widgets/base",
            "_view_module_version": "1.2.0",
            "_view_name": "LayoutView",
            "align_content": null,
            "align_items": null,
            "align_self": null,
            "border": null,
            "bottom": null,
            "display": null,
            "flex": null,
            "flex_flow": null,
            "grid_area": null,
            "grid_auto_columns": null,
            "grid_auto_flow": null,
            "grid_auto_rows": null,
            "grid_column": null,
            "grid_gap": null,
            "grid_row": null,
            "grid_template_areas": null,
            "grid_template_columns": null,
            "grid_template_rows": null,
            "height": null,
            "justify_content": null,
            "justify_items": null,
            "left": null,
            "margin": null,
            "max_height": null,
            "max_width": null,
            "min_height": null,
            "min_width": null,
            "object_fit": null,
            "object_position": null,
            "order": null,
            "overflow": null,
            "overflow_x": null,
            "overflow_y": null,
            "padding": null,
            "right": null,
            "top": null,
            "visibility": null,
            "width": null
          }
        },
        "0082906f6b5543b081cb20552a9f01b1": {
          "model_module": "@jupyter-widgets/base",
          "model_name": "LayoutModel",
          "model_module_version": "1.2.0",
          "state": {
            "_model_module": "@jupyter-widgets/base",
            "_model_module_version": "1.2.0",
            "_model_name": "LayoutModel",
            "_view_count": null,
            "_view_module": "@jupyter-widgets/base",
            "_view_module_version": "1.2.0",
            "_view_name": "LayoutView",
            "align_content": null,
            "align_items": null,
            "align_self": null,
            "border": null,
            "bottom": null,
            "display": null,
            "flex": null,
            "flex_flow": null,
            "grid_area": null,
            "grid_auto_columns": null,
            "grid_auto_flow": null,
            "grid_auto_rows": null,
            "grid_column": null,
            "grid_gap": null,
            "grid_row": null,
            "grid_template_areas": null,
            "grid_template_columns": null,
            "grid_template_rows": null,
            "height": null,
            "justify_content": null,
            "justify_items": null,
            "left": null,
            "margin": null,
            "max_height": null,
            "max_width": null,
            "min_height": null,
            "min_width": null,
            "object_fit": null,
            "object_position": null,
            "order": null,
            "overflow": null,
            "overflow_x": null,
            "overflow_y": null,
            "padding": null,
            "right": null,
            "top": null,
            "visibility": null,
            "width": null
          }
        },
        "b131c9d5d8d540b09433b4c2125f239d": {
          "model_module": "@jupyter-widgets/controls",
          "model_name": "DescriptionStyleModel",
          "model_module_version": "1.5.0",
          "state": {
            "_model_module": "@jupyter-widgets/controls",
            "_model_module_version": "1.5.0",
            "_model_name": "DescriptionStyleModel",
            "_view_count": null,
            "_view_module": "@jupyter-widgets/base",
            "_view_module_version": "1.2.0",
            "_view_name": "StyleView",
            "description_width": ""
          }
        },
        "235f875ccb44411ebb7448d8fc7fa796": {
          "model_module": "@jupyter-widgets/base",
          "model_name": "LayoutModel",
          "model_module_version": "1.2.0",
          "state": {
            "_model_module": "@jupyter-widgets/base",
            "_model_module_version": "1.2.0",
            "_model_name": "LayoutModel",
            "_view_count": null,
            "_view_module": "@jupyter-widgets/base",
            "_view_module_version": "1.2.0",
            "_view_name": "LayoutView",
            "align_content": null,
            "align_items": null,
            "align_self": null,
            "border": null,
            "bottom": null,
            "display": null,
            "flex": null,
            "flex_flow": null,
            "grid_area": null,
            "grid_auto_columns": null,
            "grid_auto_flow": null,
            "grid_auto_rows": null,
            "grid_column": null,
            "grid_gap": null,
            "grid_row": null,
            "grid_template_areas": null,
            "grid_template_columns": null,
            "grid_template_rows": null,
            "height": null,
            "justify_content": null,
            "justify_items": null,
            "left": null,
            "margin": null,
            "max_height": null,
            "max_width": null,
            "min_height": null,
            "min_width": null,
            "object_fit": null,
            "object_position": null,
            "order": null,
            "overflow": null,
            "overflow_x": null,
            "overflow_y": null,
            "padding": null,
            "right": null,
            "top": null,
            "visibility": null,
            "width": null
          }
        },
        "321fdc9ffa17406c80b04684ad89feb0": {
          "model_module": "@jupyter-widgets/controls",
          "model_name": "ProgressStyleModel",
          "model_module_version": "1.5.0",
          "state": {
            "_model_module": "@jupyter-widgets/controls",
            "_model_module_version": "1.5.0",
            "_model_name": "ProgressStyleModel",
            "_view_count": null,
            "_view_module": "@jupyter-widgets/base",
            "_view_module_version": "1.2.0",
            "_view_name": "StyleView",
            "bar_color": null,
            "description_width": ""
          }
        },
        "b3e17cf099b74b9696231015e91db695": {
          "model_module": "@jupyter-widgets/base",
          "model_name": "LayoutModel",
          "model_module_version": "1.2.0",
          "state": {
            "_model_module": "@jupyter-widgets/base",
            "_model_module_version": "1.2.0",
            "_model_name": "LayoutModel",
            "_view_count": null,
            "_view_module": "@jupyter-widgets/base",
            "_view_module_version": "1.2.0",
            "_view_name": "LayoutView",
            "align_content": null,
            "align_items": null,
            "align_self": null,
            "border": null,
            "bottom": null,
            "display": null,
            "flex": null,
            "flex_flow": null,
            "grid_area": null,
            "grid_auto_columns": null,
            "grid_auto_flow": null,
            "grid_auto_rows": null,
            "grid_column": null,
            "grid_gap": null,
            "grid_row": null,
            "grid_template_areas": null,
            "grid_template_columns": null,
            "grid_template_rows": null,
            "height": null,
            "justify_content": null,
            "justify_items": null,
            "left": null,
            "margin": null,
            "max_height": null,
            "max_width": null,
            "min_height": null,
            "min_width": null,
            "object_fit": null,
            "object_position": null,
            "order": null,
            "overflow": null,
            "overflow_x": null,
            "overflow_y": null,
            "padding": null,
            "right": null,
            "top": null,
            "visibility": null,
            "width": null
          }
        },
        "862c488514e448eb8cba6e0110a97ccb": {
          "model_module": "@jupyter-widgets/controls",
          "model_name": "DescriptionStyleModel",
          "model_module_version": "1.5.0",
          "state": {
            "_model_module": "@jupyter-widgets/controls",
            "_model_module_version": "1.5.0",
            "_model_name": "DescriptionStyleModel",
            "_view_count": null,
            "_view_module": "@jupyter-widgets/base",
            "_view_module_version": "1.2.0",
            "_view_name": "StyleView",
            "description_width": ""
          }
        },
        "357ec8c117cf47b5975f40c94d1932b9": {
          "model_module": "@jupyter-widgets/controls",
          "model_name": "HBoxModel",
          "model_module_version": "1.5.0",
          "state": {
            "_dom_classes": [],
            "_model_module": "@jupyter-widgets/controls",
            "_model_module_version": "1.5.0",
            "_model_name": "HBoxModel",
            "_view_count": null,
            "_view_module": "@jupyter-widgets/controls",
            "_view_module_version": "1.5.0",
            "_view_name": "HBoxView",
            "box_style": "",
            "children": [
              "IPY_MODEL_e713c8be20d541bbb9dbb3c17452436a",
              "IPY_MODEL_cf17c5b73a734af2b20b4b24bb63f416",
              "IPY_MODEL_b98ea88a0bfc4c40b5cbb9f3495de9a5"
            ],
            "layout": "IPY_MODEL_249d63fea8754cf69b4919350dd77a90"
          }
        },
        "e713c8be20d541bbb9dbb3c17452436a": {
          "model_module": "@jupyter-widgets/controls",
          "model_name": "HTMLModel",
          "model_module_version": "1.5.0",
          "state": {
            "_dom_classes": [],
            "_model_module": "@jupyter-widgets/controls",
            "_model_module_version": "1.5.0",
            "_model_name": "HTMLModel",
            "_view_count": null,
            "_view_module": "@jupyter-widgets/controls",
            "_view_module_version": "1.5.0",
            "_view_name": "HTMLView",
            "description": "",
            "description_tooltip": null,
            "layout": "IPY_MODEL_7b74b4dc0bc043e8bb8ac132967555be",
            "placeholder": "​",
            "style": "IPY_MODEL_25373719c196494f9549a885c091d8e1",
            "value": "Downloading data files: 100%"
          }
        },
        "cf17c5b73a734af2b20b4b24bb63f416": {
          "model_module": "@jupyter-widgets/controls",
          "model_name": "FloatProgressModel",
          "model_module_version": "1.5.0",
          "state": {
            "_dom_classes": [],
            "_model_module": "@jupyter-widgets/controls",
            "_model_module_version": "1.5.0",
            "_model_name": "FloatProgressModel",
            "_view_count": null,
            "_view_module": "@jupyter-widgets/controls",
            "_view_module_version": "1.5.0",
            "_view_name": "ProgressView",
            "bar_style": "success",
            "description": "",
            "description_tooltip": null,
            "layout": "IPY_MODEL_9dd091f4301f4cd293ca866dfdfed523",
            "max": 2,
            "min": 0,
            "orientation": "horizontal",
            "style": "IPY_MODEL_1b663205716148c98ef72e3afc3dd60f",
            "value": 2
          }
        },
        "b98ea88a0bfc4c40b5cbb9f3495de9a5": {
          "model_module": "@jupyter-widgets/controls",
          "model_name": "HTMLModel",
          "model_module_version": "1.5.0",
          "state": {
            "_dom_classes": [],
            "_model_module": "@jupyter-widgets/controls",
            "_model_module_version": "1.5.0",
            "_model_name": "HTMLModel",
            "_view_count": null,
            "_view_module": "@jupyter-widgets/controls",
            "_view_module_version": "1.5.0",
            "_view_name": "HTMLView",
            "description": "",
            "description_tooltip": null,
            "layout": "IPY_MODEL_7b607a4eb75645f6bc9a4e5765166e5d",
            "placeholder": "​",
            "style": "IPY_MODEL_ab2fa6570f93465993e71a4b417c479e",
            "value": " 2/2 [00:00&lt;00:00,  2.72it/s]"
          }
        },
        "249d63fea8754cf69b4919350dd77a90": {
          "model_module": "@jupyter-widgets/base",
          "model_name": "LayoutModel",
          "model_module_version": "1.2.0",
          "state": {
            "_model_module": "@jupyter-widgets/base",
            "_model_module_version": "1.2.0",
            "_model_name": "LayoutModel",
            "_view_count": null,
            "_view_module": "@jupyter-widgets/base",
            "_view_module_version": "1.2.0",
            "_view_name": "LayoutView",
            "align_content": null,
            "align_items": null,
            "align_self": null,
            "border": null,
            "bottom": null,
            "display": null,
            "flex": null,
            "flex_flow": null,
            "grid_area": null,
            "grid_auto_columns": null,
            "grid_auto_flow": null,
            "grid_auto_rows": null,
            "grid_column": null,
            "grid_gap": null,
            "grid_row": null,
            "grid_template_areas": null,
            "grid_template_columns": null,
            "grid_template_rows": null,
            "height": null,
            "justify_content": null,
            "justify_items": null,
            "left": null,
            "margin": null,
            "max_height": null,
            "max_width": null,
            "min_height": null,
            "min_width": null,
            "object_fit": null,
            "object_position": null,
            "order": null,
            "overflow": null,
            "overflow_x": null,
            "overflow_y": null,
            "padding": null,
            "right": null,
            "top": null,
            "visibility": null,
            "width": null
          }
        },
        "7b74b4dc0bc043e8bb8ac132967555be": {
          "model_module": "@jupyter-widgets/base",
          "model_name": "LayoutModel",
          "model_module_version": "1.2.0",
          "state": {
            "_model_module": "@jupyter-widgets/base",
            "_model_module_version": "1.2.0",
            "_model_name": "LayoutModel",
            "_view_count": null,
            "_view_module": "@jupyter-widgets/base",
            "_view_module_version": "1.2.0",
            "_view_name": "LayoutView",
            "align_content": null,
            "align_items": null,
            "align_self": null,
            "border": null,
            "bottom": null,
            "display": null,
            "flex": null,
            "flex_flow": null,
            "grid_area": null,
            "grid_auto_columns": null,
            "grid_auto_flow": null,
            "grid_auto_rows": null,
            "grid_column": null,
            "grid_gap": null,
            "grid_row": null,
            "grid_template_areas": null,
            "grid_template_columns": null,
            "grid_template_rows": null,
            "height": null,
            "justify_content": null,
            "justify_items": null,
            "left": null,
            "margin": null,
            "max_height": null,
            "max_width": null,
            "min_height": null,
            "min_width": null,
            "object_fit": null,
            "object_position": null,
            "order": null,
            "overflow": null,
            "overflow_x": null,
            "overflow_y": null,
            "padding": null,
            "right": null,
            "top": null,
            "visibility": null,
            "width": null
          }
        },
        "25373719c196494f9549a885c091d8e1": {
          "model_module": "@jupyter-widgets/controls",
          "model_name": "DescriptionStyleModel",
          "model_module_version": "1.5.0",
          "state": {
            "_model_module": "@jupyter-widgets/controls",
            "_model_module_version": "1.5.0",
            "_model_name": "DescriptionStyleModel",
            "_view_count": null,
            "_view_module": "@jupyter-widgets/base",
            "_view_module_version": "1.2.0",
            "_view_name": "StyleView",
            "description_width": ""
          }
        },
        "9dd091f4301f4cd293ca866dfdfed523": {
          "model_module": "@jupyter-widgets/base",
          "model_name": "LayoutModel",
          "model_module_version": "1.2.0",
          "state": {
            "_model_module": "@jupyter-widgets/base",
            "_model_module_version": "1.2.0",
            "_model_name": "LayoutModel",
            "_view_count": null,
            "_view_module": "@jupyter-widgets/base",
            "_view_module_version": "1.2.0",
            "_view_name": "LayoutView",
            "align_content": null,
            "align_items": null,
            "align_self": null,
            "border": null,
            "bottom": null,
            "display": null,
            "flex": null,
            "flex_flow": null,
            "grid_area": null,
            "grid_auto_columns": null,
            "grid_auto_flow": null,
            "grid_auto_rows": null,
            "grid_column": null,
            "grid_gap": null,
            "grid_row": null,
            "grid_template_areas": null,
            "grid_template_columns": null,
            "grid_template_rows": null,
            "height": null,
            "justify_content": null,
            "justify_items": null,
            "left": null,
            "margin": null,
            "max_height": null,
            "max_width": null,
            "min_height": null,
            "min_width": null,
            "object_fit": null,
            "object_position": null,
            "order": null,
            "overflow": null,
            "overflow_x": null,
            "overflow_y": null,
            "padding": null,
            "right": null,
            "top": null,
            "visibility": null,
            "width": null
          }
        },
        "1b663205716148c98ef72e3afc3dd60f": {
          "model_module": "@jupyter-widgets/controls",
          "model_name": "ProgressStyleModel",
          "model_module_version": "1.5.0",
          "state": {
            "_model_module": "@jupyter-widgets/controls",
            "_model_module_version": "1.5.0",
            "_model_name": "ProgressStyleModel",
            "_view_count": null,
            "_view_module": "@jupyter-widgets/base",
            "_view_module_version": "1.2.0",
            "_view_name": "StyleView",
            "bar_color": null,
            "description_width": ""
          }
        },
        "7b607a4eb75645f6bc9a4e5765166e5d": {
          "model_module": "@jupyter-widgets/base",
          "model_name": "LayoutModel",
          "model_module_version": "1.2.0",
          "state": {
            "_model_module": "@jupyter-widgets/base",
            "_model_module_version": "1.2.0",
            "_model_name": "LayoutModel",
            "_view_count": null,
            "_view_module": "@jupyter-widgets/base",
            "_view_module_version": "1.2.0",
            "_view_name": "LayoutView",
            "align_content": null,
            "align_items": null,
            "align_self": null,
            "border": null,
            "bottom": null,
            "display": null,
            "flex": null,
            "flex_flow": null,
            "grid_area": null,
            "grid_auto_columns": null,
            "grid_auto_flow": null,
            "grid_auto_rows": null,
            "grid_column": null,
            "grid_gap": null,
            "grid_row": null,
            "grid_template_areas": null,
            "grid_template_columns": null,
            "grid_template_rows": null,
            "height": null,
            "justify_content": null,
            "justify_items": null,
            "left": null,
            "margin": null,
            "max_height": null,
            "max_width": null,
            "min_height": null,
            "min_width": null,
            "object_fit": null,
            "object_position": null,
            "order": null,
            "overflow": null,
            "overflow_x": null,
            "overflow_y": null,
            "padding": null,
            "right": null,
            "top": null,
            "visibility": null,
            "width": null
          }
        },
        "ab2fa6570f93465993e71a4b417c479e": {
          "model_module": "@jupyter-widgets/controls",
          "model_name": "DescriptionStyleModel",
          "model_module_version": "1.5.0",
          "state": {
            "_model_module": "@jupyter-widgets/controls",
            "_model_module_version": "1.5.0",
            "_model_name": "DescriptionStyleModel",
            "_view_count": null,
            "_view_module": "@jupyter-widgets/base",
            "_view_module_version": "1.2.0",
            "_view_name": "StyleView",
            "description_width": ""
          }
        },
        "f9d3121ab9f244eab625ca92ea0be961": {
          "model_module": "@jupyter-widgets/controls",
          "model_name": "HBoxModel",
          "model_module_version": "1.5.0",
          "state": {
            "_dom_classes": [],
            "_model_module": "@jupyter-widgets/controls",
            "_model_module_version": "1.5.0",
            "_model_name": "HBoxModel",
            "_view_count": null,
            "_view_module": "@jupyter-widgets/controls",
            "_view_module_version": "1.5.0",
            "_view_name": "HBoxView",
            "box_style": "",
            "children": [
              "IPY_MODEL_b0e315e2ada84777bfd978d3832eaab6",
              "IPY_MODEL_b26fa67f5e4c4120993387b8b6643a85",
              "IPY_MODEL_a4385b5b745a47a9aaacdb742c784353"
            ],
            "layout": "IPY_MODEL_45a914dce6b54bf2800495b07b1a5a4c"
          }
        },
        "b0e315e2ada84777bfd978d3832eaab6": {
          "model_module": "@jupyter-widgets/controls",
          "model_name": "HTMLModel",
          "model_module_version": "1.5.0",
          "state": {
            "_dom_classes": [],
            "_model_module": "@jupyter-widgets/controls",
            "_model_module_version": "1.5.0",
            "_model_name": "HTMLModel",
            "_view_count": null,
            "_view_module": "@jupyter-widgets/controls",
            "_view_module_version": "1.5.0",
            "_view_name": "HTMLView",
            "description": "",
            "description_tooltip": null,
            "layout": "IPY_MODEL_75053d7f5a194d468325797fb2f3bc03",
            "placeholder": "​",
            "style": "IPY_MODEL_37d82139f07a4a03950a5d28516ee1e4",
            "value": "Downloading data: 100%"
          }
        },
        "b26fa67f5e4c4120993387b8b6643a85": {
          "model_module": "@jupyter-widgets/controls",
          "model_name": "FloatProgressModel",
          "model_module_version": "1.5.0",
          "state": {
            "_dom_classes": [],
            "_model_module": "@jupyter-widgets/controls",
            "_model_module_version": "1.5.0",
            "_model_name": "FloatProgressModel",
            "_view_count": null,
            "_view_module": "@jupyter-widgets/controls",
            "_view_module_version": "1.5.0",
            "_view_name": "ProgressView",
            "bar_style": "success",
            "description": "",
            "description_tooltip": null,
            "layout": "IPY_MODEL_8e3b91b182fa43fa9297f476f060d8e4",
            "max": 39357,
            "min": 0,
            "orientation": "horizontal",
            "style": "IPY_MODEL_0a628645f92f420982a1a3d89818ce5d",
            "value": 39357
          }
        },
        "a4385b5b745a47a9aaacdb742c784353": {
          "model_module": "@jupyter-widgets/controls",
          "model_name": "HTMLModel",
          "model_module_version": "1.5.0",
          "state": {
            "_dom_classes": [],
            "_model_module": "@jupyter-widgets/controls",
            "_model_module_version": "1.5.0",
            "_model_name": "HTMLModel",
            "_view_count": null,
            "_view_module": "@jupyter-widgets/controls",
            "_view_module_version": "1.5.0",
            "_view_name": "HTMLView",
            "description": "",
            "description_tooltip": null,
            "layout": "IPY_MODEL_c64421549f7040fabbb6ac961cc9dd4b",
            "placeholder": "​",
            "style": "IPY_MODEL_f8fdb493fd2745ba8b70aad097536186",
            "value": " 39.4k/39.4k [00:00&lt;00:00, 1.19MB/s]"
          }
        },
        "45a914dce6b54bf2800495b07b1a5a4c": {
          "model_module": "@jupyter-widgets/base",
          "model_name": "LayoutModel",
          "model_module_version": "1.2.0",
          "state": {
            "_model_module": "@jupyter-widgets/base",
            "_model_module_version": "1.2.0",
            "_model_name": "LayoutModel",
            "_view_count": null,
            "_view_module": "@jupyter-widgets/base",
            "_view_module_version": "1.2.0",
            "_view_name": "LayoutView",
            "align_content": null,
            "align_items": null,
            "align_self": null,
            "border": null,
            "bottom": null,
            "display": null,
            "flex": null,
            "flex_flow": null,
            "grid_area": null,
            "grid_auto_columns": null,
            "grid_auto_flow": null,
            "grid_auto_rows": null,
            "grid_column": null,
            "grid_gap": null,
            "grid_row": null,
            "grid_template_areas": null,
            "grid_template_columns": null,
            "grid_template_rows": null,
            "height": null,
            "justify_content": null,
            "justify_items": null,
            "left": null,
            "margin": null,
            "max_height": null,
            "max_width": null,
            "min_height": null,
            "min_width": null,
            "object_fit": null,
            "object_position": null,
            "order": null,
            "overflow": null,
            "overflow_x": null,
            "overflow_y": null,
            "padding": null,
            "right": null,
            "top": null,
            "visibility": null,
            "width": null
          }
        },
        "75053d7f5a194d468325797fb2f3bc03": {
          "model_module": "@jupyter-widgets/base",
          "model_name": "LayoutModel",
          "model_module_version": "1.2.0",
          "state": {
            "_model_module": "@jupyter-widgets/base",
            "_model_module_version": "1.2.0",
            "_model_name": "LayoutModel",
            "_view_count": null,
            "_view_module": "@jupyter-widgets/base",
            "_view_module_version": "1.2.0",
            "_view_name": "LayoutView",
            "align_content": null,
            "align_items": null,
            "align_self": null,
            "border": null,
            "bottom": null,
            "display": null,
            "flex": null,
            "flex_flow": null,
            "grid_area": null,
            "grid_auto_columns": null,
            "grid_auto_flow": null,
            "grid_auto_rows": null,
            "grid_column": null,
            "grid_gap": null,
            "grid_row": null,
            "grid_template_areas": null,
            "grid_template_columns": null,
            "grid_template_rows": null,
            "height": null,
            "justify_content": null,
            "justify_items": null,
            "left": null,
            "margin": null,
            "max_height": null,
            "max_width": null,
            "min_height": null,
            "min_width": null,
            "object_fit": null,
            "object_position": null,
            "order": null,
            "overflow": null,
            "overflow_x": null,
            "overflow_y": null,
            "padding": null,
            "right": null,
            "top": null,
            "visibility": null,
            "width": null
          }
        },
        "37d82139f07a4a03950a5d28516ee1e4": {
          "model_module": "@jupyter-widgets/controls",
          "model_name": "DescriptionStyleModel",
          "model_module_version": "1.5.0",
          "state": {
            "_model_module": "@jupyter-widgets/controls",
            "_model_module_version": "1.5.0",
            "_model_name": "DescriptionStyleModel",
            "_view_count": null,
            "_view_module": "@jupyter-widgets/base",
            "_view_module_version": "1.2.0",
            "_view_name": "StyleView",
            "description_width": ""
          }
        },
        "8e3b91b182fa43fa9297f476f060d8e4": {
          "model_module": "@jupyter-widgets/base",
          "model_name": "LayoutModel",
          "model_module_version": "1.2.0",
          "state": {
            "_model_module": "@jupyter-widgets/base",
            "_model_module_version": "1.2.0",
            "_model_name": "LayoutModel",
            "_view_count": null,
            "_view_module": "@jupyter-widgets/base",
            "_view_module_version": "1.2.0",
            "_view_name": "LayoutView",
            "align_content": null,
            "align_items": null,
            "align_self": null,
            "border": null,
            "bottom": null,
            "display": null,
            "flex": null,
            "flex_flow": null,
            "grid_area": null,
            "grid_auto_columns": null,
            "grid_auto_flow": null,
            "grid_auto_rows": null,
            "grid_column": null,
            "grid_gap": null,
            "grid_row": null,
            "grid_template_areas": null,
            "grid_template_columns": null,
            "grid_template_rows": null,
            "height": null,
            "justify_content": null,
            "justify_items": null,
            "left": null,
            "margin": null,
            "max_height": null,
            "max_width": null,
            "min_height": null,
            "min_width": null,
            "object_fit": null,
            "object_position": null,
            "order": null,
            "overflow": null,
            "overflow_x": null,
            "overflow_y": null,
            "padding": null,
            "right": null,
            "top": null,
            "visibility": null,
            "width": null
          }
        },
        "0a628645f92f420982a1a3d89818ce5d": {
          "model_module": "@jupyter-widgets/controls",
          "model_name": "ProgressStyleModel",
          "model_module_version": "1.5.0",
          "state": {
            "_model_module": "@jupyter-widgets/controls",
            "_model_module_version": "1.5.0",
            "_model_name": "ProgressStyleModel",
            "_view_count": null,
            "_view_module": "@jupyter-widgets/base",
            "_view_module_version": "1.2.0",
            "_view_name": "StyleView",
            "bar_color": null,
            "description_width": ""
          }
        },
        "c64421549f7040fabbb6ac961cc9dd4b": {
          "model_module": "@jupyter-widgets/base",
          "model_name": "LayoutModel",
          "model_module_version": "1.2.0",
          "state": {
            "_model_module": "@jupyter-widgets/base",
            "_model_module_version": "1.2.0",
            "_model_name": "LayoutModel",
            "_view_count": null,
            "_view_module": "@jupyter-widgets/base",
            "_view_module_version": "1.2.0",
            "_view_name": "LayoutView",
            "align_content": null,
            "align_items": null,
            "align_self": null,
            "border": null,
            "bottom": null,
            "display": null,
            "flex": null,
            "flex_flow": null,
            "grid_area": null,
            "grid_auto_columns": null,
            "grid_auto_flow": null,
            "grid_auto_rows": null,
            "grid_column": null,
            "grid_gap": null,
            "grid_row": null,
            "grid_template_areas": null,
            "grid_template_columns": null,
            "grid_template_rows": null,
            "height": null,
            "justify_content": null,
            "justify_items": null,
            "left": null,
            "margin": null,
            "max_height": null,
            "max_width": null,
            "min_height": null,
            "min_width": null,
            "object_fit": null,
            "object_position": null,
            "order": null,
            "overflow": null,
            "overflow_x": null,
            "overflow_y": null,
            "padding": null,
            "right": null,
            "top": null,
            "visibility": null,
            "width": null
          }
        },
        "f8fdb493fd2745ba8b70aad097536186": {
          "model_module": "@jupyter-widgets/controls",
          "model_name": "DescriptionStyleModel",
          "model_module_version": "1.5.0",
          "state": {
            "_model_module": "@jupyter-widgets/controls",
            "_model_module_version": "1.5.0",
            "_model_name": "DescriptionStyleModel",
            "_view_count": null,
            "_view_module": "@jupyter-widgets/base",
            "_view_module_version": "1.2.0",
            "_view_name": "StyleView",
            "description_width": ""
          }
        },
        "01448a96b08d4c9b8fe92064f89bcf95": {
          "model_module": "@jupyter-widgets/controls",
          "model_name": "HBoxModel",
          "model_module_version": "1.5.0",
          "state": {
            "_dom_classes": [],
            "_model_module": "@jupyter-widgets/controls",
            "_model_module_version": "1.5.0",
            "_model_name": "HBoxModel",
            "_view_count": null,
            "_view_module": "@jupyter-widgets/controls",
            "_view_module_version": "1.5.0",
            "_view_name": "HBoxView",
            "box_style": "",
            "children": [
              "IPY_MODEL_9bb340a7a2024d52aa1f89d66a67c2b6",
              "IPY_MODEL_86cecaf87f2141dcb3a921ce1858f1a3",
              "IPY_MODEL_4c228b66059b4d008e2c6663ecb456ac"
            ],
            "layout": "IPY_MODEL_345a939e492f4353bd852bc9848e5939"
          }
        },
        "9bb340a7a2024d52aa1f89d66a67c2b6": {
          "model_module": "@jupyter-widgets/controls",
          "model_name": "HTMLModel",
          "model_module_version": "1.5.0",
          "state": {
            "_dom_classes": [],
            "_model_module": "@jupyter-widgets/controls",
            "_model_module_version": "1.5.0",
            "_model_name": "HTMLModel",
            "_view_count": null,
            "_view_module": "@jupyter-widgets/controls",
            "_view_module_version": "1.5.0",
            "_view_name": "HTMLView",
            "description": "",
            "description_tooltip": null,
            "layout": "IPY_MODEL_b9de44086adc447a931dfbb45b72d7b9",
            "placeholder": "​",
            "style": "IPY_MODEL_0a65924913d840f0ad390132e3f2bda2",
            "value": "Downloading data: 100%"
          }
        },
        "86cecaf87f2141dcb3a921ce1858f1a3": {
          "model_module": "@jupyter-widgets/controls",
          "model_name": "FloatProgressModel",
          "model_module_version": "1.5.0",
          "state": {
            "_dom_classes": [],
            "_model_module": "@jupyter-widgets/controls",
            "_model_module_version": "1.5.0",
            "_model_name": "FloatProgressModel",
            "_view_count": null,
            "_view_module": "@jupyter-widgets/controls",
            "_view_module_version": "1.5.0",
            "_view_name": "ProgressView",
            "bar_style": "success",
            "description": "",
            "description_tooltip": null,
            "layout": "IPY_MODEL_832779e1db78489a9400a1a0013f3401",
            "max": 9942,
            "min": 0,
            "orientation": "horizontal",
            "style": "IPY_MODEL_0dd6c12f70aa441da7772f18111872a2",
            "value": 9942
          }
        },
        "4c228b66059b4d008e2c6663ecb456ac": {
          "model_module": "@jupyter-widgets/controls",
          "model_name": "HTMLModel",
          "model_module_version": "1.5.0",
          "state": {
            "_dom_classes": [],
            "_model_module": "@jupyter-widgets/controls",
            "_model_module_version": "1.5.0",
            "_model_name": "HTMLModel",
            "_view_count": null,
            "_view_module": "@jupyter-widgets/controls",
            "_view_module_version": "1.5.0",
            "_view_name": "HTMLView",
            "description": "",
            "description_tooltip": null,
            "layout": "IPY_MODEL_d8b3a8a6baee4a27a373dd59e890a56c",
            "placeholder": "​",
            "style": "IPY_MODEL_0452abb59f864a26886fa3ccdc3bfd05",
            "value": " 9.94k/9.94k [00:00&lt;00:00, 535kB/s]"
          }
        },
        "345a939e492f4353bd852bc9848e5939": {
          "model_module": "@jupyter-widgets/base",
          "model_name": "LayoutModel",
          "model_module_version": "1.2.0",
          "state": {
            "_model_module": "@jupyter-widgets/base",
            "_model_module_version": "1.2.0",
            "_model_name": "LayoutModel",
            "_view_count": null,
            "_view_module": "@jupyter-widgets/base",
            "_view_module_version": "1.2.0",
            "_view_name": "LayoutView",
            "align_content": null,
            "align_items": null,
            "align_self": null,
            "border": null,
            "bottom": null,
            "display": null,
            "flex": null,
            "flex_flow": null,
            "grid_area": null,
            "grid_auto_columns": null,
            "grid_auto_flow": null,
            "grid_auto_rows": null,
            "grid_column": null,
            "grid_gap": null,
            "grid_row": null,
            "grid_template_areas": null,
            "grid_template_columns": null,
            "grid_template_rows": null,
            "height": null,
            "justify_content": null,
            "justify_items": null,
            "left": null,
            "margin": null,
            "max_height": null,
            "max_width": null,
            "min_height": null,
            "min_width": null,
            "object_fit": null,
            "object_position": null,
            "order": null,
            "overflow": null,
            "overflow_x": null,
            "overflow_y": null,
            "padding": null,
            "right": null,
            "top": null,
            "visibility": null,
            "width": null
          }
        },
        "b9de44086adc447a931dfbb45b72d7b9": {
          "model_module": "@jupyter-widgets/base",
          "model_name": "LayoutModel",
          "model_module_version": "1.2.0",
          "state": {
            "_model_module": "@jupyter-widgets/base",
            "_model_module_version": "1.2.0",
            "_model_name": "LayoutModel",
            "_view_count": null,
            "_view_module": "@jupyter-widgets/base",
            "_view_module_version": "1.2.0",
            "_view_name": "LayoutView",
            "align_content": null,
            "align_items": null,
            "align_self": null,
            "border": null,
            "bottom": null,
            "display": null,
            "flex": null,
            "flex_flow": null,
            "grid_area": null,
            "grid_auto_columns": null,
            "grid_auto_flow": null,
            "grid_auto_rows": null,
            "grid_column": null,
            "grid_gap": null,
            "grid_row": null,
            "grid_template_areas": null,
            "grid_template_columns": null,
            "grid_template_rows": null,
            "height": null,
            "justify_content": null,
            "justify_items": null,
            "left": null,
            "margin": null,
            "max_height": null,
            "max_width": null,
            "min_height": null,
            "min_width": null,
            "object_fit": null,
            "object_position": null,
            "order": null,
            "overflow": null,
            "overflow_x": null,
            "overflow_y": null,
            "padding": null,
            "right": null,
            "top": null,
            "visibility": null,
            "width": null
          }
        },
        "0a65924913d840f0ad390132e3f2bda2": {
          "model_module": "@jupyter-widgets/controls",
          "model_name": "DescriptionStyleModel",
          "model_module_version": "1.5.0",
          "state": {
            "_model_module": "@jupyter-widgets/controls",
            "_model_module_version": "1.5.0",
            "_model_name": "DescriptionStyleModel",
            "_view_count": null,
            "_view_module": "@jupyter-widgets/base",
            "_view_module_version": "1.2.0",
            "_view_name": "StyleView",
            "description_width": ""
          }
        },
        "832779e1db78489a9400a1a0013f3401": {
          "model_module": "@jupyter-widgets/base",
          "model_name": "LayoutModel",
          "model_module_version": "1.2.0",
          "state": {
            "_model_module": "@jupyter-widgets/base",
            "_model_module_version": "1.2.0",
            "_model_name": "LayoutModel",
            "_view_count": null,
            "_view_module": "@jupyter-widgets/base",
            "_view_module_version": "1.2.0",
            "_view_name": "LayoutView",
            "align_content": null,
            "align_items": null,
            "align_self": null,
            "border": null,
            "bottom": null,
            "display": null,
            "flex": null,
            "flex_flow": null,
            "grid_area": null,
            "grid_auto_columns": null,
            "grid_auto_flow": null,
            "grid_auto_rows": null,
            "grid_column": null,
            "grid_gap": null,
            "grid_row": null,
            "grid_template_areas": null,
            "grid_template_columns": null,
            "grid_template_rows": null,
            "height": null,
            "justify_content": null,
            "justify_items": null,
            "left": null,
            "margin": null,
            "max_height": null,
            "max_width": null,
            "min_height": null,
            "min_width": null,
            "object_fit": null,
            "object_position": null,
            "order": null,
            "overflow": null,
            "overflow_x": null,
            "overflow_y": null,
            "padding": null,
            "right": null,
            "top": null,
            "visibility": null,
            "width": null
          }
        },
        "0dd6c12f70aa441da7772f18111872a2": {
          "model_module": "@jupyter-widgets/controls",
          "model_name": "ProgressStyleModel",
          "model_module_version": "1.5.0",
          "state": {
            "_model_module": "@jupyter-widgets/controls",
            "_model_module_version": "1.5.0",
            "_model_name": "ProgressStyleModel",
            "_view_count": null,
            "_view_module": "@jupyter-widgets/base",
            "_view_module_version": "1.2.0",
            "_view_name": "StyleView",
            "bar_color": null,
            "description_width": ""
          }
        },
        "d8b3a8a6baee4a27a373dd59e890a56c": {
          "model_module": "@jupyter-widgets/base",
          "model_name": "LayoutModel",
          "model_module_version": "1.2.0",
          "state": {
            "_model_module": "@jupyter-widgets/base",
            "_model_module_version": "1.2.0",
            "_model_name": "LayoutModel",
            "_view_count": null,
            "_view_module": "@jupyter-widgets/base",
            "_view_module_version": "1.2.0",
            "_view_name": "LayoutView",
            "align_content": null,
            "align_items": null,
            "align_self": null,
            "border": null,
            "bottom": null,
            "display": null,
            "flex": null,
            "flex_flow": null,
            "grid_area": null,
            "grid_auto_columns": null,
            "grid_auto_flow": null,
            "grid_auto_rows": null,
            "grid_column": null,
            "grid_gap": null,
            "grid_row": null,
            "grid_template_areas": null,
            "grid_template_columns": null,
            "grid_template_rows": null,
            "height": null,
            "justify_content": null,
            "justify_items": null,
            "left": null,
            "margin": null,
            "max_height": null,
            "max_width": null,
            "min_height": null,
            "min_width": null,
            "object_fit": null,
            "object_position": null,
            "order": null,
            "overflow": null,
            "overflow_x": null,
            "overflow_y": null,
            "padding": null,
            "right": null,
            "top": null,
            "visibility": null,
            "width": null
          }
        },
        "0452abb59f864a26886fa3ccdc3bfd05": {
          "model_module": "@jupyter-widgets/controls",
          "model_name": "DescriptionStyleModel",
          "model_module_version": "1.5.0",
          "state": {
            "_model_module": "@jupyter-widgets/controls",
            "_model_module_version": "1.5.0",
            "_model_name": "DescriptionStyleModel",
            "_view_count": null,
            "_view_module": "@jupyter-widgets/base",
            "_view_module_version": "1.2.0",
            "_view_name": "StyleView",
            "description_width": ""
          }
        },
        "8b69bd47a8d04e308c78592d2365eb54": {
          "model_module": "@jupyter-widgets/controls",
          "model_name": "HBoxModel",
          "model_module_version": "1.5.0",
          "state": {
            "_dom_classes": [],
            "_model_module": "@jupyter-widgets/controls",
            "_model_module_version": "1.5.0",
            "_model_name": "HBoxModel",
            "_view_count": null,
            "_view_module": "@jupyter-widgets/controls",
            "_view_module_version": "1.5.0",
            "_view_name": "HBoxView",
            "box_style": "",
            "children": [
              "IPY_MODEL_e7993aadc3d645b5a5813715d810a93e",
              "IPY_MODEL_3c222b7116944bd1b17b67b48d0442a2",
              "IPY_MODEL_b68f1fa666e0489bbd1ffc220b2c97af"
            ],
            "layout": "IPY_MODEL_974be3ea4ded4240b755de90ece3d77f"
          }
        },
        "e7993aadc3d645b5a5813715d810a93e": {
          "model_module": "@jupyter-widgets/controls",
          "model_name": "HTMLModel",
          "model_module_version": "1.5.0",
          "state": {
            "_dom_classes": [],
            "_model_module": "@jupyter-widgets/controls",
            "_model_module_version": "1.5.0",
            "_model_name": "HTMLModel",
            "_view_count": null,
            "_view_module": "@jupyter-widgets/controls",
            "_view_module_version": "1.5.0",
            "_view_name": "HTMLView",
            "description": "",
            "description_tooltip": null,
            "layout": "IPY_MODEL_8bf5cb9d1b2148b9a3be5b1df92275a4",
            "placeholder": "​",
            "style": "IPY_MODEL_15c9705d2e9f447abb2622c9e6340b7c",
            "value": "Extracting data files: 100%"
          }
        },
        "3c222b7116944bd1b17b67b48d0442a2": {
          "model_module": "@jupyter-widgets/controls",
          "model_name": "FloatProgressModel",
          "model_module_version": "1.5.0",
          "state": {
            "_dom_classes": [],
            "_model_module": "@jupyter-widgets/controls",
            "_model_module_version": "1.5.0",
            "_model_name": "FloatProgressModel",
            "_view_count": null,
            "_view_module": "@jupyter-widgets/controls",
            "_view_module_version": "1.5.0",
            "_view_name": "ProgressView",
            "bar_style": "success",
            "description": "",
            "description_tooltip": null,
            "layout": "IPY_MODEL_eb29a2d0785744da8cf0773245dabbdf",
            "max": 2,
            "min": 0,
            "orientation": "horizontal",
            "style": "IPY_MODEL_511ffd30db1845ecb40c8a088c26eef1",
            "value": 2
          }
        },
        "b68f1fa666e0489bbd1ffc220b2c97af": {
          "model_module": "@jupyter-widgets/controls",
          "model_name": "HTMLModel",
          "model_module_version": "1.5.0",
          "state": {
            "_dom_classes": [],
            "_model_module": "@jupyter-widgets/controls",
            "_model_module_version": "1.5.0",
            "_model_name": "HTMLModel",
            "_view_count": null,
            "_view_module": "@jupyter-widgets/controls",
            "_view_module_version": "1.5.0",
            "_view_name": "HTMLView",
            "description": "",
            "description_tooltip": null,
            "layout": "IPY_MODEL_9f71f0abb8b24cb5a796397714de4433",
            "placeholder": "​",
            "style": "IPY_MODEL_359afce5643244568493a8e7a4493a1b",
            "value": " 2/2 [00:00&lt;00:00, 67.69it/s]"
          }
        },
        "974be3ea4ded4240b755de90ece3d77f": {
          "model_module": "@jupyter-widgets/base",
          "model_name": "LayoutModel",
          "model_module_version": "1.2.0",
          "state": {
            "_model_module": "@jupyter-widgets/base",
            "_model_module_version": "1.2.0",
            "_model_name": "LayoutModel",
            "_view_count": null,
            "_view_module": "@jupyter-widgets/base",
            "_view_module_version": "1.2.0",
            "_view_name": "LayoutView",
            "align_content": null,
            "align_items": null,
            "align_self": null,
            "border": null,
            "bottom": null,
            "display": null,
            "flex": null,
            "flex_flow": null,
            "grid_area": null,
            "grid_auto_columns": null,
            "grid_auto_flow": null,
            "grid_auto_rows": null,
            "grid_column": null,
            "grid_gap": null,
            "grid_row": null,
            "grid_template_areas": null,
            "grid_template_columns": null,
            "grid_template_rows": null,
            "height": null,
            "justify_content": null,
            "justify_items": null,
            "left": null,
            "margin": null,
            "max_height": null,
            "max_width": null,
            "min_height": null,
            "min_width": null,
            "object_fit": null,
            "object_position": null,
            "order": null,
            "overflow": null,
            "overflow_x": null,
            "overflow_y": null,
            "padding": null,
            "right": null,
            "top": null,
            "visibility": null,
            "width": null
          }
        },
        "8bf5cb9d1b2148b9a3be5b1df92275a4": {
          "model_module": "@jupyter-widgets/base",
          "model_name": "LayoutModel",
          "model_module_version": "1.2.0",
          "state": {
            "_model_module": "@jupyter-widgets/base",
            "_model_module_version": "1.2.0",
            "_model_name": "LayoutModel",
            "_view_count": null,
            "_view_module": "@jupyter-widgets/base",
            "_view_module_version": "1.2.0",
            "_view_name": "LayoutView",
            "align_content": null,
            "align_items": null,
            "align_self": null,
            "border": null,
            "bottom": null,
            "display": null,
            "flex": null,
            "flex_flow": null,
            "grid_area": null,
            "grid_auto_columns": null,
            "grid_auto_flow": null,
            "grid_auto_rows": null,
            "grid_column": null,
            "grid_gap": null,
            "grid_row": null,
            "grid_template_areas": null,
            "grid_template_columns": null,
            "grid_template_rows": null,
            "height": null,
            "justify_content": null,
            "justify_items": null,
            "left": null,
            "margin": null,
            "max_height": null,
            "max_width": null,
            "min_height": null,
            "min_width": null,
            "object_fit": null,
            "object_position": null,
            "order": null,
            "overflow": null,
            "overflow_x": null,
            "overflow_y": null,
            "padding": null,
            "right": null,
            "top": null,
            "visibility": null,
            "width": null
          }
        },
        "15c9705d2e9f447abb2622c9e6340b7c": {
          "model_module": "@jupyter-widgets/controls",
          "model_name": "DescriptionStyleModel",
          "model_module_version": "1.5.0",
          "state": {
            "_model_module": "@jupyter-widgets/controls",
            "_model_module_version": "1.5.0",
            "_model_name": "DescriptionStyleModel",
            "_view_count": null,
            "_view_module": "@jupyter-widgets/base",
            "_view_module_version": "1.2.0",
            "_view_name": "StyleView",
            "description_width": ""
          }
        },
        "eb29a2d0785744da8cf0773245dabbdf": {
          "model_module": "@jupyter-widgets/base",
          "model_name": "LayoutModel",
          "model_module_version": "1.2.0",
          "state": {
            "_model_module": "@jupyter-widgets/base",
            "_model_module_version": "1.2.0",
            "_model_name": "LayoutModel",
            "_view_count": null,
            "_view_module": "@jupyter-widgets/base",
            "_view_module_version": "1.2.0",
            "_view_name": "LayoutView",
            "align_content": null,
            "align_items": null,
            "align_self": null,
            "border": null,
            "bottom": null,
            "display": null,
            "flex": null,
            "flex_flow": null,
            "grid_area": null,
            "grid_auto_columns": null,
            "grid_auto_flow": null,
            "grid_auto_rows": null,
            "grid_column": null,
            "grid_gap": null,
            "grid_row": null,
            "grid_template_areas": null,
            "grid_template_columns": null,
            "grid_template_rows": null,
            "height": null,
            "justify_content": null,
            "justify_items": null,
            "left": null,
            "margin": null,
            "max_height": null,
            "max_width": null,
            "min_height": null,
            "min_width": null,
            "object_fit": null,
            "object_position": null,
            "order": null,
            "overflow": null,
            "overflow_x": null,
            "overflow_y": null,
            "padding": null,
            "right": null,
            "top": null,
            "visibility": null,
            "width": null
          }
        },
        "511ffd30db1845ecb40c8a088c26eef1": {
          "model_module": "@jupyter-widgets/controls",
          "model_name": "ProgressStyleModel",
          "model_module_version": "1.5.0",
          "state": {
            "_model_module": "@jupyter-widgets/controls",
            "_model_module_version": "1.5.0",
            "_model_name": "ProgressStyleModel",
            "_view_count": null,
            "_view_module": "@jupyter-widgets/base",
            "_view_module_version": "1.2.0",
            "_view_name": "StyleView",
            "bar_color": null,
            "description_width": ""
          }
        },
        "9f71f0abb8b24cb5a796397714de4433": {
          "model_module": "@jupyter-widgets/base",
          "model_name": "LayoutModel",
          "model_module_version": "1.2.0",
          "state": {
            "_model_module": "@jupyter-widgets/base",
            "_model_module_version": "1.2.0",
            "_model_name": "LayoutModel",
            "_view_count": null,
            "_view_module": "@jupyter-widgets/base",
            "_view_module_version": "1.2.0",
            "_view_name": "LayoutView",
            "align_content": null,
            "align_items": null,
            "align_self": null,
            "border": null,
            "bottom": null,
            "display": null,
            "flex": null,
            "flex_flow": null,
            "grid_area": null,
            "grid_auto_columns": null,
            "grid_auto_flow": null,
            "grid_auto_rows": null,
            "grid_column": null,
            "grid_gap": null,
            "grid_row": null,
            "grid_template_areas": null,
            "grid_template_columns": null,
            "grid_template_rows": null,
            "height": null,
            "justify_content": null,
            "justify_items": null,
            "left": null,
            "margin": null,
            "max_height": null,
            "max_width": null,
            "min_height": null,
            "min_width": null,
            "object_fit": null,
            "object_position": null,
            "order": null,
            "overflow": null,
            "overflow_x": null,
            "overflow_y": null,
            "padding": null,
            "right": null,
            "top": null,
            "visibility": null,
            "width": null
          }
        },
        "359afce5643244568493a8e7a4493a1b": {
          "model_module": "@jupyter-widgets/controls",
          "model_name": "DescriptionStyleModel",
          "model_module_version": "1.5.0",
          "state": {
            "_model_module": "@jupyter-widgets/controls",
            "_model_module_version": "1.5.0",
            "_model_name": "DescriptionStyleModel",
            "_view_count": null,
            "_view_module": "@jupyter-widgets/base",
            "_view_module_version": "1.2.0",
            "_view_name": "StyleView",
            "description_width": ""
          }
        },
        "18e1f5e6882b478aa3661d0eceafc29e": {
          "model_module": "@jupyter-widgets/controls",
          "model_name": "HBoxModel",
          "model_module_version": "1.5.0",
          "state": {
            "_dom_classes": [],
            "_model_module": "@jupyter-widgets/controls",
            "_model_module_version": "1.5.0",
            "_model_name": "HBoxModel",
            "_view_count": null,
            "_view_module": "@jupyter-widgets/controls",
            "_view_module_version": "1.5.0",
            "_view_name": "HBoxView",
            "box_style": "",
            "children": [
              "IPY_MODEL_d947910bcf28485989691e2a77e5581f",
              "IPY_MODEL_fed20f35354d4c5e9a8dfd241cc0a369",
              "IPY_MODEL_b192ff2343d646c8bcfc1a7389ae32ab"
            ],
            "layout": "IPY_MODEL_406151413afd4e0b955e8f88a720137f"
          }
        },
        "d947910bcf28485989691e2a77e5581f": {
          "model_module": "@jupyter-widgets/controls",
          "model_name": "HTMLModel",
          "model_module_version": "1.5.0",
          "state": {
            "_dom_classes": [],
            "_model_module": "@jupyter-widgets/controls",
            "_model_module_version": "1.5.0",
            "_model_name": "HTMLModel",
            "_view_count": null,
            "_view_module": "@jupyter-widgets/controls",
            "_view_module_version": "1.5.0",
            "_view_name": "HTMLView",
            "description": "",
            "description_tooltip": null,
            "layout": "IPY_MODEL_76077652a88849e3a75667a5e8a4d180",
            "placeholder": "​",
            "style": "IPY_MODEL_30b38e612aeb46c1a370f907d2e2b26e",
            "value": "Generating train split: "
          }
        },
        "fed20f35354d4c5e9a8dfd241cc0a369": {
          "model_module": "@jupyter-widgets/controls",
          "model_name": "FloatProgressModel",
          "model_module_version": "1.5.0",
          "state": {
            "_dom_classes": [],
            "_model_module": "@jupyter-widgets/controls",
            "_model_module_version": "1.5.0",
            "_model_name": "FloatProgressModel",
            "_view_count": null,
            "_view_module": "@jupyter-widgets/controls",
            "_view_module_version": "1.5.0",
            "_view_name": "ProgressView",
            "bar_style": "info",
            "description": "",
            "description_tooltip": null,
            "layout": "IPY_MODEL_8f93b6cc7bc6489bb3925342ccb30d3e",
            "max": 1,
            "min": 0,
            "orientation": "horizontal",
            "style": "IPY_MODEL_e78d67b239224c32aad10805abb924e7",
            "value": 1
          }
        },
        "b192ff2343d646c8bcfc1a7389ae32ab": {
          "model_module": "@jupyter-widgets/controls",
          "model_name": "HTMLModel",
          "model_module_version": "1.5.0",
          "state": {
            "_dom_classes": [],
            "_model_module": "@jupyter-widgets/controls",
            "_model_module_version": "1.5.0",
            "_model_name": "HTMLModel",
            "_view_count": null,
            "_view_module": "@jupyter-widgets/controls",
            "_view_module_version": "1.5.0",
            "_view_name": "HTMLView",
            "description": "",
            "description_tooltip": null,
            "layout": "IPY_MODEL_8b120b57936f4f09a0a75d3a1245bd26",
            "placeholder": "​",
            "style": "IPY_MODEL_67083a037e6940eab6e88322f82e6294",
            "value": " 0/0 [00:00&lt;?, ? examples/s]"
          }
        },
        "406151413afd4e0b955e8f88a720137f": {
          "model_module": "@jupyter-widgets/base",
          "model_name": "LayoutModel",
          "model_module_version": "1.2.0",
          "state": {
            "_model_module": "@jupyter-widgets/base",
            "_model_module_version": "1.2.0",
            "_model_name": "LayoutModel",
            "_view_count": null,
            "_view_module": "@jupyter-widgets/base",
            "_view_module_version": "1.2.0",
            "_view_name": "LayoutView",
            "align_content": null,
            "align_items": null,
            "align_self": null,
            "border": null,
            "bottom": null,
            "display": null,
            "flex": null,
            "flex_flow": null,
            "grid_area": null,
            "grid_auto_columns": null,
            "grid_auto_flow": null,
            "grid_auto_rows": null,
            "grid_column": null,
            "grid_gap": null,
            "grid_row": null,
            "grid_template_areas": null,
            "grid_template_columns": null,
            "grid_template_rows": null,
            "height": null,
            "justify_content": null,
            "justify_items": null,
            "left": null,
            "margin": null,
            "max_height": null,
            "max_width": null,
            "min_height": null,
            "min_width": null,
            "object_fit": null,
            "object_position": null,
            "order": null,
            "overflow": null,
            "overflow_x": null,
            "overflow_y": null,
            "padding": null,
            "right": null,
            "top": null,
            "visibility": "hidden",
            "width": null
          }
        },
        "76077652a88849e3a75667a5e8a4d180": {
          "model_module": "@jupyter-widgets/base",
          "model_name": "LayoutModel",
          "model_module_version": "1.2.0",
          "state": {
            "_model_module": "@jupyter-widgets/base",
            "_model_module_version": "1.2.0",
            "_model_name": "LayoutModel",
            "_view_count": null,
            "_view_module": "@jupyter-widgets/base",
            "_view_module_version": "1.2.0",
            "_view_name": "LayoutView",
            "align_content": null,
            "align_items": null,
            "align_self": null,
            "border": null,
            "bottom": null,
            "display": null,
            "flex": null,
            "flex_flow": null,
            "grid_area": null,
            "grid_auto_columns": null,
            "grid_auto_flow": null,
            "grid_auto_rows": null,
            "grid_column": null,
            "grid_gap": null,
            "grid_row": null,
            "grid_template_areas": null,
            "grid_template_columns": null,
            "grid_template_rows": null,
            "height": null,
            "justify_content": null,
            "justify_items": null,
            "left": null,
            "margin": null,
            "max_height": null,
            "max_width": null,
            "min_height": null,
            "min_width": null,
            "object_fit": null,
            "object_position": null,
            "order": null,
            "overflow": null,
            "overflow_x": null,
            "overflow_y": null,
            "padding": null,
            "right": null,
            "top": null,
            "visibility": null,
            "width": null
          }
        },
        "30b38e612aeb46c1a370f907d2e2b26e": {
          "model_module": "@jupyter-widgets/controls",
          "model_name": "DescriptionStyleModel",
          "model_module_version": "1.5.0",
          "state": {
            "_model_module": "@jupyter-widgets/controls",
            "_model_module_version": "1.5.0",
            "_model_name": "DescriptionStyleModel",
            "_view_count": null,
            "_view_module": "@jupyter-widgets/base",
            "_view_module_version": "1.2.0",
            "_view_name": "StyleView",
            "description_width": ""
          }
        },
        "8f93b6cc7bc6489bb3925342ccb30d3e": {
          "model_module": "@jupyter-widgets/base",
          "model_name": "LayoutModel",
          "model_module_version": "1.2.0",
          "state": {
            "_model_module": "@jupyter-widgets/base",
            "_model_module_version": "1.2.0",
            "_model_name": "LayoutModel",
            "_view_count": null,
            "_view_module": "@jupyter-widgets/base",
            "_view_module_version": "1.2.0",
            "_view_name": "LayoutView",
            "align_content": null,
            "align_items": null,
            "align_self": null,
            "border": null,
            "bottom": null,
            "display": null,
            "flex": null,
            "flex_flow": null,
            "grid_area": null,
            "grid_auto_columns": null,
            "grid_auto_flow": null,
            "grid_auto_rows": null,
            "grid_column": null,
            "grid_gap": null,
            "grid_row": null,
            "grid_template_areas": null,
            "grid_template_columns": null,
            "grid_template_rows": null,
            "height": null,
            "justify_content": null,
            "justify_items": null,
            "left": null,
            "margin": null,
            "max_height": null,
            "max_width": null,
            "min_height": null,
            "min_width": null,
            "object_fit": null,
            "object_position": null,
            "order": null,
            "overflow": null,
            "overflow_x": null,
            "overflow_y": null,
            "padding": null,
            "right": null,
            "top": null,
            "visibility": null,
            "width": "20px"
          }
        },
        "e78d67b239224c32aad10805abb924e7": {
          "model_module": "@jupyter-widgets/controls",
          "model_name": "ProgressStyleModel",
          "model_module_version": "1.5.0",
          "state": {
            "_model_module": "@jupyter-widgets/controls",
            "_model_module_version": "1.5.0",
            "_model_name": "ProgressStyleModel",
            "_view_count": null,
            "_view_module": "@jupyter-widgets/base",
            "_view_module_version": "1.2.0",
            "_view_name": "StyleView",
            "bar_color": null,
            "description_width": ""
          }
        },
        "8b120b57936f4f09a0a75d3a1245bd26": {
          "model_module": "@jupyter-widgets/base",
          "model_name": "LayoutModel",
          "model_module_version": "1.2.0",
          "state": {
            "_model_module": "@jupyter-widgets/base",
            "_model_module_version": "1.2.0",
            "_model_name": "LayoutModel",
            "_view_count": null,
            "_view_module": "@jupyter-widgets/base",
            "_view_module_version": "1.2.0",
            "_view_name": "LayoutView",
            "align_content": null,
            "align_items": null,
            "align_self": null,
            "border": null,
            "bottom": null,
            "display": null,
            "flex": null,
            "flex_flow": null,
            "grid_area": null,
            "grid_auto_columns": null,
            "grid_auto_flow": null,
            "grid_auto_rows": null,
            "grid_column": null,
            "grid_gap": null,
            "grid_row": null,
            "grid_template_areas": null,
            "grid_template_columns": null,
            "grid_template_rows": null,
            "height": null,
            "justify_content": null,
            "justify_items": null,
            "left": null,
            "margin": null,
            "max_height": null,
            "max_width": null,
            "min_height": null,
            "min_width": null,
            "object_fit": null,
            "object_position": null,
            "order": null,
            "overflow": null,
            "overflow_x": null,
            "overflow_y": null,
            "padding": null,
            "right": null,
            "top": null,
            "visibility": null,
            "width": null
          }
        },
        "67083a037e6940eab6e88322f82e6294": {
          "model_module": "@jupyter-widgets/controls",
          "model_name": "DescriptionStyleModel",
          "model_module_version": "1.5.0",
          "state": {
            "_model_module": "@jupyter-widgets/controls",
            "_model_module_version": "1.5.0",
            "_model_name": "DescriptionStyleModel",
            "_view_count": null,
            "_view_module": "@jupyter-widgets/base",
            "_view_module_version": "1.2.0",
            "_view_name": "StyleView",
            "description_width": ""
          }
        },
        "7accafd3c0ff4e8c97d848b99fe9f249": {
          "model_module": "@jupyter-widgets/controls",
          "model_name": "HBoxModel",
          "model_module_version": "1.5.0",
          "state": {
            "_dom_classes": [],
            "_model_module": "@jupyter-widgets/controls",
            "_model_module_version": "1.5.0",
            "_model_name": "HBoxModel",
            "_view_count": null,
            "_view_module": "@jupyter-widgets/controls",
            "_view_module_version": "1.5.0",
            "_view_name": "HBoxView",
            "box_style": "",
            "children": [
              "IPY_MODEL_e337d5757018457e82c67cfb107a4f8d",
              "IPY_MODEL_9343fad97aa44664a9ceed49dfd07f8c",
              "IPY_MODEL_56f455f567cf4b9db144a00c907968a7"
            ],
            "layout": "IPY_MODEL_06c73dc78810467a8ddcc69a563be485"
          }
        },
        "e337d5757018457e82c67cfb107a4f8d": {
          "model_module": "@jupyter-widgets/controls",
          "model_name": "HTMLModel",
          "model_module_version": "1.5.0",
          "state": {
            "_dom_classes": [],
            "_model_module": "@jupyter-widgets/controls",
            "_model_module_version": "1.5.0",
            "_model_name": "HTMLModel",
            "_view_count": null,
            "_view_module": "@jupyter-widgets/controls",
            "_view_module_version": "1.5.0",
            "_view_name": "HTMLView",
            "description": "",
            "description_tooltip": null,
            "layout": "IPY_MODEL_25598ec84915440f99c5a1f9f81111f4",
            "placeholder": "​",
            "style": "IPY_MODEL_69cf2d1b119646a3b0e95c993ab578bf",
            "value": "Generating test split: "
          }
        },
        "9343fad97aa44664a9ceed49dfd07f8c": {
          "model_module": "@jupyter-widgets/controls",
          "model_name": "FloatProgressModel",
          "model_module_version": "1.5.0",
          "state": {
            "_dom_classes": [],
            "_model_module": "@jupyter-widgets/controls",
            "_model_module_version": "1.5.0",
            "_model_name": "FloatProgressModel",
            "_view_count": null,
            "_view_module": "@jupyter-widgets/controls",
            "_view_module_version": "1.5.0",
            "_view_name": "ProgressView",
            "bar_style": "info",
            "description": "",
            "description_tooltip": null,
            "layout": "IPY_MODEL_215b6a181f7348e79ca1afb42b5f143e",
            "max": 1,
            "min": 0,
            "orientation": "horizontal",
            "style": "IPY_MODEL_8813506c728b4b1b8ef2081e0c18a74b",
            "value": 1
          }
        },
        "56f455f567cf4b9db144a00c907968a7": {
          "model_module": "@jupyter-widgets/controls",
          "model_name": "HTMLModel",
          "model_module_version": "1.5.0",
          "state": {
            "_dom_classes": [],
            "_model_module": "@jupyter-widgets/controls",
            "_model_module_version": "1.5.0",
            "_model_name": "HTMLModel",
            "_view_count": null,
            "_view_module": "@jupyter-widgets/controls",
            "_view_module_version": "1.5.0",
            "_view_name": "HTMLView",
            "description": "",
            "description_tooltip": null,
            "layout": "IPY_MODEL_6623ee59bbbe4c64bb4d9201561d7e81",
            "placeholder": "​",
            "style": "IPY_MODEL_806ec1421d1145a38160b2856e5a1923",
            "value": " 0/0 [00:00&lt;?, ? examples/s]"
          }
        },
        "06c73dc78810467a8ddcc69a563be485": {
          "model_module": "@jupyter-widgets/base",
          "model_name": "LayoutModel",
          "model_module_version": "1.2.0",
          "state": {
            "_model_module": "@jupyter-widgets/base",
            "_model_module_version": "1.2.0",
            "_model_name": "LayoutModel",
            "_view_count": null,
            "_view_module": "@jupyter-widgets/base",
            "_view_module_version": "1.2.0",
            "_view_name": "LayoutView",
            "align_content": null,
            "align_items": null,
            "align_self": null,
            "border": null,
            "bottom": null,
            "display": null,
            "flex": null,
            "flex_flow": null,
            "grid_area": null,
            "grid_auto_columns": null,
            "grid_auto_flow": null,
            "grid_auto_rows": null,
            "grid_column": null,
            "grid_gap": null,
            "grid_row": null,
            "grid_template_areas": null,
            "grid_template_columns": null,
            "grid_template_rows": null,
            "height": null,
            "justify_content": null,
            "justify_items": null,
            "left": null,
            "margin": null,
            "max_height": null,
            "max_width": null,
            "min_height": null,
            "min_width": null,
            "object_fit": null,
            "object_position": null,
            "order": null,
            "overflow": null,
            "overflow_x": null,
            "overflow_y": null,
            "padding": null,
            "right": null,
            "top": null,
            "visibility": "hidden",
            "width": null
          }
        },
        "25598ec84915440f99c5a1f9f81111f4": {
          "model_module": "@jupyter-widgets/base",
          "model_name": "LayoutModel",
          "model_module_version": "1.2.0",
          "state": {
            "_model_module": "@jupyter-widgets/base",
            "_model_module_version": "1.2.0",
            "_model_name": "LayoutModel",
            "_view_count": null,
            "_view_module": "@jupyter-widgets/base",
            "_view_module_version": "1.2.0",
            "_view_name": "LayoutView",
            "align_content": null,
            "align_items": null,
            "align_self": null,
            "border": null,
            "bottom": null,
            "display": null,
            "flex": null,
            "flex_flow": null,
            "grid_area": null,
            "grid_auto_columns": null,
            "grid_auto_flow": null,
            "grid_auto_rows": null,
            "grid_column": null,
            "grid_gap": null,
            "grid_row": null,
            "grid_template_areas": null,
            "grid_template_columns": null,
            "grid_template_rows": null,
            "height": null,
            "justify_content": null,
            "justify_items": null,
            "left": null,
            "margin": null,
            "max_height": null,
            "max_width": null,
            "min_height": null,
            "min_width": null,
            "object_fit": null,
            "object_position": null,
            "order": null,
            "overflow": null,
            "overflow_x": null,
            "overflow_y": null,
            "padding": null,
            "right": null,
            "top": null,
            "visibility": null,
            "width": null
          }
        },
        "69cf2d1b119646a3b0e95c993ab578bf": {
          "model_module": "@jupyter-widgets/controls",
          "model_name": "DescriptionStyleModel",
          "model_module_version": "1.5.0",
          "state": {
            "_model_module": "@jupyter-widgets/controls",
            "_model_module_version": "1.5.0",
            "_model_name": "DescriptionStyleModel",
            "_view_count": null,
            "_view_module": "@jupyter-widgets/base",
            "_view_module_version": "1.2.0",
            "_view_name": "StyleView",
            "description_width": ""
          }
        },
        "215b6a181f7348e79ca1afb42b5f143e": {
          "model_module": "@jupyter-widgets/base",
          "model_name": "LayoutModel",
          "model_module_version": "1.2.0",
          "state": {
            "_model_module": "@jupyter-widgets/base",
            "_model_module_version": "1.2.0",
            "_model_name": "LayoutModel",
            "_view_count": null,
            "_view_module": "@jupyter-widgets/base",
            "_view_module_version": "1.2.0",
            "_view_name": "LayoutView",
            "align_content": null,
            "align_items": null,
            "align_self": null,
            "border": null,
            "bottom": null,
            "display": null,
            "flex": null,
            "flex_flow": null,
            "grid_area": null,
            "grid_auto_columns": null,
            "grid_auto_flow": null,
            "grid_auto_rows": null,
            "grid_column": null,
            "grid_gap": null,
            "grid_row": null,
            "grid_template_areas": null,
            "grid_template_columns": null,
            "grid_template_rows": null,
            "height": null,
            "justify_content": null,
            "justify_items": null,
            "left": null,
            "margin": null,
            "max_height": null,
            "max_width": null,
            "min_height": null,
            "min_width": null,
            "object_fit": null,
            "object_position": null,
            "order": null,
            "overflow": null,
            "overflow_x": null,
            "overflow_y": null,
            "padding": null,
            "right": null,
            "top": null,
            "visibility": null,
            "width": "20px"
          }
        },
        "8813506c728b4b1b8ef2081e0c18a74b": {
          "model_module": "@jupyter-widgets/controls",
          "model_name": "ProgressStyleModel",
          "model_module_version": "1.5.0",
          "state": {
            "_model_module": "@jupyter-widgets/controls",
            "_model_module_version": "1.5.0",
            "_model_name": "ProgressStyleModel",
            "_view_count": null,
            "_view_module": "@jupyter-widgets/base",
            "_view_module_version": "1.2.0",
            "_view_name": "StyleView",
            "bar_color": null,
            "description_width": ""
          }
        },
        "6623ee59bbbe4c64bb4d9201561d7e81": {
          "model_module": "@jupyter-widgets/base",
          "model_name": "LayoutModel",
          "model_module_version": "1.2.0",
          "state": {
            "_model_module": "@jupyter-widgets/base",
            "_model_module_version": "1.2.0",
            "_model_name": "LayoutModel",
            "_view_count": null,
            "_view_module": "@jupyter-widgets/base",
            "_view_module_version": "1.2.0",
            "_view_name": "LayoutView",
            "align_content": null,
            "align_items": null,
            "align_self": null,
            "border": null,
            "bottom": null,
            "display": null,
            "flex": null,
            "flex_flow": null,
            "grid_area": null,
            "grid_auto_columns": null,
            "grid_auto_flow": null,
            "grid_auto_rows": null,
            "grid_column": null,
            "grid_gap": null,
            "grid_row": null,
            "grid_template_areas": null,
            "grid_template_columns": null,
            "grid_template_rows": null,
            "height": null,
            "justify_content": null,
            "justify_items": null,
            "left": null,
            "margin": null,
            "max_height": null,
            "max_width": null,
            "min_height": null,
            "min_width": null,
            "object_fit": null,
            "object_position": null,
            "order": null,
            "overflow": null,
            "overflow_x": null,
            "overflow_y": null,
            "padding": null,
            "right": null,
            "top": null,
            "visibility": null,
            "width": null
          }
        },
        "806ec1421d1145a38160b2856e5a1923": {
          "model_module": "@jupyter-widgets/controls",
          "model_name": "DescriptionStyleModel",
          "model_module_version": "1.5.0",
          "state": {
            "_model_module": "@jupyter-widgets/controls",
            "_model_module_version": "1.5.0",
            "_model_name": "DescriptionStyleModel",
            "_view_count": null,
            "_view_module": "@jupyter-widgets/base",
            "_view_module_version": "1.2.0",
            "_view_name": "StyleView",
            "description_width": ""
          }
        }
      }
    }
  },
  "nbformat": 4,
  "nbformat_minor": 0
}