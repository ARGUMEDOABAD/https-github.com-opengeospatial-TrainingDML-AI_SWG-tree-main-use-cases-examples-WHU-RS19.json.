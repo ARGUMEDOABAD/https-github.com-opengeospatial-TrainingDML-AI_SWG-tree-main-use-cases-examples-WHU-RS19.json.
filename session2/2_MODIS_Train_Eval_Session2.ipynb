{
  "cells": [
    {
      "cell_type": "markdown",
      "metadata": {
        "id": "okPSWKH_ZyZA"
      },
      "source": [
        "# MODIS Water Random Forest\n",
        "\n",
        "Version: 0.2.1\n",
        "\n",
        "Date modified: 03.23.2022\n",
        "\n",
        "Modified by: Caleb Spradlin"
      ]
    },
    {
      "cell_type": "code",
      "source": [
        "!pip install datasets"
      ],
      "metadata": {
        "colab": {
          "base_uri": "https://localhost:8080/"
        },
        "id": "NlROnMlHfRXn",
        "outputId": "261be90c-550a-45a2-ed84-6090d579a422"
      },
      "execution_count": 46,
      "outputs": [
        {
          "output_type": "stream",
          "name": "stdout",
          "text": [
            "Looking in indexes: https://pypi.org/simple, https://us-python.pkg.dev/colab-wheels/public/simple/\n",
            "Requirement already satisfied: datasets in /usr/local/lib/python3.9/dist-packages (2.11.0)\n",
            "Requirement already satisfied: pyarrow>=8.0.0 in /usr/local/lib/python3.9/dist-packages (from datasets) (9.0.0)\n",
            "Requirement already satisfied: xxhash in /usr/local/lib/python3.9/dist-packages (from datasets) (3.2.0)\n",
            "Requirement already satisfied: huggingface-hub<1.0.0,>=0.11.0 in /usr/local/lib/python3.9/dist-packages (from datasets) (0.13.4)\n",
            "Requirement already satisfied: numpy>=1.17 in /usr/local/lib/python3.9/dist-packages (from datasets) (1.22.4)\n",
            "Requirement already satisfied: requests>=2.19.0 in /usr/local/lib/python3.9/dist-packages (from datasets) (2.27.1)\n",
            "Requirement already satisfied: multiprocess in /usr/local/lib/python3.9/dist-packages (from datasets) (0.70.14)\n",
            "Requirement already satisfied: packaging in /usr/local/lib/python3.9/dist-packages (from datasets) (23.0)\n",
            "Requirement already satisfied: dill<0.3.7,>=0.3.0 in /usr/local/lib/python3.9/dist-packages (from datasets) (0.3.6)\n",
            "Requirement already satisfied: pyyaml>=5.1 in /usr/local/lib/python3.9/dist-packages (from datasets) (6.0)\n",
            "Requirement already satisfied: tqdm>=4.62.1 in /usr/local/lib/python3.9/dist-packages (from datasets) (4.65.0)\n",
            "Requirement already satisfied: fsspec[http]>=2021.11.1 in /usr/local/lib/python3.9/dist-packages (from datasets) (2023.3.0)\n",
            "Requirement already satisfied: responses<0.19 in /usr/local/lib/python3.9/dist-packages (from datasets) (0.18.0)\n",
            "Requirement already satisfied: pandas in /usr/local/lib/python3.9/dist-packages (from datasets) (1.4.4)\n",
            "Requirement already satisfied: aiohttp in /usr/local/lib/python3.9/dist-packages (from datasets) (3.8.4)\n",
            "Requirement already satisfied: frozenlist>=1.1.1 in /usr/local/lib/python3.9/dist-packages (from aiohttp->datasets) (1.3.3)\n",
            "Requirement already satisfied: async-timeout<5.0,>=4.0.0a3 in /usr/local/lib/python3.9/dist-packages (from aiohttp->datasets) (4.0.2)\n",
            "Requirement already satisfied: multidict<7.0,>=4.5 in /usr/local/lib/python3.9/dist-packages (from aiohttp->datasets) (6.0.4)\n",
            "Requirement already satisfied: charset-normalizer<4.0,>=2.0 in /usr/local/lib/python3.9/dist-packages (from aiohttp->datasets) (2.0.12)\n",
            "Requirement already satisfied: yarl<2.0,>=1.0 in /usr/local/lib/python3.9/dist-packages (from aiohttp->datasets) (1.8.2)\n",
            "Requirement already satisfied: attrs>=17.3.0 in /usr/local/lib/python3.9/dist-packages (from aiohttp->datasets) (22.2.0)\n",
            "Requirement already satisfied: aiosignal>=1.1.2 in /usr/local/lib/python3.9/dist-packages (from aiohttp->datasets) (1.3.1)\n",
            "Requirement already satisfied: filelock in /usr/local/lib/python3.9/dist-packages (from huggingface-hub<1.0.0,>=0.11.0->datasets) (3.10.7)\n",
            "Requirement already satisfied: typing-extensions>=3.7.4.3 in /usr/local/lib/python3.9/dist-packages (from huggingface-hub<1.0.0,>=0.11.0->datasets) (4.5.0)\n",
            "Requirement already satisfied: urllib3<1.27,>=1.21.1 in /usr/local/lib/python3.9/dist-packages (from requests>=2.19.0->datasets) (1.26.15)\n",
            "Requirement already satisfied: certifi>=2017.4.17 in /usr/local/lib/python3.9/dist-packages (from requests>=2.19.0->datasets) (2022.12.7)\n",
            "Requirement already satisfied: idna<4,>=2.5 in /usr/local/lib/python3.9/dist-packages (from requests>=2.19.0->datasets) (3.4)\n",
            "Requirement already satisfied: pytz>=2020.1 in /usr/local/lib/python3.9/dist-packages (from pandas->datasets) (2022.7.1)\n",
            "Requirement already satisfied: python-dateutil>=2.8.1 in /usr/local/lib/python3.9/dist-packages (from pandas->datasets) (2.8.2)\n",
            "Requirement already satisfied: six>=1.5 in /usr/local/lib/python3.9/dist-packages (from python-dateutil>=2.8.1->pandas->datasets) (1.16.0)\n"
          ]
        }
      ]
    },
    {
      "cell_type": "code",
      "execution_count": 47,
      "metadata": {
        "id": "IqWY6c4FZyZC"
      },
      "outputs": [],
      "source": [
        "import os\n",
        "import sys\n",
        "import csv\n",
        "import time\n",
        "import glob\n",
        "import joblib\n",
        "import datasets\n",
        "import datetime\n",
        "import numpy as np\n",
        "import pandas as pd\n",
        "from pathlib import Path\n",
        "from pprint import pprint\n",
        "\n",
        "from sklearn.ensemble import RandomForestClassifier as skRF\n",
        "from sklearn.metrics import confusion_matrix, accuracy_score, roc_auc_score\n",
        "from sklearn.metrics import classification_report, roc_curve, auc\n",
        "from sklearn.model_selection import train_test_split \n",
        "from sklearn.model_selection import RandomizedSearchCV, KFold\n",
        "from sklearn.inspection import permutation_importance\n",
        "\n",
        "# Visualization\n",
        "import seaborn as sns\n",
        "import matplotlib.pyplot as plt\n",
        "import warnings\n",
        "\n",
        "# GDAL Stuff\n",
        "from osgeo import gdalconst\n",
        "from osgeo import gdal\n",
        "\n",
        "#sys.path.append('../')\n",
        "#import notebook_util as nu\n",
        "\n",
        "plt.style.use('fivethirtyeight')\n",
        "warnings.filterwarnings('ignore')\n",
        "%matplotlib inline"
      ]
    },
    {
      "cell_type": "code",
      "execution_count": 48,
      "metadata": {
        "id": "YJ0DBUX5ZyZD"
      },
      "outputs": [],
      "source": [
        "FIGURE_OUTPUT_DIR = 'output'\n",
        "RASTER_OUTPUT_DIR = 'output'\n",
        "MODEL_OUTPUT_DIR = 'models'\n",
        "\n",
        "training_data_basepath = 'v4.2.0'\n",
        "DATASET_URL = 'nasa-cisto-data-science-group/modis-lake-powell-toy-dataset'\n",
        "\n",
        "\n",
        "qaMaskPath = 'qa'\n",
        "waterMaskPath = 'v5_outputs'\n",
        "\n",
        "test_data_basepath = 'test_data'\n",
        "\n",
        "GPU = True\n",
        "TILE = 'Golden'\n",
        "MODEL = 'rf'\n",
        "TEST_RATIO = 0.2\n",
        "RANDOM_STATE = 42\n",
        "LABEL_NAME = 'water'\n",
        "DATA_TYPE = np.int16\n",
        "# Columns that are offset, years, julian days, etc (always need to be dropped).\n",
        "offsets_indexes = ['x_offset', 'y_offset', 'year', 'julian_day', 'tileID']\n",
        "# Columns that the user wants to drop for training purposes. \n",
        "colsToDrop = [] # ['sur_refl_b03_1','sur_refl_b04_1','sur_refl_b05_1','ndwi1','ndwi2']\n",
        "colsToDropTraining = colsToDrop.copy()\n",
        "colsToDropTraining.extend(offsets_indexes)\n",
        "v_names = ['sur_refl_b01_1','sur_refl_b02_1','sur_refl_b03_1',\n",
        "           'sur_refl_b04_1','sur_refl_b05_1','sur_refl_b06_1',\n",
        "           'sur_refl_b07_1','ndvi','ndwi1','ndwi2']"
      ]
    },
    {
      "cell_type": "code",
      "source": [
        "os.makedirs(MODEL_OUTPUT_DIR, exist_ok=True)"
      ],
      "metadata": {
        "id": "kWXb-K5ugW8e"
      },
      "execution_count": 49,
      "outputs": []
    },
    {
      "cell_type": "code",
      "execution_count": 50,
      "metadata": {
        "colab": {
          "base_uri": "https://localhost:8080/"
        },
        "id": "G_V4UwJiZyZD",
        "outputId": "2ca7e0c0-1e8b-4927-b4f4-d9a3c7cfe640"
      },
      "outputs": [
        {
          "output_type": "execute_result",
          "data": {
            "text/plain": [
              "[]"
            ]
          },
          "metadata": {},
          "execution_count": 50
        }
      ],
      "source": [
        "colsToDrop"
      ]
    },
    {
      "cell_type": "code",
      "execution_count": 51,
      "metadata": {
        "colab": {
          "base_uri": "https://localhost:8080/"
        },
        "id": "WAV1tPqsZyZE",
        "outputId": "95beafbc-b5cd-422f-f5f2-9d83380e3954"
      },
      "outputs": [
        {
          "output_type": "execute_result",
          "data": {
            "text/plain": [
              "['x_offset', 'y_offset', 'year', 'julian_day', 'tileID']"
            ]
          },
          "metadata": {},
          "execution_count": 51
        }
      ],
      "source": [
        "colsToDropTraining"
      ]
    },
    {
      "cell_type": "markdown",
      "metadata": {
        "id": "15X8TCdSZyZE"
      },
      "source": [
        "## Data \n",
        "- Read in to cuDF or pandas Dataframe\n",
        "- Drop unnecessary columns\n",
        "- Clean data\n",
        "- Split into Xs and Ys\n",
        "- Train-test split"
      ]
    },
    {
      "cell_type": "code",
      "execution_count": 52,
      "metadata": {
        "id": "jGFXFHJfZyZE"
      },
      "outputs": [],
      "source": [
        "#glob_string = os.path.join(training_data_basepath,'MOD*{}*.parquet.gzip'.format(TILE))\n",
        "#data_paths = [fv for fv in glob.glob(glob_string)]\n",
        "#data_path = data_paths[0]\n",
        "#pprint(data_paths)"
      ]
    },
    {
      "cell_type": "code",
      "execution_count": 53,
      "metadata": {
        "colab": {
          "base_uri": "https://localhost:8080/"
        },
        "id": "3QK6H5B9ZyZF",
        "outputId": "e5af3162-0933-4588-8487-35a03a23035b"
      },
      "outputs": [
        {
          "output_type": "stream",
          "name": "stderr",
          "text": [
            "WARNING:datasets.builder:Found cached dataset csv (/root/.cache/huggingface/datasets/nasa-cisto-data-science-group___csv/nasa-cisto-data-science-group--modis-lake-powell-toy-dataset-f7d76bc70ba9ef34/0.0.0/6954658bab30a358235fa864b05cf819af0e179325c740e4bc853bcc7ec513e1)\n",
            "WARNING:datasets.builder:Found cached dataset csv (/root/.cache/huggingface/datasets/nasa-cisto-data-science-group___csv/nasa-cisto-data-science-group--modis-lake-powell-toy-dataset-f7d76bc70ba9ef34/0.0.0/6954658bab30a358235fa864b05cf819af0e179325c740e4bc853bcc7ec513e1)\n"
          ]
        },
        {
          "output_type": "stream",
          "name": "stdout",
          "text": [
            "CPU times: user 319 ms, sys: 17.3 ms, total: 336 ms\n",
            "Wall time: 1.75 s\n"
          ]
        },
        {
          "output_type": "execute_result",
          "data": {
            "text/plain": [
              "((800, 10), (200, 10))"
            ]
          },
          "metadata": {},
          "execution_count": 53
        }
      ],
      "source": [
        "%%time\n",
        "\n",
        "#X_train, X_test, y_train, y_test = load_data(fpath=data_path,\n",
        "#                                             colsToDrop=colsToDropTraining,\n",
        "#                                             dataType=DATA_TYPE,\n",
        "#                                             cpu=True,\n",
        "#                                             splitXY=True,\n",
        "#                                             imbalance=False,\n",
        "#                                             trainTestSplit=True,\n",
        "#                                             multi=False)\n",
        "train_dataset = pd.DataFrame(datasets.load_dataset(DATASET_URL, split='train'))\n",
        "test_dataset = pd.DataFrame(datasets.load_dataset(DATASET_URL, split='test'))\n",
        "X_train, y_train = train_dataset.drop(['water'], axis=1), train_dataset['water']\n",
        "X_test, y_test = test_dataset.drop(['water'], axis=1), test_dataset['water']\n",
        "X_train.shape, X_test.shape"
      ]
    },
    {
      "cell_type": "code",
      "source": [
        "kf = KFold(n_splits=5)\n",
        "kf.get_n_splits(X_train)"
      ],
      "metadata": {
        "colab": {
          "base_uri": "https://localhost:8080/"
        },
        "id": "kgKalXdCersM",
        "outputId": "93c8da83-b4d1-473b-a5b0-5b0182f29873"
      },
      "execution_count": 54,
      "outputs": [
        {
          "output_type": "execute_result",
          "data": {
            "text/plain": [
              "5"
            ]
          },
          "metadata": {},
          "execution_count": 54
        }
      ]
    },
    {
      "cell_type": "code",
      "execution_count": 55,
      "metadata": {
        "colab": {
          "base_uri": "https://localhost:8080/"
        },
        "id": "7sr0ED3jZyZF",
        "outputId": "a60b30cd-ba04-46d3-fe5c-72ed5c86f598"
      },
      "outputs": [
        {
          "output_type": "stream",
          "name": "stdout",
          "text": [
            "sur_refl_b01_1\n",
            "sur_refl_b02_1\n",
            "sur_refl_b03_1\n",
            "sur_refl_b04_1\n",
            "sur_refl_b05_1\n",
            "sur_refl_b06_1\n",
            "sur_refl_b07_1\n",
            "ndvi\n",
            "ndwi1\n",
            "ndwi2\n"
          ]
        }
      ],
      "source": [
        "_ = [print(column) for column in X_train.columns]"
      ]
    },
    {
      "cell_type": "code",
      "execution_count": 56,
      "metadata": {
        "colab": {
          "base_uri": "https://localhost:8080/",
          "height": 363
        },
        "id": "DB_kwYEVZyZF",
        "outputId": "819c4523-314f-4466-e45b-437372da07cd"
      },
      "outputs": [
        {
          "output_type": "execute_result",
          "data": {
            "text/plain": [
              "                count        mean          std     min      25%     50%  \\\n",
              "sur_refl_b01_1  800.0  1209.75875  1287.886517     8.0   238.25   886.5   \n",
              "sur_refl_b02_1  800.0  1577.25375  1554.828794     1.0   168.00  1394.0   \n",
              "sur_refl_b03_1  800.0   743.00000  1004.334475  -100.0   286.00   540.0   \n",
              "sur_refl_b04_1  800.0  1028.39500  1065.582946     6.0   413.00   809.5   \n",
              "sur_refl_b05_1  800.0  1969.37125  1467.613243   -92.0   553.50  1818.5   \n",
              "sur_refl_b06_1  800.0  1932.65875  1541.910775    51.0   511.25  1498.5   \n",
              "sur_refl_b07_1  800.0  1587.69625  1395.266352     0.0   316.75  1174.0   \n",
              "ndvi            800.0    87.13125  2518.736818 -9493.0 -1533.00   733.5   \n",
              "ndwi1           800.0 -2336.03750  3404.038705 -9862.0 -4577.50 -1582.0   \n",
              "ndwi2           800.0  -914.29125  3863.695634 -9692.0 -2846.25  -703.5   \n",
              "\n",
              "                    75%      max  \n",
              "sur_refl_b01_1  1893.25   9222.0  \n",
              "sur_refl_b02_1  2667.75   8837.0  \n",
              "sur_refl_b03_1   857.00   8909.0  \n",
              "sur_refl_b04_1  1313.25   9162.0  \n",
              "sur_refl_b05_1  3210.75   6382.0  \n",
              "sur_refl_b06_1  3254.25   6610.0  \n",
              "sur_refl_b07_1  2672.00   6128.0  \n",
              "ndvi            1729.50   8587.0  \n",
              "ndwi1           -766.50   8823.0  \n",
              "ndwi2            869.00  10000.0  "
            ],
            "text/html": [
              "\n",
              "  <div id=\"df-e988f66d-533c-44bb-864c-39aab2306ab9\">\n",
              "    <div class=\"colab-df-container\">\n",
              "      <div>\n",
              "<style scoped>\n",
              "    .dataframe tbody tr th:only-of-type {\n",
              "        vertical-align: middle;\n",
              "    }\n",
              "\n",
              "    .dataframe tbody tr th {\n",
              "        vertical-align: top;\n",
              "    }\n",
              "\n",
              "    .dataframe thead th {\n",
              "        text-align: right;\n",
              "    }\n",
              "</style>\n",
              "<table border=\"1\" class=\"dataframe\">\n",
              "  <thead>\n",
              "    <tr style=\"text-align: right;\">\n",
              "      <th></th>\n",
              "      <th>count</th>\n",
              "      <th>mean</th>\n",
              "      <th>std</th>\n",
              "      <th>min</th>\n",
              "      <th>25%</th>\n",
              "      <th>50%</th>\n",
              "      <th>75%</th>\n",
              "      <th>max</th>\n",
              "    </tr>\n",
              "  </thead>\n",
              "  <tbody>\n",
              "    <tr>\n",
              "      <th>sur_refl_b01_1</th>\n",
              "      <td>800.0</td>\n",
              "      <td>1209.75875</td>\n",
              "      <td>1287.886517</td>\n",
              "      <td>8.0</td>\n",
              "      <td>238.25</td>\n",
              "      <td>886.5</td>\n",
              "      <td>1893.25</td>\n",
              "      <td>9222.0</td>\n",
              "    </tr>\n",
              "    <tr>\n",
              "      <th>sur_refl_b02_1</th>\n",
              "      <td>800.0</td>\n",
              "      <td>1577.25375</td>\n",
              "      <td>1554.828794</td>\n",
              "      <td>1.0</td>\n",
              "      <td>168.00</td>\n",
              "      <td>1394.0</td>\n",
              "      <td>2667.75</td>\n",
              "      <td>8837.0</td>\n",
              "    </tr>\n",
              "    <tr>\n",
              "      <th>sur_refl_b03_1</th>\n",
              "      <td>800.0</td>\n",
              "      <td>743.00000</td>\n",
              "      <td>1004.334475</td>\n",
              "      <td>-100.0</td>\n",
              "      <td>286.00</td>\n",
              "      <td>540.0</td>\n",
              "      <td>857.00</td>\n",
              "      <td>8909.0</td>\n",
              "    </tr>\n",
              "    <tr>\n",
              "      <th>sur_refl_b04_1</th>\n",
              "      <td>800.0</td>\n",
              "      <td>1028.39500</td>\n",
              "      <td>1065.582946</td>\n",
              "      <td>6.0</td>\n",
              "      <td>413.00</td>\n",
              "      <td>809.5</td>\n",
              "      <td>1313.25</td>\n",
              "      <td>9162.0</td>\n",
              "    </tr>\n",
              "    <tr>\n",
              "      <th>sur_refl_b05_1</th>\n",
              "      <td>800.0</td>\n",
              "      <td>1969.37125</td>\n",
              "      <td>1467.613243</td>\n",
              "      <td>-92.0</td>\n",
              "      <td>553.50</td>\n",
              "      <td>1818.5</td>\n",
              "      <td>3210.75</td>\n",
              "      <td>6382.0</td>\n",
              "    </tr>\n",
              "    <tr>\n",
              "      <th>sur_refl_b06_1</th>\n",
              "      <td>800.0</td>\n",
              "      <td>1932.65875</td>\n",
              "      <td>1541.910775</td>\n",
              "      <td>51.0</td>\n",
              "      <td>511.25</td>\n",
              "      <td>1498.5</td>\n",
              "      <td>3254.25</td>\n",
              "      <td>6610.0</td>\n",
              "    </tr>\n",
              "    <tr>\n",
              "      <th>sur_refl_b07_1</th>\n",
              "      <td>800.0</td>\n",
              "      <td>1587.69625</td>\n",
              "      <td>1395.266352</td>\n",
              "      <td>0.0</td>\n",
              "      <td>316.75</td>\n",
              "      <td>1174.0</td>\n",
              "      <td>2672.00</td>\n",
              "      <td>6128.0</td>\n",
              "    </tr>\n",
              "    <tr>\n",
              "      <th>ndvi</th>\n",
              "      <td>800.0</td>\n",
              "      <td>87.13125</td>\n",
              "      <td>2518.736818</td>\n",
              "      <td>-9493.0</td>\n",
              "      <td>-1533.00</td>\n",
              "      <td>733.5</td>\n",
              "      <td>1729.50</td>\n",
              "      <td>8587.0</td>\n",
              "    </tr>\n",
              "    <tr>\n",
              "      <th>ndwi1</th>\n",
              "      <td>800.0</td>\n",
              "      <td>-2336.03750</td>\n",
              "      <td>3404.038705</td>\n",
              "      <td>-9862.0</td>\n",
              "      <td>-4577.50</td>\n",
              "      <td>-1582.0</td>\n",
              "      <td>-766.50</td>\n",
              "      <td>8823.0</td>\n",
              "    </tr>\n",
              "    <tr>\n",
              "      <th>ndwi2</th>\n",
              "      <td>800.0</td>\n",
              "      <td>-914.29125</td>\n",
              "      <td>3863.695634</td>\n",
              "      <td>-9692.0</td>\n",
              "      <td>-2846.25</td>\n",
              "      <td>-703.5</td>\n",
              "      <td>869.00</td>\n",
              "      <td>10000.0</td>\n",
              "    </tr>\n",
              "  </tbody>\n",
              "</table>\n",
              "</div>\n",
              "      <button class=\"colab-df-convert\" onclick=\"convertToInteractive('df-e988f66d-533c-44bb-864c-39aab2306ab9')\"\n",
              "              title=\"Convert this dataframe to an interactive table.\"\n",
              "              style=\"display:none;\">\n",
              "        \n",
              "  <svg xmlns=\"http://www.w3.org/2000/svg\" height=\"24px\"viewBox=\"0 0 24 24\"\n",
              "       width=\"24px\">\n",
              "    <path d=\"M0 0h24v24H0V0z\" fill=\"none\"/>\n",
              "    <path d=\"M18.56 5.44l.94 2.06.94-2.06 2.06-.94-2.06-.94-.94-2.06-.94 2.06-2.06.94zm-11 1L8.5 8.5l.94-2.06 2.06-.94-2.06-.94L8.5 2.5l-.94 2.06-2.06.94zm10 10l.94 2.06.94-2.06 2.06-.94-2.06-.94-.94-2.06-.94 2.06-2.06.94z\"/><path d=\"M17.41 7.96l-1.37-1.37c-.4-.4-.92-.59-1.43-.59-.52 0-1.04.2-1.43.59L10.3 9.45l-7.72 7.72c-.78.78-.78 2.05 0 2.83L4 21.41c.39.39.9.59 1.41.59.51 0 1.02-.2 1.41-.59l7.78-7.78 2.81-2.81c.8-.78.8-2.07 0-2.86zM5.41 20L4 18.59l7.72-7.72 1.47 1.35L5.41 20z\"/>\n",
              "  </svg>\n",
              "      </button>\n",
              "      \n",
              "  <style>\n",
              "    .colab-df-container {\n",
              "      display:flex;\n",
              "      flex-wrap:wrap;\n",
              "      gap: 12px;\n",
              "    }\n",
              "\n",
              "    .colab-df-convert {\n",
              "      background-color: #E8F0FE;\n",
              "      border: none;\n",
              "      border-radius: 50%;\n",
              "      cursor: pointer;\n",
              "      display: none;\n",
              "      fill: #1967D2;\n",
              "      height: 32px;\n",
              "      padding: 0 0 0 0;\n",
              "      width: 32px;\n",
              "    }\n",
              "\n",
              "    .colab-df-convert:hover {\n",
              "      background-color: #E2EBFA;\n",
              "      box-shadow: 0px 1px 2px rgba(60, 64, 67, 0.3), 0px 1px 3px 1px rgba(60, 64, 67, 0.15);\n",
              "      fill: #174EA6;\n",
              "    }\n",
              "\n",
              "    [theme=dark] .colab-df-convert {\n",
              "      background-color: #3B4455;\n",
              "      fill: #D2E3FC;\n",
              "    }\n",
              "\n",
              "    [theme=dark] .colab-df-convert:hover {\n",
              "      background-color: #434B5C;\n",
              "      box-shadow: 0px 1px 3px 1px rgba(0, 0, 0, 0.15);\n",
              "      filter: drop-shadow(0px 1px 2px rgba(0, 0, 0, 0.3));\n",
              "      fill: #FFFFFF;\n",
              "    }\n",
              "  </style>\n",
              "\n",
              "      <script>\n",
              "        const buttonEl =\n",
              "          document.querySelector('#df-e988f66d-533c-44bb-864c-39aab2306ab9 button.colab-df-convert');\n",
              "        buttonEl.style.display =\n",
              "          google.colab.kernel.accessAllowed ? 'block' : 'none';\n",
              "\n",
              "        async function convertToInteractive(key) {\n",
              "          const element = document.querySelector('#df-e988f66d-533c-44bb-864c-39aab2306ab9');\n",
              "          const dataTable =\n",
              "            await google.colab.kernel.invokeFunction('convertToInteractive',\n",
              "                                                     [key], {});\n",
              "          if (!dataTable) return;\n",
              "\n",
              "          const docLinkHtml = 'Like what you see? Visit the ' +\n",
              "            '<a target=\"_blank\" href=https://colab.research.google.com/notebooks/data_table.ipynb>data table notebook</a>'\n",
              "            + ' to learn more about interactive tables.';\n",
              "          element.innerHTML = '';\n",
              "          dataTable['output_type'] = 'display_data';\n",
              "          await google.colab.output.renderOutput(dataTable, element);\n",
              "          const docLink = document.createElement('div');\n",
              "          docLink.innerHTML = docLinkHtml;\n",
              "          element.appendChild(docLink);\n",
              "        }\n",
              "      </script>\n",
              "    </div>\n",
              "  </div>\n",
              "  "
            ]
          },
          "metadata": {},
          "execution_count": 56
        }
      ],
      "source": [
        "X_train.describe().T"
      ]
    },
    {
      "cell_type": "code",
      "execution_count": 57,
      "metadata": {
        "id": "KGz4mYurZyZF"
      },
      "outputs": [],
      "source": [
        "def output_interesting_idx(df, column, threshold, greaterThan=True):\n",
        "    dfToReturn = df[df[column] > threshold] if \\\n",
        "        greaterThan else df[df[column] < threshold]\n",
        "    return dfToReturn"
      ]
    },
    {
      "cell_type": "code",
      "execution_count": 58,
      "metadata": {
        "colab": {
          "base_uri": "https://localhost:8080/",
          "height": 424
        },
        "id": "UllNw7ZjZyZF",
        "outputId": "db1b8b21-0847-4849-838f-233fafe0f99e"
      },
      "outputs": [
        {
          "output_type": "execute_result",
          "data": {
            "text/plain": [
              "     sur_refl_b01_1  sur_refl_b02_1  sur_refl_b03_1  sur_refl_b04_1  \\\n",
              "0              2031            3113             776            1200   \n",
              "2              1609            2615             797            1000   \n",
              "3              2593            3315            1250            1944   \n",
              "4              2485            3365             905            1527   \n",
              "9              1388            2005             548             852   \n",
              "..              ...             ...             ...             ...   \n",
              "789            1949            2626             829            1344   \n",
              "794            2214            3229             877            1384   \n",
              "795            1894            2404            1082            1473   \n",
              "798            1907            2817             622            1004   \n",
              "799            1236            1731             752             982   \n",
              "\n",
              "     sur_refl_b05_1  sur_refl_b06_1  sur_refl_b07_1  ndvi  ndwi1  ndwi2  \n",
              "0              3626            3480            2957  2103   -556    257  \n",
              "2              2143            1708            1107  2381   2098   4051  \n",
              "3              3923            4194            3909  1222  -1170   -822  \n",
              "4              4520            4646            4137  1504  -1599  -1029  \n",
              "9              2433            2413            2210  1818   -923   -486  \n",
              "..              ...             ...             ...   ...    ...    ...  \n",
              "789            3309            3651            3100  1479  -1632   -827  \n",
              "794            3575            3278            2754  1864    -75    793  \n",
              "795            2926            3031            2433  1186  -1153    -59  \n",
              "798            3616            3755            3250  1926  -1427   -713  \n",
              "799            2115            2188            1800  1668  -1166   -195  \n",
              "\n",
              "[375 rows x 10 columns]"
            ],
            "text/html": [
              "\n",
              "  <div id=\"df-3af310f9-20f4-41cf-af0f-22bfa5e456cc\">\n",
              "    <div class=\"colab-df-container\">\n",
              "      <div>\n",
              "<style scoped>\n",
              "    .dataframe tbody tr th:only-of-type {\n",
              "        vertical-align: middle;\n",
              "    }\n",
              "\n",
              "    .dataframe tbody tr th {\n",
              "        vertical-align: top;\n",
              "    }\n",
              "\n",
              "    .dataframe thead th {\n",
              "        text-align: right;\n",
              "    }\n",
              "</style>\n",
              "<table border=\"1\" class=\"dataframe\">\n",
              "  <thead>\n",
              "    <tr style=\"text-align: right;\">\n",
              "      <th></th>\n",
              "      <th>sur_refl_b01_1</th>\n",
              "      <th>sur_refl_b02_1</th>\n",
              "      <th>sur_refl_b03_1</th>\n",
              "      <th>sur_refl_b04_1</th>\n",
              "      <th>sur_refl_b05_1</th>\n",
              "      <th>sur_refl_b06_1</th>\n",
              "      <th>sur_refl_b07_1</th>\n",
              "      <th>ndvi</th>\n",
              "      <th>ndwi1</th>\n",
              "      <th>ndwi2</th>\n",
              "    </tr>\n",
              "  </thead>\n",
              "  <tbody>\n",
              "    <tr>\n",
              "      <th>0</th>\n",
              "      <td>2031</td>\n",
              "      <td>3113</td>\n",
              "      <td>776</td>\n",
              "      <td>1200</td>\n",
              "      <td>3626</td>\n",
              "      <td>3480</td>\n",
              "      <td>2957</td>\n",
              "      <td>2103</td>\n",
              "      <td>-556</td>\n",
              "      <td>257</td>\n",
              "    </tr>\n",
              "    <tr>\n",
              "      <th>2</th>\n",
              "      <td>1609</td>\n",
              "      <td>2615</td>\n",
              "      <td>797</td>\n",
              "      <td>1000</td>\n",
              "      <td>2143</td>\n",
              "      <td>1708</td>\n",
              "      <td>1107</td>\n",
              "      <td>2381</td>\n",
              "      <td>2098</td>\n",
              "      <td>4051</td>\n",
              "    </tr>\n",
              "    <tr>\n",
              "      <th>3</th>\n",
              "      <td>2593</td>\n",
              "      <td>3315</td>\n",
              "      <td>1250</td>\n",
              "      <td>1944</td>\n",
              "      <td>3923</td>\n",
              "      <td>4194</td>\n",
              "      <td>3909</td>\n",
              "      <td>1222</td>\n",
              "      <td>-1170</td>\n",
              "      <td>-822</td>\n",
              "    </tr>\n",
              "    <tr>\n",
              "      <th>4</th>\n",
              "      <td>2485</td>\n",
              "      <td>3365</td>\n",
              "      <td>905</td>\n",
              "      <td>1527</td>\n",
              "      <td>4520</td>\n",
              "      <td>4646</td>\n",
              "      <td>4137</td>\n",
              "      <td>1504</td>\n",
              "      <td>-1599</td>\n",
              "      <td>-1029</td>\n",
              "    </tr>\n",
              "    <tr>\n",
              "      <th>9</th>\n",
              "      <td>1388</td>\n",
              "      <td>2005</td>\n",
              "      <td>548</td>\n",
              "      <td>852</td>\n",
              "      <td>2433</td>\n",
              "      <td>2413</td>\n",
              "      <td>2210</td>\n",
              "      <td>1818</td>\n",
              "      <td>-923</td>\n",
              "      <td>-486</td>\n",
              "    </tr>\n",
              "    <tr>\n",
              "      <th>...</th>\n",
              "      <td>...</td>\n",
              "      <td>...</td>\n",
              "      <td>...</td>\n",
              "      <td>...</td>\n",
              "      <td>...</td>\n",
              "      <td>...</td>\n",
              "      <td>...</td>\n",
              "      <td>...</td>\n",
              "      <td>...</td>\n",
              "      <td>...</td>\n",
              "    </tr>\n",
              "    <tr>\n",
              "      <th>789</th>\n",
              "      <td>1949</td>\n",
              "      <td>2626</td>\n",
              "      <td>829</td>\n",
              "      <td>1344</td>\n",
              "      <td>3309</td>\n",
              "      <td>3651</td>\n",
              "      <td>3100</td>\n",
              "      <td>1479</td>\n",
              "      <td>-1632</td>\n",
              "      <td>-827</td>\n",
              "    </tr>\n",
              "    <tr>\n",
              "      <th>794</th>\n",
              "      <td>2214</td>\n",
              "      <td>3229</td>\n",
              "      <td>877</td>\n",
              "      <td>1384</td>\n",
              "      <td>3575</td>\n",
              "      <td>3278</td>\n",
              "      <td>2754</td>\n",
              "      <td>1864</td>\n",
              "      <td>-75</td>\n",
              "      <td>793</td>\n",
              "    </tr>\n",
              "    <tr>\n",
              "      <th>795</th>\n",
              "      <td>1894</td>\n",
              "      <td>2404</td>\n",
              "      <td>1082</td>\n",
              "      <td>1473</td>\n",
              "      <td>2926</td>\n",
              "      <td>3031</td>\n",
              "      <td>2433</td>\n",
              "      <td>1186</td>\n",
              "      <td>-1153</td>\n",
              "      <td>-59</td>\n",
              "    </tr>\n",
              "    <tr>\n",
              "      <th>798</th>\n",
              "      <td>1907</td>\n",
              "      <td>2817</td>\n",
              "      <td>622</td>\n",
              "      <td>1004</td>\n",
              "      <td>3616</td>\n",
              "      <td>3755</td>\n",
              "      <td>3250</td>\n",
              "      <td>1926</td>\n",
              "      <td>-1427</td>\n",
              "      <td>-713</td>\n",
              "    </tr>\n",
              "    <tr>\n",
              "      <th>799</th>\n",
              "      <td>1236</td>\n",
              "      <td>1731</td>\n",
              "      <td>752</td>\n",
              "      <td>982</td>\n",
              "      <td>2115</td>\n",
              "      <td>2188</td>\n",
              "      <td>1800</td>\n",
              "      <td>1668</td>\n",
              "      <td>-1166</td>\n",
              "      <td>-195</td>\n",
              "    </tr>\n",
              "  </tbody>\n",
              "</table>\n",
              "<p>375 rows × 10 columns</p>\n",
              "</div>\n",
              "      <button class=\"colab-df-convert\" onclick=\"convertToInteractive('df-3af310f9-20f4-41cf-af0f-22bfa5e456cc')\"\n",
              "              title=\"Convert this dataframe to an interactive table.\"\n",
              "              style=\"display:none;\">\n",
              "        \n",
              "  <svg xmlns=\"http://www.w3.org/2000/svg\" height=\"24px\"viewBox=\"0 0 24 24\"\n",
              "       width=\"24px\">\n",
              "    <path d=\"M0 0h24v24H0V0z\" fill=\"none\"/>\n",
              "    <path d=\"M18.56 5.44l.94 2.06.94-2.06 2.06-.94-2.06-.94-.94-2.06-.94 2.06-2.06.94zm-11 1L8.5 8.5l.94-2.06 2.06-.94-2.06-.94L8.5 2.5l-.94 2.06-2.06.94zm10 10l.94 2.06.94-2.06 2.06-.94-2.06-.94-.94-2.06-.94 2.06-2.06.94z\"/><path d=\"M17.41 7.96l-1.37-1.37c-.4-.4-.92-.59-1.43-.59-.52 0-1.04.2-1.43.59L10.3 9.45l-7.72 7.72c-.78.78-.78 2.05 0 2.83L4 21.41c.39.39.9.59 1.41.59.51 0 1.02-.2 1.41-.59l7.78-7.78 2.81-2.81c.8-.78.8-2.07 0-2.86zM5.41 20L4 18.59l7.72-7.72 1.47 1.35L5.41 20z\"/>\n",
              "  </svg>\n",
              "      </button>\n",
              "      \n",
              "  <style>\n",
              "    .colab-df-container {\n",
              "      display:flex;\n",
              "      flex-wrap:wrap;\n",
              "      gap: 12px;\n",
              "    }\n",
              "\n",
              "    .colab-df-convert {\n",
              "      background-color: #E8F0FE;\n",
              "      border: none;\n",
              "      border-radius: 50%;\n",
              "      cursor: pointer;\n",
              "      display: none;\n",
              "      fill: #1967D2;\n",
              "      height: 32px;\n",
              "      padding: 0 0 0 0;\n",
              "      width: 32px;\n",
              "    }\n",
              "\n",
              "    .colab-df-convert:hover {\n",
              "      background-color: #E2EBFA;\n",
              "      box-shadow: 0px 1px 2px rgba(60, 64, 67, 0.3), 0px 1px 3px 1px rgba(60, 64, 67, 0.15);\n",
              "      fill: #174EA6;\n",
              "    }\n",
              "\n",
              "    [theme=dark] .colab-df-convert {\n",
              "      background-color: #3B4455;\n",
              "      fill: #D2E3FC;\n",
              "    }\n",
              "\n",
              "    [theme=dark] .colab-df-convert:hover {\n",
              "      background-color: #434B5C;\n",
              "      box-shadow: 0px 1px 3px 1px rgba(0, 0, 0, 0.15);\n",
              "      filter: drop-shadow(0px 1px 2px rgba(0, 0, 0, 0.3));\n",
              "      fill: #FFFFFF;\n",
              "    }\n",
              "  </style>\n",
              "\n",
              "      <script>\n",
              "        const buttonEl =\n",
              "          document.querySelector('#df-3af310f9-20f4-41cf-af0f-22bfa5e456cc button.colab-df-convert');\n",
              "        buttonEl.style.display =\n",
              "          google.colab.kernel.accessAllowed ? 'block' : 'none';\n",
              "\n",
              "        async function convertToInteractive(key) {\n",
              "          const element = document.querySelector('#df-3af310f9-20f4-41cf-af0f-22bfa5e456cc');\n",
              "          const dataTable =\n",
              "            await google.colab.kernel.invokeFunction('convertToInteractive',\n",
              "                                                     [key], {});\n",
              "          if (!dataTable) return;\n",
              "\n",
              "          const docLinkHtml = 'Like what you see? Visit the ' +\n",
              "            '<a target=\"_blank\" href=https://colab.research.google.com/notebooks/data_table.ipynb>data table notebook</a>'\n",
              "            + ' to learn more about interactive tables.';\n",
              "          element.innerHTML = '';\n",
              "          dataTable['output_type'] = 'display_data';\n",
              "          await google.colab.output.renderOutput(dataTable, element);\n",
              "          const docLink = document.createElement('div');\n",
              "          docLink.innerHTML = docLinkHtml;\n",
              "          element.appendChild(docLink);\n",
              "        }\n",
              "      </script>\n",
              "    </div>\n",
              "  </div>\n",
              "  "
            ]
          },
          "metadata": {},
          "execution_count": 58
        }
      ],
      "source": [
        "output_interesting_idx(X_train, 'ndvi', 1000)"
      ]
    },
    {
      "cell_type": "markdown",
      "metadata": {
        "id": "sGJblGC6ZyZF"
      },
      "source": [
        "# Model definition and training"
      ]
    },
    {
      "cell_type": "code",
      "execution_count": 59,
      "metadata": {
        "id": "LJtegLSkZyZF"
      },
      "outputs": [],
      "source": [
        "hyperparameters = {'n_estimators': 400, \n",
        "                   'criterion':'gini', \n",
        "                   'max_depth':None, \n",
        "                   'min_samples_split':2, \n",
        "                   'min_samples_leaf':1, \n",
        "                   'min_weight_fraction_leaf':0.0, \n",
        "                   'max_features':'auto', \n",
        "                   'max_leaf_nodes':None, \n",
        "                   'min_impurity_decrease':0.0, \n",
        "                   'bootstrap':True, \n",
        "                   'oob_score':False, \n",
        "                   'n_jobs':-1, \n",
        "                   'random_state':42, \n",
        "                   'verbose':0, \n",
        "                   'warm_start':True, \n",
        "                   'class_weight':None, \n",
        "                   'ccp_alpha':0.0, \n",
        "                   'max_samples':None\n",
        "                  }"
      ]
    },
    {
      "cell_type": "code",
      "execution_count": 60,
      "metadata": {
        "id": "apFQQjJRZyZF"
      },
      "outputs": [],
      "source": [
        "classifier = skRF(**hyperparameters)"
      ]
    },
    {
      "cell_type": "code",
      "execution_count": 61,
      "metadata": {
        "colab": {
          "base_uri": "https://localhost:8080/"
        },
        "id": "rxHbZ0nLZyZF",
        "outputId": "58d11039-14d8-48de-96f3-7cb796398fcd"
      },
      "outputs": [
        {
          "output_type": "stream",
          "name": "stdout",
          "text": [
            "Train [160 161 162 163 164 165 166 167 168 169 170 171 172 173 174 175 176 177\n",
            " 178 179 180 181 182 183 184 185 186 187 188 189 190 191 192 193 194 195\n",
            " 196 197 198 199 200 201 202 203 204 205 206 207 208 209 210 211 212 213\n",
            " 214 215 216 217 218 219 220 221 222 223 224 225 226 227 228 229 230 231\n",
            " 232 233 234 235 236 237 238 239 240 241 242 243 244 245 246 247 248 249\n",
            " 250 251 252 253 254 255 256 257 258 259 260 261 262 263 264 265 266 267\n",
            " 268 269 270 271 272 273 274 275 276 277 278 279 280 281 282 283 284 285\n",
            " 286 287 288 289 290 291 292 293 294 295 296 297 298 299 300 301 302 303\n",
            " 304 305 306 307 308 309 310 311 312 313 314 315 316 317 318 319 320 321\n",
            " 322 323 324 325 326 327 328 329 330 331 332 333 334 335 336 337 338 339\n",
            " 340 341 342 343 344 345 346 347 348 349 350 351 352 353 354 355 356 357\n",
            " 358 359 360 361 362 363 364 365 366 367 368 369 370 371 372 373 374 375\n",
            " 376 377 378 379 380 381 382 383 384 385 386 387 388 389 390 391 392 393\n",
            " 394 395 396 397 398 399 400 401 402 403 404 405 406 407 408 409 410 411\n",
            " 412 413 414 415 416 417 418 419 420 421 422 423 424 425 426 427 428 429\n",
            " 430 431 432 433 434 435 436 437 438 439 440 441 442 443 444 445 446 447\n",
            " 448 449 450 451 452 453 454 455 456 457 458 459 460 461 462 463 464 465\n",
            " 466 467 468 469 470 471 472 473 474 475 476 477 478 479 480 481 482 483\n",
            " 484 485 486 487 488 489 490 491 492 493 494 495 496 497 498 499 500 501\n",
            " 502 503 504 505 506 507 508 509 510 511 512 513 514 515 516 517 518 519\n",
            " 520 521 522 523 524 525 526 527 528 529 530 531 532 533 534 535 536 537\n",
            " 538 539 540 541 542 543 544 545 546 547 548 549 550 551 552 553 554 555\n",
            " 556 557 558 559 560 561 562 563 564 565 566 567 568 569 570 571 572 573\n",
            " 574 575 576 577 578 579 580 581 582 583 584 585 586 587 588 589 590 591\n",
            " 592 593 594 595 596 597 598 599 600 601 602 603 604 605 606 607 608 609\n",
            " 610 611 612 613 614 615 616 617 618 619 620 621 622 623 624 625 626 627\n",
            " 628 629 630 631 632 633 634 635 636 637 638 639 640 641 642 643 644 645\n",
            " 646 647 648 649 650 651 652 653 654 655 656 657 658 659 660 661 662 663\n",
            " 664 665 666 667 668 669 670 671 672 673 674 675 676 677 678 679 680 681\n",
            " 682 683 684 685 686 687 688 689 690 691 692 693 694 695 696 697 698 699\n",
            " 700 701 702 703 704 705 706 707 708 709 710 711 712 713 714 715 716 717\n",
            " 718 719 720 721 722 723 724 725 726 727 728 729 730 731 732 733 734 735\n",
            " 736 737 738 739 740 741 742 743 744 745 746 747 748 749 750 751 752 753\n",
            " 754 755 756 757 758 759 760 761 762 763 764 765 766 767 768 769 770 771\n",
            " 772 773 774 775 776 777 778 779 780 781 782 783 784 785 786 787 788 789\n",
            " 790 791 792 793 794 795 796 797 798 799], Test [  0   1   2   3   4   5   6   7   8   9  10  11  12  13  14  15  16  17\n",
            "  18  19  20  21  22  23  24  25  26  27  28  29  30  31  32  33  34  35\n",
            "  36  37  38  39  40  41  42  43  44  45  46  47  48  49  50  51  52  53\n",
            "  54  55  56  57  58  59  60  61  62  63  64  65  66  67  68  69  70  71\n",
            "  72  73  74  75  76  77  78  79  80  81  82  83  84  85  86  87  88  89\n",
            "  90  91  92  93  94  95  96  97  98  99 100 101 102 103 104 105 106 107\n",
            " 108 109 110 111 112 113 114 115 116 117 118 119 120 121 122 123 124 125\n",
            " 126 127 128 129 130 131 132 133 134 135 136 137 138 139 140 141 142 143\n",
            " 144 145 146 147 148 149 150 151 152 153 154 155 156 157 158 159]\n",
            "Fitting model\n",
            "Time to fit model: 1.4445858001708984s\n",
            "Getting score\n",
            "Training accuracy score: 0.96875\n",
            "Predicting for test set\n",
            "              precision    recall  f1-score   support\n",
            "\n",
            "           0       0.97      0.96      0.97        78\n",
            "           1       0.96      0.98      0.97        82\n",
            "\n",
            "    accuracy                           0.97       160\n",
            "   macro avg       0.97      0.97      0.97       160\n",
            "weighted avg       0.97      0.97      0.97       160\n",
            "\n",
            "Score: 0.96875\n",
            "Train [  0   1   2   3   4   5   6   7   8   9  10  11  12  13  14  15  16  17\n",
            "  18  19  20  21  22  23  24  25  26  27  28  29  30  31  32  33  34  35\n",
            "  36  37  38  39  40  41  42  43  44  45  46  47  48  49  50  51  52  53\n",
            "  54  55  56  57  58  59  60  61  62  63  64  65  66  67  68  69  70  71\n",
            "  72  73  74  75  76  77  78  79  80  81  82  83  84  85  86  87  88  89\n",
            "  90  91  92  93  94  95  96  97  98  99 100 101 102 103 104 105 106 107\n",
            " 108 109 110 111 112 113 114 115 116 117 118 119 120 121 122 123 124 125\n",
            " 126 127 128 129 130 131 132 133 134 135 136 137 138 139 140 141 142 143\n",
            " 144 145 146 147 148 149 150 151 152 153 154 155 156 157 158 159 320 321\n",
            " 322 323 324 325 326 327 328 329 330 331 332 333 334 335 336 337 338 339\n",
            " 340 341 342 343 344 345 346 347 348 349 350 351 352 353 354 355 356 357\n",
            " 358 359 360 361 362 363 364 365 366 367 368 369 370 371 372 373 374 375\n",
            " 376 377 378 379 380 381 382 383 384 385 386 387 388 389 390 391 392 393\n",
            " 394 395 396 397 398 399 400 401 402 403 404 405 406 407 408 409 410 411\n",
            " 412 413 414 415 416 417 418 419 420 421 422 423 424 425 426 427 428 429\n",
            " 430 431 432 433 434 435 436 437 438 439 440 441 442 443 444 445 446 447\n",
            " 448 449 450 451 452 453 454 455 456 457 458 459 460 461 462 463 464 465\n",
            " 466 467 468 469 470 471 472 473 474 475 476 477 478 479 480 481 482 483\n",
            " 484 485 486 487 488 489 490 491 492 493 494 495 496 497 498 499 500 501\n",
            " 502 503 504 505 506 507 508 509 510 511 512 513 514 515 516 517 518 519\n",
            " 520 521 522 523 524 525 526 527 528 529 530 531 532 533 534 535 536 537\n",
            " 538 539 540 541 542 543 544 545 546 547 548 549 550 551 552 553 554 555\n",
            " 556 557 558 559 560 561 562 563 564 565 566 567 568 569 570 571 572 573\n",
            " 574 575 576 577 578 579 580 581 582 583 584 585 586 587 588 589 590 591\n",
            " 592 593 594 595 596 597 598 599 600 601 602 603 604 605 606 607 608 609\n",
            " 610 611 612 613 614 615 616 617 618 619 620 621 622 623 624 625 626 627\n",
            " 628 629 630 631 632 633 634 635 636 637 638 639 640 641 642 643 644 645\n",
            " 646 647 648 649 650 651 652 653 654 655 656 657 658 659 660 661 662 663\n",
            " 664 665 666 667 668 669 670 671 672 673 674 675 676 677 678 679 680 681\n",
            " 682 683 684 685 686 687 688 689 690 691 692 693 694 695 696 697 698 699\n",
            " 700 701 702 703 704 705 706 707 708 709 710 711 712 713 714 715 716 717\n",
            " 718 719 720 721 722 723 724 725 726 727 728 729 730 731 732 733 734 735\n",
            " 736 737 738 739 740 741 742 743 744 745 746 747 748 749 750 751 752 753\n",
            " 754 755 756 757 758 759 760 761 762 763 764 765 766 767 768 769 770 771\n",
            " 772 773 774 775 776 777 778 779 780 781 782 783 784 785 786 787 788 789\n",
            " 790 791 792 793 794 795 796 797 798 799], Test [160 161 162 163 164 165 166 167 168 169 170 171 172 173 174 175 176 177\n",
            " 178 179 180 181 182 183 184 185 186 187 188 189 190 191 192 193 194 195\n",
            " 196 197 198 199 200 201 202 203 204 205 206 207 208 209 210 211 212 213\n",
            " 214 215 216 217 218 219 220 221 222 223 224 225 226 227 228 229 230 231\n",
            " 232 233 234 235 236 237 238 239 240 241 242 243 244 245 246 247 248 249\n",
            " 250 251 252 253 254 255 256 257 258 259 260 261 262 263 264 265 266 267\n",
            " 268 269 270 271 272 273 274 275 276 277 278 279 280 281 282 283 284 285\n",
            " 286 287 288 289 290 291 292 293 294 295 296 297 298 299 300 301 302 303\n",
            " 304 305 306 307 308 309 310 311 312 313 314 315 316 317 318 319]\n",
            "Fitting model\n",
            "Time to fit model: 0.0029022693634033203s\n",
            "Getting score\n",
            "Training accuracy score: 1.0\n",
            "Predicting for test set\n",
            "              precision    recall  f1-score   support\n",
            "\n",
            "           0       1.00      1.00      1.00        75\n",
            "           1       1.00      1.00      1.00        85\n",
            "\n",
            "    accuracy                           1.00       160\n",
            "   macro avg       1.00      1.00      1.00       160\n",
            "weighted avg       1.00      1.00      1.00       160\n",
            "\n",
            "Score: 1.0\n",
            "Train [  0   1   2   3   4   5   6   7   8   9  10  11  12  13  14  15  16  17\n",
            "  18  19  20  21  22  23  24  25  26  27  28  29  30  31  32  33  34  35\n",
            "  36  37  38  39  40  41  42  43  44  45  46  47  48  49  50  51  52  53\n",
            "  54  55  56  57  58  59  60  61  62  63  64  65  66  67  68  69  70  71\n",
            "  72  73  74  75  76  77  78  79  80  81  82  83  84  85  86  87  88  89\n",
            "  90  91  92  93  94  95  96  97  98  99 100 101 102 103 104 105 106 107\n",
            " 108 109 110 111 112 113 114 115 116 117 118 119 120 121 122 123 124 125\n",
            " 126 127 128 129 130 131 132 133 134 135 136 137 138 139 140 141 142 143\n",
            " 144 145 146 147 148 149 150 151 152 153 154 155 156 157 158 159 160 161\n",
            " 162 163 164 165 166 167 168 169 170 171 172 173 174 175 176 177 178 179\n",
            " 180 181 182 183 184 185 186 187 188 189 190 191 192 193 194 195 196 197\n",
            " 198 199 200 201 202 203 204 205 206 207 208 209 210 211 212 213 214 215\n",
            " 216 217 218 219 220 221 222 223 224 225 226 227 228 229 230 231 232 233\n",
            " 234 235 236 237 238 239 240 241 242 243 244 245 246 247 248 249 250 251\n",
            " 252 253 254 255 256 257 258 259 260 261 262 263 264 265 266 267 268 269\n",
            " 270 271 272 273 274 275 276 277 278 279 280 281 282 283 284 285 286 287\n",
            " 288 289 290 291 292 293 294 295 296 297 298 299 300 301 302 303 304 305\n",
            " 306 307 308 309 310 311 312 313 314 315 316 317 318 319 480 481 482 483\n",
            " 484 485 486 487 488 489 490 491 492 493 494 495 496 497 498 499 500 501\n",
            " 502 503 504 505 506 507 508 509 510 511 512 513 514 515 516 517 518 519\n",
            " 520 521 522 523 524 525 526 527 528 529 530 531 532 533 534 535 536 537\n",
            " 538 539 540 541 542 543 544 545 546 547 548 549 550 551 552 553 554 555\n",
            " 556 557 558 559 560 561 562 563 564 565 566 567 568 569 570 571 572 573\n",
            " 574 575 576 577 578 579 580 581 582 583 584 585 586 587 588 589 590 591\n",
            " 592 593 594 595 596 597 598 599 600 601 602 603 604 605 606 607 608 609\n",
            " 610 611 612 613 614 615 616 617 618 619 620 621 622 623 624 625 626 627\n",
            " 628 629 630 631 632 633 634 635 636 637 638 639 640 641 642 643 644 645\n",
            " 646 647 648 649 650 651 652 653 654 655 656 657 658 659 660 661 662 663\n",
            " 664 665 666 667 668 669 670 671 672 673 674 675 676 677 678 679 680 681\n",
            " 682 683 684 685 686 687 688 689 690 691 692 693 694 695 696 697 698 699\n",
            " 700 701 702 703 704 705 706 707 708 709 710 711 712 713 714 715 716 717\n",
            " 718 719 720 721 722 723 724 725 726 727 728 729 730 731 732 733 734 735\n",
            " 736 737 738 739 740 741 742 743 744 745 746 747 748 749 750 751 752 753\n",
            " 754 755 756 757 758 759 760 761 762 763 764 765 766 767 768 769 770 771\n",
            " 772 773 774 775 776 777 778 779 780 781 782 783 784 785 786 787 788 789\n",
            " 790 791 792 793 794 795 796 797 798 799], Test [320 321 322 323 324 325 326 327 328 329 330 331 332 333 334 335 336 337\n",
            " 338 339 340 341 342 343 344 345 346 347 348 349 350 351 352 353 354 355\n",
            " 356 357 358 359 360 361 362 363 364 365 366 367 368 369 370 371 372 373\n",
            " 374 375 376 377 378 379 380 381 382 383 384 385 386 387 388 389 390 391\n",
            " 392 393 394 395 396 397 398 399 400 401 402 403 404 405 406 407 408 409\n",
            " 410 411 412 413 414 415 416 417 418 419 420 421 422 423 424 425 426 427\n",
            " 428 429 430 431 432 433 434 435 436 437 438 439 440 441 442 443 444 445\n",
            " 446 447 448 449 450 451 452 453 454 455 456 457 458 459 460 461 462 463\n",
            " 464 465 466 467 468 469 470 471 472 473 474 475 476 477 478 479]\n",
            "Fitting model\n",
            "Time to fit model: 0.009404659271240234s\n",
            "Getting score\n",
            "Training accuracy score: 1.0\n",
            "Predicting for test set\n",
            "              precision    recall  f1-score   support\n",
            "\n",
            "           0       1.00      1.00      1.00        89\n",
            "           1       1.00      1.00      1.00        71\n",
            "\n",
            "    accuracy                           1.00       160\n",
            "   macro avg       1.00      1.00      1.00       160\n",
            "weighted avg       1.00      1.00      1.00       160\n",
            "\n",
            "Score: 1.0\n",
            "Train [  0   1   2   3   4   5   6   7   8   9  10  11  12  13  14  15  16  17\n",
            "  18  19  20  21  22  23  24  25  26  27  28  29  30  31  32  33  34  35\n",
            "  36  37  38  39  40  41  42  43  44  45  46  47  48  49  50  51  52  53\n",
            "  54  55  56  57  58  59  60  61  62  63  64  65  66  67  68  69  70  71\n",
            "  72  73  74  75  76  77  78  79  80  81  82  83  84  85  86  87  88  89\n",
            "  90  91  92  93  94  95  96  97  98  99 100 101 102 103 104 105 106 107\n",
            " 108 109 110 111 112 113 114 115 116 117 118 119 120 121 122 123 124 125\n",
            " 126 127 128 129 130 131 132 133 134 135 136 137 138 139 140 141 142 143\n",
            " 144 145 146 147 148 149 150 151 152 153 154 155 156 157 158 159 160 161\n",
            " 162 163 164 165 166 167 168 169 170 171 172 173 174 175 176 177 178 179\n",
            " 180 181 182 183 184 185 186 187 188 189 190 191 192 193 194 195 196 197\n",
            " 198 199 200 201 202 203 204 205 206 207 208 209 210 211 212 213 214 215\n",
            " 216 217 218 219 220 221 222 223 224 225 226 227 228 229 230 231 232 233\n",
            " 234 235 236 237 238 239 240 241 242 243 244 245 246 247 248 249 250 251\n",
            " 252 253 254 255 256 257 258 259 260 261 262 263 264 265 266 267 268 269\n",
            " 270 271 272 273 274 275 276 277 278 279 280 281 282 283 284 285 286 287\n",
            " 288 289 290 291 292 293 294 295 296 297 298 299 300 301 302 303 304 305\n",
            " 306 307 308 309 310 311 312 313 314 315 316 317 318 319 320 321 322 323\n",
            " 324 325 326 327 328 329 330 331 332 333 334 335 336 337 338 339 340 341\n",
            " 342 343 344 345 346 347 348 349 350 351 352 353 354 355 356 357 358 359\n",
            " 360 361 362 363 364 365 366 367 368 369 370 371 372 373 374 375 376 377\n",
            " 378 379 380 381 382 383 384 385 386 387 388 389 390 391 392 393 394 395\n",
            " 396 397 398 399 400 401 402 403 404 405 406 407 408 409 410 411 412 413\n",
            " 414 415 416 417 418 419 420 421 422 423 424 425 426 427 428 429 430 431\n",
            " 432 433 434 435 436 437 438 439 440 441 442 443 444 445 446 447 448 449\n",
            " 450 451 452 453 454 455 456 457 458 459 460 461 462 463 464 465 466 467\n",
            " 468 469 470 471 472 473 474 475 476 477 478 479 640 641 642 643 644 645\n",
            " 646 647 648 649 650 651 652 653 654 655 656 657 658 659 660 661 662 663\n",
            " 664 665 666 667 668 669 670 671 672 673 674 675 676 677 678 679 680 681\n",
            " 682 683 684 685 686 687 688 689 690 691 692 693 694 695 696 697 698 699\n",
            " 700 701 702 703 704 705 706 707 708 709 710 711 712 713 714 715 716 717\n",
            " 718 719 720 721 722 723 724 725 726 727 728 729 730 731 732 733 734 735\n",
            " 736 737 738 739 740 741 742 743 744 745 746 747 748 749 750 751 752 753\n",
            " 754 755 756 757 758 759 760 761 762 763 764 765 766 767 768 769 770 771\n",
            " 772 773 774 775 776 777 778 779 780 781 782 783 784 785 786 787 788 789\n",
            " 790 791 792 793 794 795 796 797 798 799], Test [480 481 482 483 484 485 486 487 488 489 490 491 492 493 494 495 496 497\n",
            " 498 499 500 501 502 503 504 505 506 507 508 509 510 511 512 513 514 515\n",
            " 516 517 518 519 520 521 522 523 524 525 526 527 528 529 530 531 532 533\n",
            " 534 535 536 537 538 539 540 541 542 543 544 545 546 547 548 549 550 551\n",
            " 552 553 554 555 556 557 558 559 560 561 562 563 564 565 566 567 568 569\n",
            " 570 571 572 573 574 575 576 577 578 579 580 581 582 583 584 585 586 587\n",
            " 588 589 590 591 592 593 594 595 596 597 598 599 600 601 602 603 604 605\n",
            " 606 607 608 609 610 611 612 613 614 615 616 617 618 619 620 621 622 623\n",
            " 624 625 626 627 628 629 630 631 632 633 634 635 636 637 638 639]\n",
            "Fitting model\n",
            "Time to fit model: 0.003203153610229492s\n",
            "Getting score\n",
            "Training accuracy score: 1.0\n",
            "Predicting for test set\n",
            "              precision    recall  f1-score   support\n",
            "\n",
            "           0       1.00      1.00      1.00        68\n",
            "           1       1.00      1.00      1.00        92\n",
            "\n",
            "    accuracy                           1.00       160\n",
            "   macro avg       1.00      1.00      1.00       160\n",
            "weighted avg       1.00      1.00      1.00       160\n",
            "\n",
            "Score: 1.0\n",
            "Train [  0   1   2   3   4   5   6   7   8   9  10  11  12  13  14  15  16  17\n",
            "  18  19  20  21  22  23  24  25  26  27  28  29  30  31  32  33  34  35\n",
            "  36  37  38  39  40  41  42  43  44  45  46  47  48  49  50  51  52  53\n",
            "  54  55  56  57  58  59  60  61  62  63  64  65  66  67  68  69  70  71\n",
            "  72  73  74  75  76  77  78  79  80  81  82  83  84  85  86  87  88  89\n",
            "  90  91  92  93  94  95  96  97  98  99 100 101 102 103 104 105 106 107\n",
            " 108 109 110 111 112 113 114 115 116 117 118 119 120 121 122 123 124 125\n",
            " 126 127 128 129 130 131 132 133 134 135 136 137 138 139 140 141 142 143\n",
            " 144 145 146 147 148 149 150 151 152 153 154 155 156 157 158 159 160 161\n",
            " 162 163 164 165 166 167 168 169 170 171 172 173 174 175 176 177 178 179\n",
            " 180 181 182 183 184 185 186 187 188 189 190 191 192 193 194 195 196 197\n",
            " 198 199 200 201 202 203 204 205 206 207 208 209 210 211 212 213 214 215\n",
            " 216 217 218 219 220 221 222 223 224 225 226 227 228 229 230 231 232 233\n",
            " 234 235 236 237 238 239 240 241 242 243 244 245 246 247 248 249 250 251\n",
            " 252 253 254 255 256 257 258 259 260 261 262 263 264 265 266 267 268 269\n",
            " 270 271 272 273 274 275 276 277 278 279 280 281 282 283 284 285 286 287\n",
            " 288 289 290 291 292 293 294 295 296 297 298 299 300 301 302 303 304 305\n",
            " 306 307 308 309 310 311 312 313 314 315 316 317 318 319 320 321 322 323\n",
            " 324 325 326 327 328 329 330 331 332 333 334 335 336 337 338 339 340 341\n",
            " 342 343 344 345 346 347 348 349 350 351 352 353 354 355 356 357 358 359\n",
            " 360 361 362 363 364 365 366 367 368 369 370 371 372 373 374 375 376 377\n",
            " 378 379 380 381 382 383 384 385 386 387 388 389 390 391 392 393 394 395\n",
            " 396 397 398 399 400 401 402 403 404 405 406 407 408 409 410 411 412 413\n",
            " 414 415 416 417 418 419 420 421 422 423 424 425 426 427 428 429 430 431\n",
            " 432 433 434 435 436 437 438 439 440 441 442 443 444 445 446 447 448 449\n",
            " 450 451 452 453 454 455 456 457 458 459 460 461 462 463 464 465 466 467\n",
            " 468 469 470 471 472 473 474 475 476 477 478 479 480 481 482 483 484 485\n",
            " 486 487 488 489 490 491 492 493 494 495 496 497 498 499 500 501 502 503\n",
            " 504 505 506 507 508 509 510 511 512 513 514 515 516 517 518 519 520 521\n",
            " 522 523 524 525 526 527 528 529 530 531 532 533 534 535 536 537 538 539\n",
            " 540 541 542 543 544 545 546 547 548 549 550 551 552 553 554 555 556 557\n",
            " 558 559 560 561 562 563 564 565 566 567 568 569 570 571 572 573 574 575\n",
            " 576 577 578 579 580 581 582 583 584 585 586 587 588 589 590 591 592 593\n",
            " 594 595 596 597 598 599 600 601 602 603 604 605 606 607 608 609 610 611\n",
            " 612 613 614 615 616 617 618 619 620 621 622 623 624 625 626 627 628 629\n",
            " 630 631 632 633 634 635 636 637 638 639], Test [640 641 642 643 644 645 646 647 648 649 650 651 652 653 654 655 656 657\n",
            " 658 659 660 661 662 663 664 665 666 667 668 669 670 671 672 673 674 675\n",
            " 676 677 678 679 680 681 682 683 684 685 686 687 688 689 690 691 692 693\n",
            " 694 695 696 697 698 699 700 701 702 703 704 705 706 707 708 709 710 711\n",
            " 712 713 714 715 716 717 718 719 720 721 722 723 724 725 726 727 728 729\n",
            " 730 731 732 733 734 735 736 737 738 739 740 741 742 743 744 745 746 747\n",
            " 748 749 750 751 752 753 754 755 756 757 758 759 760 761 762 763 764 765\n",
            " 766 767 768 769 770 771 772 773 774 775 776 777 778 779 780 781 782 783\n",
            " 784 785 786 787 788 789 790 791 792 793 794 795 796 797 798 799]\n",
            "Fitting model\n",
            "Time to fit model: 0.003159761428833008s\n",
            "Getting score\n",
            "Training accuracy score: 1.0\n",
            "Predicting for test set\n",
            "              precision    recall  f1-score   support\n",
            "\n",
            "           0       1.00      1.00      1.00        85\n",
            "           1       1.00      1.00      1.00        75\n",
            "\n",
            "    accuracy                           1.00       160\n",
            "   macro avg       1.00      1.00      1.00       160\n",
            "weighted avg       1.00      1.00      1.00       160\n",
            "\n",
            "Score: 1.0\n",
            "CPU times: user 2.18 s, sys: 79.3 ms, total: 2.26 s\n",
            "Wall time: 2.78 s\n"
          ]
        }
      ],
      "source": [
        "%%time\n",
        "bestModel = None\n",
        "bestModelScore = 0\n",
        "scores = []\n",
        "for trainIdx, testIdx in kf.split(X_train):\n",
        "    print(\"Train {}, Test {}\".format(trainIdx, testIdx))\n",
        "    X_train_valid, X_test_valid = X_train.iloc[trainIdx], X_train.iloc[testIdx]\n",
        "    y_train_valid, y_test_valid = y_train.iloc[trainIdx], y_train.iloc[testIdx]\n",
        "    print('Fitting model')\n",
        "    st = time.time()\n",
        "    classifier.fit(X_train_valid, y_train_valid)\n",
        "    et = time.time()\n",
        "    print('Time to fit model: {}s'.format(et-st))\n",
        "    print('Getting score')\n",
        "    score = classifier.score(X_test_valid, y_test_valid)\n",
        "    if score>=bestModelScore:\n",
        "        bestModelScore = score\n",
        "        print('Training accuracy score: {}'.format(score))\n",
        "        bestModel = classifier\n",
        "    print('Predicting for test set')\n",
        "    test_predictions = classifier.predict(X_test_valid)\n",
        "    print(classification_report(y_test_valid, test_predictions))\n",
        "    print('Score: {}'.format(score))\n",
        "    scores.append(score)\n",
        "    del test_predictions, score"
      ]
    },
    {
      "cell_type": "code",
      "execution_count": 62,
      "metadata": {
        "colab": {
          "base_uri": "https://localhost:8080/"
        },
        "id": "88BkVOnoZyZF",
        "outputId": "e39dc3b2-560c-4f4c-e59f-643f1a993af2"
      },
      "outputs": [
        {
          "output_type": "stream",
          "name": "stdout",
          "text": [
            "Average accuracy score: 0.99375\n",
            "Best accuracy score: 1.0\n"
          ]
        }
      ],
      "source": [
        "scoreAvg = np.asarray(scores).mean()\n",
        "print('Average accuracy score: {}'.format(scoreAvg))\n",
        "print('Best accuracy score: {}'.format(bestModelScore))"
      ]
    },
    {
      "cell_type": "markdown",
      "metadata": {
        "id": "ZBtSJVgNZyZG"
      },
      "source": [
        "## Regular fitting"
      ]
    },
    {
      "cell_type": "code",
      "execution_count": 63,
      "metadata": {
        "id": "bGuVRTzeZyZG"
      },
      "outputs": [],
      "source": [
        "classifier = skRF(**hyperparameters)"
      ]
    },
    {
      "cell_type": "code",
      "execution_count": 64,
      "metadata": {
        "colab": {
          "base_uri": "https://localhost:8080/",
          "height": 128
        },
        "id": "Fwi1Zox8ZyZG",
        "outputId": "aee28b30-1133-43e2-c9c0-0dd26984b881"
      },
      "outputs": [
        {
          "output_type": "stream",
          "name": "stdout",
          "text": [
            "CPU times: user 1.48 s, sys: 26.6 ms, total: 1.5 s\n",
            "Wall time: 2.21 s\n"
          ]
        },
        {
          "output_type": "execute_result",
          "data": {
            "text/plain": [
              "RandomForestClassifier(max_features='auto', n_estimators=400, n_jobs=-1,\n",
              "                       random_state=42, warm_start=True)"
            ],
            "text/html": [
              "<style>#sk-container-id-2 {color: black;background-color: white;}#sk-container-id-2 pre{padding: 0;}#sk-container-id-2 div.sk-toggleable {background-color: white;}#sk-container-id-2 label.sk-toggleable__label {cursor: pointer;display: block;width: 100%;margin-bottom: 0;padding: 0.3em;box-sizing: border-box;text-align: center;}#sk-container-id-2 label.sk-toggleable__label-arrow:before {content: \"▸\";float: left;margin-right: 0.25em;color: #696969;}#sk-container-id-2 label.sk-toggleable__label-arrow:hover:before {color: black;}#sk-container-id-2 div.sk-estimator:hover label.sk-toggleable__label-arrow:before {color: black;}#sk-container-id-2 div.sk-toggleable__content {max-height: 0;max-width: 0;overflow: hidden;text-align: left;background-color: #f0f8ff;}#sk-container-id-2 div.sk-toggleable__content pre {margin: 0.2em;color: black;border-radius: 0.25em;background-color: #f0f8ff;}#sk-container-id-2 input.sk-toggleable__control:checked~div.sk-toggleable__content {max-height: 200px;max-width: 100%;overflow: auto;}#sk-container-id-2 input.sk-toggleable__control:checked~label.sk-toggleable__label-arrow:before {content: \"▾\";}#sk-container-id-2 div.sk-estimator input.sk-toggleable__control:checked~label.sk-toggleable__label {background-color: #d4ebff;}#sk-container-id-2 div.sk-label input.sk-toggleable__control:checked~label.sk-toggleable__label {background-color: #d4ebff;}#sk-container-id-2 input.sk-hidden--visually {border: 0;clip: rect(1px 1px 1px 1px);clip: rect(1px, 1px, 1px, 1px);height: 1px;margin: -1px;overflow: hidden;padding: 0;position: absolute;width: 1px;}#sk-container-id-2 div.sk-estimator {font-family: monospace;background-color: #f0f8ff;border: 1px dotted black;border-radius: 0.25em;box-sizing: border-box;margin-bottom: 0.5em;}#sk-container-id-2 div.sk-estimator:hover {background-color: #d4ebff;}#sk-container-id-2 div.sk-parallel-item::after {content: \"\";width: 100%;border-bottom: 1px solid gray;flex-grow: 1;}#sk-container-id-2 div.sk-label:hover label.sk-toggleable__label {background-color: #d4ebff;}#sk-container-id-2 div.sk-serial::before {content: \"\";position: absolute;border-left: 1px solid gray;box-sizing: border-box;top: 0;bottom: 0;left: 50%;z-index: 0;}#sk-container-id-2 div.sk-serial {display: flex;flex-direction: column;align-items: center;background-color: white;padding-right: 0.2em;padding-left: 0.2em;position: relative;}#sk-container-id-2 div.sk-item {position: relative;z-index: 1;}#sk-container-id-2 div.sk-parallel {display: flex;align-items: stretch;justify-content: center;background-color: white;position: relative;}#sk-container-id-2 div.sk-item::before, #sk-container-id-2 div.sk-parallel-item::before {content: \"\";position: absolute;border-left: 1px solid gray;box-sizing: border-box;top: 0;bottom: 0;left: 50%;z-index: -1;}#sk-container-id-2 div.sk-parallel-item {display: flex;flex-direction: column;z-index: 1;position: relative;background-color: white;}#sk-container-id-2 div.sk-parallel-item:first-child::after {align-self: flex-end;width: 50%;}#sk-container-id-2 div.sk-parallel-item:last-child::after {align-self: flex-start;width: 50%;}#sk-container-id-2 div.sk-parallel-item:only-child::after {width: 0;}#sk-container-id-2 div.sk-dashed-wrapped {border: 1px dashed gray;margin: 0 0.4em 0.5em 0.4em;box-sizing: border-box;padding-bottom: 0.4em;background-color: white;}#sk-container-id-2 div.sk-label label {font-family: monospace;font-weight: bold;display: inline-block;line-height: 1.2em;}#sk-container-id-2 div.sk-label-container {text-align: center;}#sk-container-id-2 div.sk-container {/* jupyter's `normalize.less` sets `[hidden] { display: none; }` but bootstrap.min.css set `[hidden] { display: none !important; }` so we also need the `!important` here to be able to override the default hidden behavior on the sphinx rendered scikit-learn.org. See: https://github.com/scikit-learn/scikit-learn/issues/21755 */display: inline-block !important;position: relative;}#sk-container-id-2 div.sk-text-repr-fallback {display: none;}</style><div id=\"sk-container-id-2\" class=\"sk-top-container\"><div class=\"sk-text-repr-fallback\"><pre>RandomForestClassifier(max_features=&#x27;auto&#x27;, n_estimators=400, n_jobs=-1,\n",
              "                       random_state=42, warm_start=True)</pre><b>In a Jupyter environment, please rerun this cell to show the HTML representation or trust the notebook. <br />On GitHub, the HTML representation is unable to render, please try loading this page with nbviewer.org.</b></div><div class=\"sk-container\" hidden><div class=\"sk-item\"><div class=\"sk-estimator sk-toggleable\"><input class=\"sk-toggleable__control sk-hidden--visually\" id=\"sk-estimator-id-2\" type=\"checkbox\" checked><label for=\"sk-estimator-id-2\" class=\"sk-toggleable__label sk-toggleable__label-arrow\">RandomForestClassifier</label><div class=\"sk-toggleable__content\"><pre>RandomForestClassifier(max_features=&#x27;auto&#x27;, n_estimators=400, n_jobs=-1,\n",
              "                       random_state=42, warm_start=True)</pre></div></div></div></div></div>"
            ]
          },
          "metadata": {},
          "execution_count": 64
        }
      ],
      "source": [
        "%%time\n",
        "\n",
        "classifier.fit(X_train, y_train)"
      ]
    },
    {
      "cell_type": "markdown",
      "metadata": {
        "id": "tme4Xx6dZyZG"
      },
      "source": [
        "## Model testing and training/testing data validation"
      ]
    },
    {
      "cell_type": "markdown",
      "metadata": {
        "id": "WDgz_nKOZyZG"
      },
      "source": [
        "### Get model metrics"
      ]
    },
    {
      "cell_type": "code",
      "execution_count": 65,
      "metadata": {
        "id": "f_ny3WDVZyZG"
      },
      "outputs": [],
      "source": [
        "classifier = bestModel"
      ]
    },
    {
      "cell_type": "code",
      "execution_count": 66,
      "metadata": {
        "colab": {
          "base_uri": "https://localhost:8080/"
        },
        "id": "iq9GFYSkZyZG",
        "outputId": "433dbbcf-76a8-49fd-9bc9-10f19d153afa"
      },
      "outputs": [
        {
          "output_type": "execute_result",
          "data": {
            "text/plain": [
              "0.98"
            ]
          },
          "metadata": {},
          "execution_count": 66
        }
      ],
      "source": [
        "score = classifier.score(X_test, y_test)\n",
        "score = round(score, 3)\n",
        "score"
      ]
    },
    {
      "cell_type": "code",
      "execution_count": 67,
      "metadata": {
        "id": "iM6eWZwxZyZG"
      },
      "outputs": [],
      "source": [
        "train_predictions = classifier.predict(X_train)\n",
        "test_predictions = classifier.predict(X_test)\n",
        "prediction_probs = classifier.predict_proba(X_test)"
      ]
    },
    {
      "cell_type": "code",
      "execution_count": 68,
      "metadata": {
        "id": "DqHrnLjIZyZG"
      },
      "outputs": [],
      "source": [
        "predictionProbabilityList = list()\n",
        "for i, subarr in enumerate(prediction_probs):\n",
        "    predictionProbabilityList.append(subarr[1])\n",
        "predictionProbabilityArray = np.asarray(predictionProbabilityList)"
      ]
    },
    {
      "cell_type": "markdown",
      "metadata": {
        "id": "PFJUYgpUZyZG"
      },
      "source": [
        "### Show the distribution of the probability of the predicted values.\n",
        "\n",
        "These are the probability that each test data point is water p=1 vs land p=0. Usually a relatively flatter distribution on one of the sides shows us that the model is not as confident on predicting that side."
      ]
    },
    {
      "cell_type": "code",
      "execution_count": 69,
      "metadata": {
        "colab": {
          "base_uri": "https://localhost:8080/",
          "height": 543
        },
        "id": "HVbiSWiCZyZG",
        "outputId": "b26f6420-cffa-44cd-d9c9-7bfe118bd7a2"
      },
      "outputs": [
        {
          "output_type": "execute_result",
          "data": {
            "text/plain": [
              "Text(0.5, 1.0, 'Distribution of the probability of predicted values')"
            ]
          },
          "metadata": {},
          "execution_count": 69
        },
        {
          "output_type": "display_data",
          "data": {
            "text/plain": [
              "<Figure size 500x500 with 1 Axes>"
            ],
            "image/png": "[encoded data removed]"
          },
          "metadata": {}
        }
      ],
      "source": [
        "sns.displot(predictionProbabilityArray, bins=30)\n",
        "plt.title('Distribution of the probability of predicted values')"
      ]
    },
    {
      "cell_type": "code",
      "execution_count": 70,
      "metadata": {
        "id": "zTUHsxR2ZyZG"
      },
      "outputs": [],
      "source": [
        "test_predictions = test_predictions.astype(np.int32)\n",
        "y_test_int = y_test.astype(np.int32)"
      ]
    },
    {
      "cell_type": "code",
      "execution_count": 71,
      "metadata": {
        "colab": {
          "base_uri": "https://localhost:8080/"
        },
        "id": "CugjJEEoZyZG",
        "outputId": "abc2d6f7-b09f-4169-aea0-df37f7dc6135"
      },
      "outputs": [
        {
          "output_type": "stream",
          "name": "stdout",
          "text": [
            "Test Performance\n",
            "-------------------------------------------------------\n",
            "              precision    recall  f1-score   support\n",
            "\n",
            "           0       0.99      0.97      0.98       105\n",
            "           1       0.97      0.99      0.98        95\n",
            "\n",
            "    accuracy                           0.98       200\n",
            "   macro avg       0.98      0.98      0.98       200\n",
            "weighted avg       0.98      0.98      0.98       200\n",
            "\n",
            "Test Recall\n",
            "-------------------------------------------------------\n",
            "0.9714285714285714\n",
            "Confusion Matrix\n",
            "-------------------------------------------------------\n",
            "[[102   3]\n",
            " [  1  94]]\n"
          ]
        }
      ],
      "source": [
        "print('Test Performance')\n",
        "print('-------------------------------------------------------')\n",
        "print(classification_report(y_test, test_predictions))\n",
        "cm = confusion_matrix(y_test_int, test_predictions)\n",
        "recall = (cm[0][0] / (cm[0][0] + cm[0][1]))\n",
        "print('Test Recall')\n",
        "print('-------------------------------------------------------')\n",
        "print(recall)\n",
        "print('Confusion Matrix')\n",
        "print('-------------------------------------------------------')\n",
        "print(cm)"
      ]
    },
    {
      "cell_type": "code",
      "execution_count": 72,
      "metadata": {
        "colab": {
          "base_uri": "https://localhost:8080/",
          "height": 508
        },
        "id": "0Gb2SaNkZyZG",
        "outputId": "462585c5-8e4a-4bb2-8bca-89453202bf5d"
      },
      "outputs": [
        {
          "output_type": "display_data",
          "data": {
            "text/plain": [
              "<Figure size 640x480 with 1 Axes>"
            ],
            "image/png": "[encoded data removed]"
          },
          "metadata": {}
        }
      ],
      "source": [
        "clf = classifier\n",
        "\n",
        "probs = clf.predict_proba(X_test)\n",
        "preds = probs[:, 1]\n",
        "fpr, tpr, threshold = roc_curve(y_test, preds)\n",
        "roc_auc = auc(fpr, tpr)\n",
        "\n",
        "plt.title('Receiver Operating Characteristic')\n",
        "plt.plot(fpr, tpr, 'red', label = 'ROC AUC score = %0.2f' % roc_auc)\n",
        "plt.legend(loc = 'lower right')\n",
        "plt.plot([0, 1], [0, 1],'b--')\n",
        "plt.xlim([0, 1])\n",
        "plt.ylim([0, 1])\n",
        "plt.ylabel('True Positive Rate')\n",
        "plt.xlabel('False Positive Rate')\n",
        "plt.show()"
      ]
    },
    {
      "cell_type": "markdown",
      "metadata": {
        "id": "GnhTiNhfZyZH"
      },
      "source": [
        "### Permutaion importance"
      ]
    },
    {
      "cell_type": "code",
      "execution_count": 73,
      "metadata": {
        "colab": {
          "base_uri": "https://localhost:8080/"
        },
        "id": "_gZvoZ12ZyZH",
        "outputId": "b0fe2197-99d3-49b5-b6fd-fbce01c16c52"
      },
      "outputs": [
        {
          "output_type": "stream",
          "name": "stdout",
          "text": [
            "CPU times: user 8.91 s, sys: 722 ms, total: 9.63 s\n",
            "Wall time: 13.7 s\n"
          ]
        }
      ],
      "source": [
        "%%time\n",
        "permutation_importance_results = permutation_importance(classifier,\n",
        "                                                        X=X_test,\n",
        "                                                        y=y_test,\n",
        "                                                        n_repeats=10,\n",
        "                                                        random_state=42)"
      ]
    },
    {
      "cell_type": "code",
      "execution_count": 74,
      "metadata": {
        "colab": {
          "base_uri": "https://localhost:8080/",
          "height": 755
        },
        "id": "Uz5F9XMAZyZH",
        "outputId": "45eee72d-924b-4834-b9ed-18bdcaf67232"
      },
      "outputs": [
        {
          "output_type": "execute_result",
          "data": {
            "text/plain": [
              "Text(0.5, 0, 'Permutation Importance')"
            ]
          },
          "metadata": {},
          "execution_count": 74
        },
        {
          "output_type": "display_data",
          "data": {
            "text/plain": [
              "<Figure size 800x800 with 1 Axes>"
            ],
            "image/png": "[encoded data removed]"
          },
          "metadata": {}
        }
      ],
      "source": [
        "png_save_path = 'mw_{}_{}_{}_{}_{}_permutation_importance.png'.format(\n",
        "    TILE,\n",
        "    score,\n",
        "    hyperparameters['n_estimators'],\n",
        "    MODEL,\n",
        "    datetime.datetime.now().strftime('%Y_%m_%d_%H_%M'))\n",
        "\n",
        "png_save_path = os.path.join(FIGURE_OUTPUT_DIR, png_save_path)\n",
        "\n",
        "sorted_idx = permutation_importance_results.importances_mean.argsort()\n",
        "plt.figure(figsize=(8, 8))\n",
        "plt.barh(X_test.columns[sorted_idx], permutation_importance_results.importances_mean[sorted_idx])\n",
        "plt.xlabel(\"Permutation Importance\")\n",
        "# plt.savefig(png_save_path)"
      ]
    },
    {
      "cell_type": "markdown",
      "metadata": {
        "id": "WX1xjlAsZyZH"
      },
      "source": [
        "Garbage collection"
      ]
    },
    {
      "cell_type": "code",
      "execution_count": 75,
      "metadata": {
        "id": "OiKE9T-mZyZH"
      },
      "outputs": [],
      "source": [
        "del X_train, X_test, y_train, y_test, test_predictions, train_predictions, y_test_int"
      ]
    },
    {
      "cell_type": "markdown",
      "metadata": {
        "id": "OcshNYp7ZyZH"
      },
      "source": [
        "## Save the model for future use"
      ]
    },
    {
      "cell_type": "code",
      "execution_count": 76,
      "metadata": {
        "colab": {
          "base_uri": "https://localhost:8080/"
        },
        "id": "-lRJ9A7jZyZH",
        "outputId": "976fc86a-115d-464d-b5c3-a4f2ba3d072a"
      },
      "outputs": [
        {
          "output_type": "stream",
          "name": "stdout",
          "text": [
            "Saving model to: models/mw_Golden_0.98_400_rf_cpu_2.0.0_tuned_2023_04_09_19_33.sav\n",
            "RandomForestClassifier(max_features='auto', n_estimators=400, n_jobs=-1,\n",
            "                       random_state=42, warm_start=True)\n"
          ]
        },
        {
          "output_type": "execute_result",
          "data": {
            "text/plain": [
              "['models/mw_Golden_0.98_400_rf_cpu_2.0.0_tuned_2023_04_09_19_33.sav']"
            ]
          },
          "metadata": {},
          "execution_count": 76
        }
      ],
      "source": [
        "model_save_path = 'mw_{}_{}_{}_{}_{}_2.0.0_tuned_{}.sav'.format(TILE,\n",
        "                                                              score,\n",
        "                                                              hyperparameters['n_estimators'],\n",
        "                                                              MODEL,\n",
        "                                                              'cpu',\n",
        "                                                              datetime.datetime.now().strftime('%Y_%m_%d_%H_%M'))\n",
        "model_save_path = os.path.join(MODEL_OUTPUT_DIR, model_save_path)\n",
        "print('Saving model to: {}'.format(model_save_path))\n",
        "print(classifier)\n",
        "joblib.dump(classifier, model_save_path, compress=3)"
      ]
    },
    {
      "cell_type": "markdown",
      "metadata": {
        "id": "C2iuu5AOZyZH"
      },
      "source": [
        "# Testing: raster testing"
      ]
    },
    {
      "cell_type": "code",
      "execution_count": 77,
      "metadata": {
        "colab": {
          "base_uri": "https://localhost:8080/",
          "height": 347
        },
        "id": "a-ev0s_RZyZH",
        "outputId": "9d500363-c690-411f-9462-bfb169e3fe02"
      },
      "outputs": [
        {
          "output_type": "error",
          "ename": "ModuleNotFoundError",
          "evalue": "ignored",
          "traceback": [
            "\u001b[0;31m---------------------------------------------------------------------------\u001b[0m",
            "\u001b[0;31mModuleNotFoundError\u001b[0m                       Traceback (most recent call last)",
            "\u001b[0;32m<ipython-input-77-c6268bbd140e>\u001b[0m in \u001b[0;36m<cell line: 3>\u001b[0;34m()\u001b[0m\n\u001b[1;32m      1\u001b[0m \u001b[0;32mimport\u001b[0m \u001b[0msys\u001b[0m\u001b[0;34m\u001b[0m\u001b[0;34m\u001b[0m\u001b[0m\n\u001b[1;32m      2\u001b[0m \u001b[0msys\u001b[0m\u001b[0;34m.\u001b[0m\u001b[0mpath\u001b[0m\u001b[0;34m.\u001b[0m\u001b[0mappend\u001b[0m\u001b[0;34m(\u001b[0m\u001b[0;34m'../../..'\u001b[0m\u001b[0;34m)\u001b[0m\u001b[0;34m\u001b[0m\u001b[0;34m\u001b[0m\u001b[0m\n\u001b[0;32m----> 3\u001b[0;31m \u001b[0;32mfrom\u001b[0m \u001b[0mmodis_water_training\u001b[0m\u001b[0;34m.\u001b[0m\u001b[0mmodel\u001b[0m\u001b[0;34m.\u001b[0m\u001b[0mTabularModisDataGenerator\u001b[0m \u001b[0;32mimport\u001b[0m \u001b[0mTabularModisDataGenerator\u001b[0m\u001b[0;34m\u001b[0m\u001b[0;34m\u001b[0m\u001b[0m\n\u001b[0m",
            "\u001b[0;31mModuleNotFoundError\u001b[0m: No module named 'modis_water_training'",
            "",
            "\u001b[0;31m---------------------------------------------------------------------------\u001b[0;32m\nNOTE: If your import is failing due to a missing package, you can\nmanually install dependencies using either !pip or !apt.\n\nTo view examples of installing some common dependencies, click the\n\"Open Examples\" button below.\n\u001b[0;31m---------------------------------------------------------------------------\u001b[0m\n"
          ],
          "errorDetails": {
            "actions": [
              {
                "action": "open_url",
                "actionText": "Open Examples",
                "url": "/notebooks/snippets/importing_libraries.ipynb"
              }
            ]
          }
        }
      ],
      "source": [
        "import sys\n",
        "sys.path.append('../../..')\n",
        "from modis_water_training.model.TabularModisDataGenerator import TabularModisDataGenerator"
      ]
    },
    {
      "cell_type": "code",
      "execution_count": null,
      "metadata": {
        "id": "KyFQINCnZyZH"
      },
      "outputs": [],
      "source": [
        "TILE = 'h11v10'\n",
        "DAY = 201\n",
        "YEAR = 2006\n",
        "PATH = os.path.join(test_data_basepath, '{}/'.format(TILE))"
      ]
    },
    {
      "cell_type": "code",
      "execution_count": null,
      "metadata": {
        "id": "Yfz07DYIZyZH"
      },
      "outputs": [],
      "source": [
        "tabularGen = TabularModisDataGenerator(tile=TILE, year=YEAR, julianDays=[DAY])\n",
        "sensorDir = f'/css/modis/Collection6.1/L2G/MOD09GA/{YEAR}'\n",
        "modisFilesDict = tabularGen._readFiles(julianDay=DAY, sensorDir=sensorDir)\n",
        "modisFilesList = list(modisFilesDict.values())\n",
        "qa_mask, qa_mask_path = tabularGen._generateBadDataMask(day=DAY, files=modisFilesDict)"
      ]
    },
    {
      "cell_type": "code",
      "execution_count": null,
      "metadata": {
        "id": "2g1DjtrBZyZH"
      },
      "outputs": [],
      "source": [
        "vars_list_gq = [fn for fn in modisFilesList\n",
        "            if 'sur_refl' in fn and 'GQ' in fn]\n",
        "vars_list_gq.sort()\n",
        "\n",
        "vars_list_ga = [fn for fn in modisFilesList\n",
        "            if 'sur_refl' in fn and 'GQ' not in fn]\n",
        "vars_list_ga.sort()\n",
        "\n",
        "vars_list = vars_list_gq\n",
        "vars_list.extend(vars_list_ga)\n",
        "\n",
        "vars_list"
      ]
    },
    {
      "cell_type": "markdown",
      "metadata": {
        "id": "uoH8z0MmZyZH"
      },
      "source": [
        "### Read in data \n",
        "We don't need to slice because we have more than enough GPU memory."
      ]
    },
    {
      "cell_type": "code",
      "execution_count": null,
      "metadata": {
        "id": "g59DgY9eZyZH"
      },
      "outputs": [],
      "source": [
        "def readRasterToArray(vars_list):\n",
        "    vrt_options = gdal.BuildVRTOptions(xRes=231.656358, yRes=231.656358, separate=True)\n",
        "    dd = gdal.BuildVRT('tmp.vrt', vars_list, options=vrt_options)\n",
        "    nrows, ncols = dd.RasterYSize, dd.RasterXSize\n",
        "    newshp = (ncols*nrows, dd.RasterCount+3)\n",
        "    img = np.empty(newshp, dtype=np.int16)\n",
        "    for b in range(len(vars_list)):\n",
        "        img[:, b] = dd.GetRasterBand(b+1).ReadAsArray().astype(np.int16).ravel()\n",
        "    dd = None\n",
        "    img[:, len(vars_list)] = ((img[:, 1] - img[:, 0]) / (img[:, 1] + img[:, 0])) * 10000\n",
        "    img[:, len(vars_list)+1] = ((img[:, 1] - img[:, 5]) / (img[:, 1] + img[:, 5])) * 10000\n",
        "    img[:, len(vars_list)+2] = ((img[:, 1] - img[:, 6]) / (img[:, 1] + img[:, 6])) * 10000\n",
        "    if os.path.exists('tmp.vrt'):\n",
        "        os.remove('tmp.vrt')\n",
        "    return img"
      ]
    },
    {
      "cell_type": "code",
      "execution_count": null,
      "metadata": {
        "id": "mkHdQAl1ZyZI"
      },
      "outputs": [],
      "source": [
        "%%time\n",
        "im = readRasterToArray(vars_list)\n",
        "print('Raster as ndarray')\n",
        "print(im)\n",
        "print('{} MB size'.format((im.size * im.itemsize) / 1000000))"
      ]
    },
    {
      "cell_type": "code",
      "execution_count": null,
      "metadata": {
        "id": "5NsZEbITZyZI"
      },
      "outputs": [],
      "source": [
        "def predictRaster(img_chunk, colsToDrop=None):\n",
        "    \"\"\"\n",
        "    Function given a raster in the form of a nxn matrix, will\n",
        "    convert the matrix to a GPU/CPU-bound data frame then perform \n",
        "    predictions given the loaded model.\n",
        "    \n",
        "    Return the prediction matrix, the prediction probabilities\n",
        "    for each and the dataframe converted to host.\n",
        "    \"\"\"\n",
        "    df = pd.DataFrame(img_chunk, columns=v_names, dtype=np.int16)\n",
        "    df = df.drop(columns=colsToDrop) if colsToDrop else df\n",
        "    print('Making predictions from raster')\n",
        "    predictions = classifier.predict(df).astype(np.int16)\n",
        "    predictionsProbs = classifier.predict_proba(df).astype(np.float32)\n",
        "    return predictions, predictionsProbs, df"
      ]
    },
    {
      "cell_type": "code",
      "execution_count": null,
      "metadata": {
        "id": "LKmTnJsBZyZI"
      },
      "outputs": [],
      "source": [
        "%%time\n",
        "predictedRaster, predictedProbaRaster, df = predictRaster(im, colsToDrop=colsToDrop)"
      ]
    },
    {
      "cell_type": "markdown",
      "metadata": {
        "id": "w0Zumtt3ZyZI"
      },
      "source": [
        "## Inputreshapet raster: description and histogram"
      ]
    },
    {
      "cell_type": "code",
      "execution_count": null,
      "metadata": {
        "id": "HQgxULTaZyZI"
      },
      "outputs": [],
      "source": [
        "df.describe().T"
      ]
    },
    {
      "cell_type": "markdown",
      "metadata": {
        "id": "IMmRLUfDZyZI"
      },
      "source": [
        "#### Reshape the unravelled matrix back to the 4800x4800 raster shape"
      ]
    },
    {
      "cell_type": "code",
      "execution_count": null,
      "metadata": {
        "id": "02Zgy3caZyZI"
      },
      "outputs": [],
      "source": [
        "shp = (4800, 4800)\n",
        "matrix = np.asarray(predictedRaster)\n",
        "reshp = matrix.reshape(shp)\n",
        "reshp.shape"
      ]
    },
    {
      "cell_type": "markdown",
      "metadata": {
        "id": "Gx-SzHmrZyZI"
      },
      "source": [
        "### Import the QA Mask and the Water Mask for the h09v05 TILE"
      ]
    },
    {
      "cell_type": "code",
      "execution_count": null,
      "metadata": {
        "id": "i4sXRzMxZyZI"
      },
      "outputs": [],
      "source": [
        "water_list = [fn for fn in glob.glob(os.path.join(waterMaskPath, '{}'.format(YEAR), '*{}*{}_v5.tif'.format(TILE, YEAR)))]\n",
        "print(os.path.join(waterMaskPath, '{}'.format(YEAR), '*{}*.tif'.format(TILE)))\n",
        "water_mask_path = water_list[0]\n",
        "print(water_mask_path)\n",
        "water_mask = gdal.Open(water_mask_path, gdal.GA_ReadOnly)\n",
        "waterMaskMatrix = water_mask.GetRasterBand(1).ReadAsArray().astype(np.int16)\n",
        "waterMask = None"
      ]
    },
    {
      "cell_type": "markdown",
      "metadata": {
        "id": "26_Zo97LZyZI"
      },
      "source": [
        "### Mask out results if QA Mask says pixel is \"bad\"\n",
        "Mask out water mask if QA Mask says pixel is \"bad\""
      ]
    },
    {
      "cell_type": "code",
      "execution_count": null,
      "metadata": {
        "id": "gXGxSCpsZyZI"
      },
      "outputs": [],
      "source": [
        "maskedResult = np.where(qa_mask == 0, reshp, 255)\n",
        "waterMasked = np.where(qa_mask == 0, waterMaskMatrix, 255)\n",
        "waterMaskRavel = waterMasked.ravel()\n",
        "imWater = (waterMaskRavel == 1)"
      ]
    },
    {
      "cell_type": "code",
      "execution_count": null,
      "metadata": {
        "id": "QTjdOrD6ZyZI"
      },
      "outputs": [],
      "source": [
        "plt.matshow(waterMasked)"
      ]
    },
    {
      "cell_type": "markdown",
      "metadata": {
        "id": "ihRUitgCZyZI"
      },
      "source": [
        "# Generating stats for predicted and truth"
      ]
    },
    {
      "cell_type": "markdown",
      "metadata": {
        "id": "qWqPu-arZyZI"
      },
      "source": [
        "## Predicted Raster"
      ]
    },
    {
      "cell_type": "code",
      "execution_count": null,
      "metadata": {
        "id": "J0lHMrC3ZyZI"
      },
      "outputs": [],
      "source": [
        "import math"
      ]
    },
    {
      "cell_type": "code",
      "execution_count": null,
      "metadata": {
        "id": "O3D7Pz2pZyZI"
      },
      "outputs": [],
      "source": [
        "tp = np.where((waterMasked == 1) & (maskedResult == 1), 1, 0)\n",
        "tn = np.where((waterMasked == 0) & (maskedResult == 0), 1, 0)\n",
        "fp = np.where((waterMasked == 0) & (maskedResult == 1), 1, 0)\n",
        "fn = np.where((waterMasked == 1) & (maskedResult == 0), 1, 0)\n",
        "total = np.count_nonzero(waterMasked == 1) + np.count_nonzero(waterMasked == 0)\n",
        "truePositives = np.count_nonzero(tp == 1)\n",
        "trueNegatives = np.count_nonzero(tn == 1)\n",
        "falsePositives = np.count_nonzero(fp == 1)\n",
        "falseNegatives = np.count_nonzero(fn == 1)\n",
        "accuracy = (truePositives + trueNegatives) / (truePositives + trueNegatives + falsePositives + falseNegatives)\n",
        "jians = truePositives / (truePositives + trueNegatives)\n",
        "pc = truePositives / (truePositives + falsePositives)\n",
        "rc = truePositives / (truePositives + falseNegatives)\n",
        "f1 = truePositives / (truePositives + (0.5*(falsePositives + falseNegatives)))\n",
        "mcc_denom_nosqrt = (truePositives+falsePositives)*(truePositives+falseNegatives)*(trueNegatives+falsePositives)*(trueNegatives+falseNegatives)\n",
        "mcc_numerator = (truePositives*trueNegatives) - (falsePositives*falseNegatives)\n",
        "mcc = mcc_numerator/math.sqrt(mcc_denom_nosqrt)"
      ]
    },
    {
      "cell_type": "code",
      "execution_count": null,
      "metadata": {
        "id": "5v3zs-vgZyZI"
      },
      "outputs": [],
      "source": [
        "countNoData = np.count_nonzero(maskedResult == 255)\n",
        "countLand = np.count_nonzero(maskedResult == 0)\n",
        "countWater = np.count_nonzero(maskedResult == 1)\n",
        "print('Predicted\\n Nodata occurences: {}\\n Land occurance: {}\\n Water occurances: {}'.format(countNoData, countLand, countWater))"
      ]
    },
    {
      "cell_type": "code",
      "execution_count": null,
      "metadata": {
        "id": "QRwcI3fVZyZJ"
      },
      "outputs": [],
      "source": [
        "countNoDataT = np.count_nonzero(waterMasked == 255)\n",
        "countLandT = np.count_nonzero(waterMasked == 0)\n",
        "countWaterT = np.count_nonzero(waterMasked == 1)\n",
        "print('Truth Vals\\n Nodata occurences: {}\\n Land occurance: {}\\n Water occurances: {}'.format(countNoDataT, countLandT, countWaterT))"
      ]
    },
    {
      "cell_type": "markdown",
      "metadata": {
        "id": "51hX0Vy6ZyZJ"
      },
      "source": [
        "### Model metrics on raster data"
      ]
    },
    {
      "cell_type": "code",
      "execution_count": null,
      "metadata": {
        "id": "_T-LOwmoZyZJ"
      },
      "outputs": [],
      "source": [
        "print('Metrics of Accuracy for Raster Test Data')\n",
        "print('True Positives:  {}'.format(truePositives))\n",
        "print('True Negatives:  {}'.format(trueNegatives))\n",
        "print('False Positives: {}'.format(falsePositives))\n",
        "print('False Negatives: {}'.format(falseNegatives))\n",
        "print('Total \"good\" data: {}'.format(total))\n",
        "print('Accuracy*: {}'.format(accuracy))\n",
        "print('Precision: {}'.format(pc))\n",
        "print('Recall: {}'.format(rc))\n",
        "print('f1: {}'.format(f1))\n",
        "print('MCC: {}'.format(mcc))"
      ]
    },
    {
      "cell_type": "markdown",
      "metadata": {
        "id": "THFwnHYsZyZJ"
      },
      "source": [
        "## Output predicted raster to GeoTiff"
      ]
    },
    {
      "cell_type": "code",
      "execution_count": null,
      "metadata": {
        "id": "EzVrkBZTZyZJ"
      },
      "outputs": [],
      "source": [
        "outPath = os.path.join(RASTER_OUTPUT_DIR, '{}_{}_{}_predicted_{}.tif'.format(YEAR, DAY, TILE, MODEL))\n",
        "waterMaskForDay = os.path.join(RASTER_OUTPUT_DIR, 'waterMask_{}_qa_{}.tif'.format(YEAR, DAY, TILE, MODEL))\n",
        "outPathProba = os.path.join(RASTER_OUTPUT_DIR, '{}_{}_{}_predicted_probabilities_{}.tif'.format(YEAR, DAY, TILE, MODEL))\n",
        "print(outPath)\n",
        "print(waterMaskForDay)\n",
        "print(outPathProba)\n",
        "\n",
        "ds = gdal.Open(vars_list[0], gdal.GA_ReadOnly)\n",
        "geo = ds.GetGeoTransform()\n",
        "proj = ds.GetProjection()\n",
        "ncols = ds.RasterXSize\n",
        "nrows = ds.RasterYSize\n",
        "print('Transform')\n",
        "print(geo)\n",
        "print('Projection')\n",
        "print(proj)\n",
        "print('Width')\n",
        "print(ncols)\n",
        "print('Height')\n",
        "print(nrows)\n",
        "ds = None\n",
        "\n",
        "# Output predicted binary raster masked with good-bad mask.\n",
        "driver = gdal.GetDriverByName('GTiff')\n",
        "outDs = driver.Create(outPath, ncols, nrows, 1, gdal.GDT_Float32, options=['COMPRESS=LZW'])\n",
        "outDs.SetGeoTransform(geo)\n",
        "outDs.SetProjection(proj)\n",
        "outBand = outDs.GetRasterBand(1)\n",
        "outBand.WriteArray(maskedResult)\n",
        "outBand.SetNoDataValue(255)\n",
        "outDs.FlushCache()\n",
        "outDs = None\n",
        "outBand = None\n",
        "driver = None\n",
        "\n",
        "# Output water mask with good-bad masked.\n",
        "driver = gdal.GetDriverByName('GTiff')\n",
        "outDs = driver.Create(waterMaskForDay, ncols, nrows, 1, gdal.GDT_Int16, options=['COMPRESS=LZW'])\n",
        "outDs.SetGeoTransform(geo)\n",
        "outDs.SetProjection(proj)\n",
        "outBand = outDs.GetRasterBand(1)\n",
        "outBand.WriteArray(waterMasked)\n",
        "outBand.SetNoDataValue(255)\n",
        "outDs.FlushCache()\n",
        "outDs = None\n",
        "outBand = None\n",
        "driver = None"
      ]
    },
    {
      "cell_type": "code",
      "execution_count": null,
      "metadata": {
        "id": "W78e-0HMZyZJ"
      },
      "outputs": [],
      "source": [
        "import folium\n",
        "from folium import plugins\n",
        "import glob\n",
        "import numpy as np\n",
        "import os\n",
        "import rasterio as rio\n",
        "import tempfile\n",
        "\n",
        "from rasterio.warp import calculate_default_transform, reproject, Resampling\n",
        "from pyproj import Transformer "
      ]
    },
    {
      "cell_type": "code",
      "execution_count": null,
      "metadata": {
        "id": "x6GP26U1ZyZJ"
      },
      "outputs": [],
      "source": [
        "# -----------------------------------------------------------------------------\n",
        "# Uses rasterio to open a raster, get the metadata and crs\n",
        "# associated with it and get all the subdatasets in the file.\n",
        "# This is very useful for hdf files such as MODIS hdfs.\n",
        "# -----------------------------------------------------------------------------\n",
        "def print_subdatasets(filename):\n",
        "    bands_to_return = []\n",
        "    with rio.open(filename) as dataset:\n",
        "        meta_data = dataset.meta\n",
        "        crs = dataset.read_crs()\n",
        "        \n",
        "        print([name for name in dataset.subdatasets if search_term in name])\n",
        "\n",
        "# -----------------------------------------------------------------------------\n",
        "# Gets a tiff that has the correct metadata for that tile, gets the metadata\n",
        "# from the source tif and copies to a destination tiff. \n",
        "# -----------------------------------------------------------------------------     \n",
        "def add_metadata_to_annual_product(filepath, model_type, year, tile):\n",
        "    metadata_pull_src = [fv for fv in glob.glob(os.path.join(filepath, \"{}-1*-{}-MOD-*.tif\".format(year, tile)))][0]\n",
        "    with rio.open(metadata_pull_src) as src:\n",
        "        src_meta = src.meta\n",
        "    dst_tiffs = [os.path.join(filepath, fn) for fn in os.listdir(filepath) if \"{0}-{1}\".format(year, tile) in os.path.basename(fn)]\n",
        "    [copy_meta(dst_tiff, src_meta, metadata_pull_src) for dst_tiff in dst_tiffs]\n",
        "\n",
        "# -----------------------------------------------------------------------------\n",
        "# Given a path to a tiff with no metadata, assign the metadata given to that\n",
        "# tiff.\n",
        "# -----------------------------------------------------------------------------     \n",
        "def copy_meta(dst_path, src_meta, src_name):\n",
        "    print('Copying metadata from {} to {}'.format(src_name, dst_path))\n",
        "    with rio.open(dst_path, 'r+') as dst:\n",
        "        dst.crs = src_meta['crs']\n",
        "        dst.transform = src_meta['transform']        \n",
        "\n",
        "# -----------------------------------------------------------------------------\n",
        "# Given a tiff file as input, open the tiff and get the transform needed to\n",
        "# reproject from the tiff's source crs to the one we want (EPSG:3857).\n",
        "# For each band in the tiff, open then reproject it into the desired crs\n",
        "# then write to a temporary file. Return the path to the temp file.\n",
        "# -----------------------------------------------------------------------------\n",
        "def reproject_to_3857(input_tiff):\n",
        "    # Set desitnation CRS\n",
        "    dst_crs = f\"EPSG:3857\"\n",
        "\n",
        "    # set out path\n",
        "    out_path_rproj = os.path.join(tempfile.gettempdir(), input_tiff.split('/')[-1].replace('.tif','-3857.tif'))\n",
        "\n",
        "    with rio.open(input_tiff) as src:\n",
        "        # get src bounds and transform\n",
        "        transform, width, height = calculate_default_transform(src.crs, dst_crs, src.width, src.height, *src.bounds)\n",
        "        print('Transform: {}'.format(transform))\n",
        "        print('Width: {} Height: {}'.format(width, height))\n",
        "        kwargs = src.meta.copy()\n",
        "        kwargs.update({'crs': dst_crs,\n",
        "                   'transform': transform,\n",
        "                   'width': width,\n",
        "                   'height': height})\n",
        "    \n",
        "        # reproject and write to file\n",
        "        with rio.open(out_path_rproj, 'w', **kwargs) as dst:\n",
        "            for i in range(1, src.count + 1):\n",
        "                reproject(source=rio.band(src, i),\n",
        "                      destination=rio.band(dst, i),\n",
        "                      src_transform=src.transform,\n",
        "                      src_crs=src.crs,\n",
        "                      dst_transform=transform,\n",
        "                      dst_crs=dst_crs,\n",
        "                      resampling=Resampling.nearest)\n",
        "    return out_path_rproj\n",
        "\n",
        "# -----------------------------------------------------------------------------\n",
        "# In order for folium to work properly we need to pass it the bounding box\n",
        "# of the tiff in the form of lat and lon. This is done by using rasterio.\n",
        "# -----------------------------------------------------------------------------\n",
        "def get_bounds(tiff_3857):\n",
        "    with rio.open(tiff_3857) as src:\n",
        "        src_crs = src.crs['init'].upper()\n",
        "        min_lon, min_lat, max_lon, max_lat = src.bounds\n",
        "    bounds_orig = [[min_lat, min_lon], [max_lat, max_lon]]\n",
        "    bounds = []\n",
        "    dst_crs = 'EPSG:4326'\n",
        "    for item in bounds_orig:   \n",
        "        #converting to lat/lon\n",
        "        lat = item[0]\n",
        "        lon = item[1]\n",
        "        proj = Transformer.from_crs(int(src_crs.split(\":\")[1]), int(dst_crs.split(\":\")[1]), always_xy=True)\n",
        "        lon_n, lat_n = proj.transform(lon, lat)\n",
        "        bounds.append([lat_n, lon_n])\n",
        "    center_lon = bounds[0][1] + (bounds[1][1] - bounds[0][1])/2\n",
        "    center_lat = bounds[0][0] + (bounds[1][0] - bounds[0][0])/2\n",
        "    return {'bounds': bounds, 'center': (center_lon, center_lat)}\n",
        "\n",
        "# -----------------------------------------------------------------------------\n",
        "# Use rasterio to open and read in the desired band name as a nd-array.\n",
        "# -----------------------------------------------------------------------------\n",
        "def open_and_get_band(file_name, band_num=1):\n",
        "    with rio.open(file_name) as data:\n",
        "        b = data.read(band_num)\n",
        "    return b\n",
        "\n",
        "# -----------------------------------------------------------------------------\n",
        "# Given an nd-array (band) and the bounds in lat lon of the nd-array, return\n",
        "# a folium layer. To add on the map.\n",
        "# -----------------------------------------------------------------------------\n",
        "def get_overlay(band, meta_dict, name, opacity=1.0, show=True):\n",
        "    return folium.raster_layers.ImageOverlay(band, \n",
        "                                             bounds=meta_dict['bounds'], \n",
        "                                             name=name, \n",
        "                                             opacity=opacity, \n",
        "                                             show=show)\n",
        "\n",
        "# -----------------------------------------------------------------------------\n",
        "# We don't need to keep those temp files we made for the reprojections around.\n",
        "# -----------------------------------------------------------------------------\n",
        "def cleanup(filename):\n",
        "    if os.path.exists(filename):\n",
        "        os.remove(filename)\n",
        "    else:\n",
        "        print('No file: {} exists.'.format(filename))"
      ]
    },
    {
      "cell_type": "code",
      "execution_count": null,
      "metadata": {
        "id": "IOc6bv12ZyZJ"
      },
      "outputs": [],
      "source": [
        "outPath"
      ]
    },
    {
      "cell_type": "code",
      "execution_count": null,
      "metadata": {
        "id": "KTxeRr_jZyZJ"
      },
      "outputs": [],
      "source": [
        "mask_3857 = reproject_to_3857(outPath)\n",
        "mod44_3857 = reproject_to_3857(water_mask_path)\n",
        "qa_3857 = reproject_to_3857(qa_mask_path)\n",
        "\n",
        "mask_d = get_bounds(mask_3857)\n",
        "mod44_d = get_bounds(mod44_3857)\n",
        "qa_d = get_bounds(qa_3857)\n",
        "\n",
        "mask_b1 = open_and_get_band(mask_3857, 1)\n",
        "mask_b1 = np.where(mask_b1 == 255, 0, mask_b1)\n",
        "mod44_b1 = open_and_get_band(mod44_3857, 1)\n",
        "mod44_b1 = np.where(mod44_b1 == 255, 0, mod44_b1)\n",
        "qa_b1 = open_and_get_band(qa_3857, 1)\n",
        "\n",
        "cleanup(mask_3857)\n",
        "cleanup(mod44_3857)\n",
        "cleanup(qa_3857)\n",
        "\n",
        "zeros = np.zeros_like(mask_b1)\n",
        "mask_rgba = np.dstack((mask_b1, zeros, zeros, mask_b1))\n",
        "mod44_rgba = np.dstack((zeros, mod44_b1, zeros, mod44_b1))\n",
        "qa_rgba = np.dstack((qa_b1, qa_b1, qa_b1, qa_b1))"
      ]
    },
    {
      "cell_type": "code",
      "execution_count": null,
      "metadata": {
        "id": "j4dtOF7vZyZJ"
      },
      "outputs": [],
      "source": [
        "m = folium.Map(location=[mask_d['center'][1], mask_d['center'][0]],\n",
        "                   tiles='https://mt1.google.com/vt/lyrs=s&x={x}&y={y}&z={z}', zoom_start = 6, attr='Google', control_scale=True)"
      ]
    },
    {
      "cell_type": "code",
      "execution_count": null,
      "metadata": {
        "id": "LGBPR2LTZyZJ"
      },
      "outputs": [],
      "source": [
        "m.add_child(get_overlay(mask_rgba, mask_d, '{}-{}-{} model water mask'.format(YEAR, DAY, TILE), opacity=0.8))\n",
        "m.add_child(get_overlay(mod44_rgba, mod44_d, '{} {} MOD44W mask'.format(TILE, YEAR), opacity=0.8, show=False))\n",
        "m.add_child(get_overlay(qa_rgba, qa_d, '{}-{}-{} MW QA mask'.format(YEAR, DAY, TILE), opacity=0.8, show=False))\n",
        "m.add_child(plugins.MousePosition())\n",
        "m.add_child(plugins.MeasureControl())\n",
        "m.add_child(folium.LayerControl())"
      ]
    },
    {
      "cell_type": "code",
      "execution_count": null,
      "metadata": {
        "id": "bV27w3bqZyZJ"
      },
      "outputs": [],
      "source": []
    }
  ],
  "metadata": {
    "kernelspec": {
      "display_name": "ILAB Kernel",
      "language": "python",
      "name": "ilab-kernel"
    },
    "language_info": {
      "codemirror_mode": {
        "name": "ipython",
        "version": 3
      },
      "file_extension": ".py",
      "mimetype": "text/x-python",
      "name": "python",
      "nbconvert_exporter": "python",
      "pygments_lexer": "ipython3",
      "version": "3.9.13"
    },
    "colab": {
      "provenance": []
    }
  },
  "nbformat": 4,
  "nbformat_minor": 0
}